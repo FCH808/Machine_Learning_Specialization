{
 "cells": [
  {
   "cell_type": "markdown",
   "metadata": {},
   "source": [
    "#Fire up graphlab create"
   ]
  },
  {
   "cell_type": "code",
   "execution_count": 1,
   "metadata": {
    "collapsed": false
   },
   "outputs": [
    {
     "ename": "ImportError",
     "evalue": "No module named graphlab",
     "output_type": "error",
     "traceback": [
      "\u001b[1;31m---------------------------------------------------------------------------\u001b[0m",
      "\u001b[1;31mImportError\u001b[0m                               Traceback (most recent call last)",
      "\u001b[1;32m<ipython-input-1-4b66ad388e97>\u001b[0m in \u001b[0;36m<module>\u001b[1;34m()\u001b[0m\n\u001b[1;32m----> 1\u001b[1;33m \u001b[1;32mimport\u001b[0m \u001b[0mgraphlab\u001b[0m\u001b[1;33m\u001b[0m\u001b[0m\n\u001b[0m",
      "\u001b[1;31mImportError\u001b[0m: No module named graphlab"
     ]
    }
   ],
   "source": [
    "import graphlab"
   ]
  },
  {
   "cell_type": "markdown",
   "metadata": {},
   "source": [
    "#Load some house sales data\n",
    "\n",
    "Dataset is from house sales in King County, the region where the city of Seattle, WA is located."
   ]
  },
  {
   "cell_type": "code",
   "execution_count": 2,
   "metadata": {
    "collapsed": false
   },
   "outputs": [
    {
     "name": "stderr",
     "output_type": "stream",
     "text": [
      "[INFO] This commercial license of GraphLab Create is assigned to engr@dato.com.\n",
      "\n",
      "[INFO] Start server at: ipc:///tmp/graphlab_server-7977 - Server binary: /home/ubuntu/anaconda/lib/python2.7/site-packages/graphlab/unity_server - Server log: /tmp/graphlab_server_1440390329.log\n",
      "[INFO] GraphLab Server Version: 1.5.2\n"
     ]
    }
   ],
   "source": [
    "sales = graphlab.SFrame('home_data.gl/')"
   ]
  },
  {
   "cell_type": "code",
   "execution_count": 3,
   "metadata": {
    "collapsed": false
   },
   "outputs": [
    {
     "data": {
      "text/html": [
       "<div style=\"max-height:1000px;max-width:1500px;overflow:auto;\"><table frame=\"box\" rules=\"cols\">\n",
       "    <tr>\n",
       "        <th style=\"padding-left: 1em; padding-right: 1em; text-align: center\">id</th>\n",
       "        <th style=\"padding-left: 1em; padding-right: 1em; text-align: center\">date</th>\n",
       "        <th style=\"padding-left: 1em; padding-right: 1em; text-align: center\">price</th>\n",
       "        <th style=\"padding-left: 1em; padding-right: 1em; text-align: center\">bedrooms</th>\n",
       "        <th style=\"padding-left: 1em; padding-right: 1em; text-align: center\">bathrooms</th>\n",
       "        <th style=\"padding-left: 1em; padding-right: 1em; text-align: center\">sqft_living</th>\n",
       "        <th style=\"padding-left: 1em; padding-right: 1em; text-align: center\">sqft_lot</th>\n",
       "        <th style=\"padding-left: 1em; padding-right: 1em; text-align: center\">floors</th>\n",
       "        <th style=\"padding-left: 1em; padding-right: 1em; text-align: center\">waterfront</th>\n",
       "    </tr>\n",
       "    <tr>\n",
       "        <td style=\"padding-left: 1em; padding-right: 1em; text-align: center; vertical-align: top\">7129300520</td>\n",
       "        <td style=\"padding-left: 1em; padding-right: 1em; text-align: center; vertical-align: top\">2014-10-13 00:00:00+00:00</td>\n",
       "        <td style=\"padding-left: 1em; padding-right: 1em; text-align: center; vertical-align: top\">221900</td>\n",
       "        <td style=\"padding-left: 1em; padding-right: 1em; text-align: center; vertical-align: top\">3</td>\n",
       "        <td style=\"padding-left: 1em; padding-right: 1em; text-align: center; vertical-align: top\">1</td>\n",
       "        <td style=\"padding-left: 1em; padding-right: 1em; text-align: center; vertical-align: top\">1180</td>\n",
       "        <td style=\"padding-left: 1em; padding-right: 1em; text-align: center; vertical-align: top\">5650</td>\n",
       "        <td style=\"padding-left: 1em; padding-right: 1em; text-align: center; vertical-align: top\">1</td>\n",
       "        <td style=\"padding-left: 1em; padding-right: 1em; text-align: center; vertical-align: top\">0</td>\n",
       "    </tr>\n",
       "    <tr>\n",
       "        <td style=\"padding-left: 1em; padding-right: 1em; text-align: center; vertical-align: top\">6414100192</td>\n",
       "        <td style=\"padding-left: 1em; padding-right: 1em; text-align: center; vertical-align: top\">2014-12-09 00:00:00+00:00</td>\n",
       "        <td style=\"padding-left: 1em; padding-right: 1em; text-align: center; vertical-align: top\">538000</td>\n",
       "        <td style=\"padding-left: 1em; padding-right: 1em; text-align: center; vertical-align: top\">3</td>\n",
       "        <td style=\"padding-left: 1em; padding-right: 1em; text-align: center; vertical-align: top\">2.25</td>\n",
       "        <td style=\"padding-left: 1em; padding-right: 1em; text-align: center; vertical-align: top\">2570</td>\n",
       "        <td style=\"padding-left: 1em; padding-right: 1em; text-align: center; vertical-align: top\">7242</td>\n",
       "        <td style=\"padding-left: 1em; padding-right: 1em; text-align: center; vertical-align: top\">2</td>\n",
       "        <td style=\"padding-left: 1em; padding-right: 1em; text-align: center; vertical-align: top\">0</td>\n",
       "    </tr>\n",
       "    <tr>\n",
       "        <td style=\"padding-left: 1em; padding-right: 1em; text-align: center; vertical-align: top\">5631500400</td>\n",
       "        <td style=\"padding-left: 1em; padding-right: 1em; text-align: center; vertical-align: top\">2015-02-25 00:00:00+00:00</td>\n",
       "        <td style=\"padding-left: 1em; padding-right: 1em; text-align: center; vertical-align: top\">180000</td>\n",
       "        <td style=\"padding-left: 1em; padding-right: 1em; text-align: center; vertical-align: top\">2</td>\n",
       "        <td style=\"padding-left: 1em; padding-right: 1em; text-align: center; vertical-align: top\">1</td>\n",
       "        <td style=\"padding-left: 1em; padding-right: 1em; text-align: center; vertical-align: top\">770</td>\n",
       "        <td style=\"padding-left: 1em; padding-right: 1em; text-align: center; vertical-align: top\">10000</td>\n",
       "        <td style=\"padding-left: 1em; padding-right: 1em; text-align: center; vertical-align: top\">1</td>\n",
       "        <td style=\"padding-left: 1em; padding-right: 1em; text-align: center; vertical-align: top\">0</td>\n",
       "    </tr>\n",
       "    <tr>\n",
       "        <td style=\"padding-left: 1em; padding-right: 1em; text-align: center; vertical-align: top\">2487200875</td>\n",
       "        <td style=\"padding-left: 1em; padding-right: 1em; text-align: center; vertical-align: top\">2014-12-09 00:00:00+00:00</td>\n",
       "        <td style=\"padding-left: 1em; padding-right: 1em; text-align: center; vertical-align: top\">604000</td>\n",
       "        <td style=\"padding-left: 1em; padding-right: 1em; text-align: center; vertical-align: top\">4</td>\n",
       "        <td style=\"padding-left: 1em; padding-right: 1em; text-align: center; vertical-align: top\">3</td>\n",
       "        <td style=\"padding-left: 1em; padding-right: 1em; text-align: center; vertical-align: top\">1960</td>\n",
       "        <td style=\"padding-left: 1em; padding-right: 1em; text-align: center; vertical-align: top\">5000</td>\n",
       "        <td style=\"padding-left: 1em; padding-right: 1em; text-align: center; vertical-align: top\">1</td>\n",
       "        <td style=\"padding-left: 1em; padding-right: 1em; text-align: center; vertical-align: top\">0</td>\n",
       "    </tr>\n",
       "    <tr>\n",
       "        <td style=\"padding-left: 1em; padding-right: 1em; text-align: center; vertical-align: top\">1954400510</td>\n",
       "        <td style=\"padding-left: 1em; padding-right: 1em; text-align: center; vertical-align: top\">2015-02-18 00:00:00+00:00</td>\n",
       "        <td style=\"padding-left: 1em; padding-right: 1em; text-align: center; vertical-align: top\">510000</td>\n",
       "        <td style=\"padding-left: 1em; padding-right: 1em; text-align: center; vertical-align: top\">3</td>\n",
       "        <td style=\"padding-left: 1em; padding-right: 1em; text-align: center; vertical-align: top\">2</td>\n",
       "        <td style=\"padding-left: 1em; padding-right: 1em; text-align: center; vertical-align: top\">1680</td>\n",
       "        <td style=\"padding-left: 1em; padding-right: 1em; text-align: center; vertical-align: top\">8080</td>\n",
       "        <td style=\"padding-left: 1em; padding-right: 1em; text-align: center; vertical-align: top\">1</td>\n",
       "        <td style=\"padding-left: 1em; padding-right: 1em; text-align: center; vertical-align: top\">0</td>\n",
       "    </tr>\n",
       "    <tr>\n",
       "        <td style=\"padding-left: 1em; padding-right: 1em; text-align: center; vertical-align: top\">7237550310</td>\n",
       "        <td style=\"padding-left: 1em; padding-right: 1em; text-align: center; vertical-align: top\">2014-05-12 00:00:00+00:00</td>\n",
       "        <td style=\"padding-left: 1em; padding-right: 1em; text-align: center; vertical-align: top\">1225000</td>\n",
       "        <td style=\"padding-left: 1em; padding-right: 1em; text-align: center; vertical-align: top\">4</td>\n",
       "        <td style=\"padding-left: 1em; padding-right: 1em; text-align: center; vertical-align: top\">4.5</td>\n",
       "        <td style=\"padding-left: 1em; padding-right: 1em; text-align: center; vertical-align: top\">5420</td>\n",
       "        <td style=\"padding-left: 1em; padding-right: 1em; text-align: center; vertical-align: top\">101930</td>\n",
       "        <td style=\"padding-left: 1em; padding-right: 1em; text-align: center; vertical-align: top\">1</td>\n",
       "        <td style=\"padding-left: 1em; padding-right: 1em; text-align: center; vertical-align: top\">0</td>\n",
       "    </tr>\n",
       "    <tr>\n",
       "        <td style=\"padding-left: 1em; padding-right: 1em; text-align: center; vertical-align: top\">1321400060</td>\n",
       "        <td style=\"padding-left: 1em; padding-right: 1em; text-align: center; vertical-align: top\">2014-06-27 00:00:00+00:00</td>\n",
       "        <td style=\"padding-left: 1em; padding-right: 1em; text-align: center; vertical-align: top\">257500</td>\n",
       "        <td style=\"padding-left: 1em; padding-right: 1em; text-align: center; vertical-align: top\">3</td>\n",
       "        <td style=\"padding-left: 1em; padding-right: 1em; text-align: center; vertical-align: top\">2.25</td>\n",
       "        <td style=\"padding-left: 1em; padding-right: 1em; text-align: center; vertical-align: top\">1715</td>\n",
       "        <td style=\"padding-left: 1em; padding-right: 1em; text-align: center; vertical-align: top\">6819</td>\n",
       "        <td style=\"padding-left: 1em; padding-right: 1em; text-align: center; vertical-align: top\">2</td>\n",
       "        <td style=\"padding-left: 1em; padding-right: 1em; text-align: center; vertical-align: top\">0</td>\n",
       "    </tr>\n",
       "    <tr>\n",
       "        <td style=\"padding-left: 1em; padding-right: 1em; text-align: center; vertical-align: top\">2008000270</td>\n",
       "        <td style=\"padding-left: 1em; padding-right: 1em; text-align: center; vertical-align: top\">2015-01-15 00:00:00+00:00</td>\n",
       "        <td style=\"padding-left: 1em; padding-right: 1em; text-align: center; vertical-align: top\">291850</td>\n",
       "        <td style=\"padding-left: 1em; padding-right: 1em; text-align: center; vertical-align: top\">3</td>\n",
       "        <td style=\"padding-left: 1em; padding-right: 1em; text-align: center; vertical-align: top\">1.5</td>\n",
       "        <td style=\"padding-left: 1em; padding-right: 1em; text-align: center; vertical-align: top\">1060</td>\n",
       "        <td style=\"padding-left: 1em; padding-right: 1em; text-align: center; vertical-align: top\">9711</td>\n",
       "        <td style=\"padding-left: 1em; padding-right: 1em; text-align: center; vertical-align: top\">1</td>\n",
       "        <td style=\"padding-left: 1em; padding-right: 1em; text-align: center; vertical-align: top\">0</td>\n",
       "    </tr>\n",
       "    <tr>\n",
       "        <td style=\"padding-left: 1em; padding-right: 1em; text-align: center; vertical-align: top\">2414600126</td>\n",
       "        <td style=\"padding-left: 1em; padding-right: 1em; text-align: center; vertical-align: top\">2015-04-15 00:00:00+00:00</td>\n",
       "        <td style=\"padding-left: 1em; padding-right: 1em; text-align: center; vertical-align: top\">229500</td>\n",
       "        <td style=\"padding-left: 1em; padding-right: 1em; text-align: center; vertical-align: top\">3</td>\n",
       "        <td style=\"padding-left: 1em; padding-right: 1em; text-align: center; vertical-align: top\">1</td>\n",
       "        <td style=\"padding-left: 1em; padding-right: 1em; text-align: center; vertical-align: top\">1780</td>\n",
       "        <td style=\"padding-left: 1em; padding-right: 1em; text-align: center; vertical-align: top\">7470</td>\n",
       "        <td style=\"padding-left: 1em; padding-right: 1em; text-align: center; vertical-align: top\">1</td>\n",
       "        <td style=\"padding-left: 1em; padding-right: 1em; text-align: center; vertical-align: top\">0</td>\n",
       "    </tr>\n",
       "    <tr>\n",
       "        <td style=\"padding-left: 1em; padding-right: 1em; text-align: center; vertical-align: top\">3793500160</td>\n",
       "        <td style=\"padding-left: 1em; padding-right: 1em; text-align: center; vertical-align: top\">2015-03-12 00:00:00+00:00</td>\n",
       "        <td style=\"padding-left: 1em; padding-right: 1em; text-align: center; vertical-align: top\">323000</td>\n",
       "        <td style=\"padding-left: 1em; padding-right: 1em; text-align: center; vertical-align: top\">3</td>\n",
       "        <td style=\"padding-left: 1em; padding-right: 1em; text-align: center; vertical-align: top\">2.5</td>\n",
       "        <td style=\"padding-left: 1em; padding-right: 1em; text-align: center; vertical-align: top\">1890</td>\n",
       "        <td style=\"padding-left: 1em; padding-right: 1em; text-align: center; vertical-align: top\">6560</td>\n",
       "        <td style=\"padding-left: 1em; padding-right: 1em; text-align: center; vertical-align: top\">2</td>\n",
       "        <td style=\"padding-left: 1em; padding-right: 1em; text-align: center; vertical-align: top\">0</td>\n",
       "    </tr>\n",
       "</table>\n",
       "<table frame=\"box\" rules=\"cols\">\n",
       "    <tr>\n",
       "        <th style=\"padding-left: 1em; padding-right: 1em; text-align: center\">view</th>\n",
       "        <th style=\"padding-left: 1em; padding-right: 1em; text-align: center\">condition</th>\n",
       "        <th style=\"padding-left: 1em; padding-right: 1em; text-align: center\">grade</th>\n",
       "        <th style=\"padding-left: 1em; padding-right: 1em; text-align: center\">sqft_above</th>\n",
       "        <th style=\"padding-left: 1em; padding-right: 1em; text-align: center\">sqft_basement</th>\n",
       "        <th style=\"padding-left: 1em; padding-right: 1em; text-align: center\">yr_built</th>\n",
       "        <th style=\"padding-left: 1em; padding-right: 1em; text-align: center\">yr_renovated</th>\n",
       "        <th style=\"padding-left: 1em; padding-right: 1em; text-align: center\">zipcode</th>\n",
       "        <th style=\"padding-left: 1em; padding-right: 1em; text-align: center\">lat</th>\n",
       "    </tr>\n",
       "    <tr>\n",
       "        <td style=\"padding-left: 1em; padding-right: 1em; text-align: center; vertical-align: top\">0</td>\n",
       "        <td style=\"padding-left: 1em; padding-right: 1em; text-align: center; vertical-align: top\">3</td>\n",
       "        <td style=\"padding-left: 1em; padding-right: 1em; text-align: center; vertical-align: top\">7</td>\n",
       "        <td style=\"padding-left: 1em; padding-right: 1em; text-align: center; vertical-align: top\">1180</td>\n",
       "        <td style=\"padding-left: 1em; padding-right: 1em; text-align: center; vertical-align: top\">0</td>\n",
       "        <td style=\"padding-left: 1em; padding-right: 1em; text-align: center; vertical-align: top\">1955</td>\n",
       "        <td style=\"padding-left: 1em; padding-right: 1em; text-align: center; vertical-align: top\">0</td>\n",
       "        <td style=\"padding-left: 1em; padding-right: 1em; text-align: center; vertical-align: top\">98178</td>\n",
       "        <td style=\"padding-left: 1em; padding-right: 1em; text-align: center; vertical-align: top\">47.51123398</td>\n",
       "    </tr>\n",
       "    <tr>\n",
       "        <td style=\"padding-left: 1em; padding-right: 1em; text-align: center; vertical-align: top\">0</td>\n",
       "        <td style=\"padding-left: 1em; padding-right: 1em; text-align: center; vertical-align: top\">3</td>\n",
       "        <td style=\"padding-left: 1em; padding-right: 1em; text-align: center; vertical-align: top\">7</td>\n",
       "        <td style=\"padding-left: 1em; padding-right: 1em; text-align: center; vertical-align: top\">2170</td>\n",
       "        <td style=\"padding-left: 1em; padding-right: 1em; text-align: center; vertical-align: top\">400</td>\n",
       "        <td style=\"padding-left: 1em; padding-right: 1em; text-align: center; vertical-align: top\">1951</td>\n",
       "        <td style=\"padding-left: 1em; padding-right: 1em; text-align: center; vertical-align: top\">1991</td>\n",
       "        <td style=\"padding-left: 1em; padding-right: 1em; text-align: center; vertical-align: top\">98125</td>\n",
       "        <td style=\"padding-left: 1em; padding-right: 1em; text-align: center; vertical-align: top\">47.72102274</td>\n",
       "    </tr>\n",
       "    <tr>\n",
       "        <td style=\"padding-left: 1em; padding-right: 1em; text-align: center; vertical-align: top\">0</td>\n",
       "        <td style=\"padding-left: 1em; padding-right: 1em; text-align: center; vertical-align: top\">3</td>\n",
       "        <td style=\"padding-left: 1em; padding-right: 1em; text-align: center; vertical-align: top\">6</td>\n",
       "        <td style=\"padding-left: 1em; padding-right: 1em; text-align: center; vertical-align: top\">770</td>\n",
       "        <td style=\"padding-left: 1em; padding-right: 1em; text-align: center; vertical-align: top\">0</td>\n",
       "        <td style=\"padding-left: 1em; padding-right: 1em; text-align: center; vertical-align: top\">1933</td>\n",
       "        <td style=\"padding-left: 1em; padding-right: 1em; text-align: center; vertical-align: top\">0</td>\n",
       "        <td style=\"padding-left: 1em; padding-right: 1em; text-align: center; vertical-align: top\">98028</td>\n",
       "        <td style=\"padding-left: 1em; padding-right: 1em; text-align: center; vertical-align: top\">47.73792661</td>\n",
       "    </tr>\n",
       "    <tr>\n",
       "        <td style=\"padding-left: 1em; padding-right: 1em; text-align: center; vertical-align: top\">0</td>\n",
       "        <td style=\"padding-left: 1em; padding-right: 1em; text-align: center; vertical-align: top\">5</td>\n",
       "        <td style=\"padding-left: 1em; padding-right: 1em; text-align: center; vertical-align: top\">7</td>\n",
       "        <td style=\"padding-left: 1em; padding-right: 1em; text-align: center; vertical-align: top\">1050</td>\n",
       "        <td style=\"padding-left: 1em; padding-right: 1em; text-align: center; vertical-align: top\">910</td>\n",
       "        <td style=\"padding-left: 1em; padding-right: 1em; text-align: center; vertical-align: top\">1965</td>\n",
       "        <td style=\"padding-left: 1em; padding-right: 1em; text-align: center; vertical-align: top\">0</td>\n",
       "        <td style=\"padding-left: 1em; padding-right: 1em; text-align: center; vertical-align: top\">98136</td>\n",
       "        <td style=\"padding-left: 1em; padding-right: 1em; text-align: center; vertical-align: top\">47.52082</td>\n",
       "    </tr>\n",
       "    <tr>\n",
       "        <td style=\"padding-left: 1em; padding-right: 1em; text-align: center; vertical-align: top\">0</td>\n",
       "        <td style=\"padding-left: 1em; padding-right: 1em; text-align: center; vertical-align: top\">3</td>\n",
       "        <td style=\"padding-left: 1em; padding-right: 1em; text-align: center; vertical-align: top\">8</td>\n",
       "        <td style=\"padding-left: 1em; padding-right: 1em; text-align: center; vertical-align: top\">1680</td>\n",
       "        <td style=\"padding-left: 1em; padding-right: 1em; text-align: center; vertical-align: top\">0</td>\n",
       "        <td style=\"padding-left: 1em; padding-right: 1em; text-align: center; vertical-align: top\">1987</td>\n",
       "        <td style=\"padding-left: 1em; padding-right: 1em; text-align: center; vertical-align: top\">0</td>\n",
       "        <td style=\"padding-left: 1em; padding-right: 1em; text-align: center; vertical-align: top\">98074</td>\n",
       "        <td style=\"padding-left: 1em; padding-right: 1em; text-align: center; vertical-align: top\">47.61681228</td>\n",
       "    </tr>\n",
       "    <tr>\n",
       "        <td style=\"padding-left: 1em; padding-right: 1em; text-align: center; vertical-align: top\">0</td>\n",
       "        <td style=\"padding-left: 1em; padding-right: 1em; text-align: center; vertical-align: top\">3</td>\n",
       "        <td style=\"padding-left: 1em; padding-right: 1em; text-align: center; vertical-align: top\">11</td>\n",
       "        <td style=\"padding-left: 1em; padding-right: 1em; text-align: center; vertical-align: top\">3890</td>\n",
       "        <td style=\"padding-left: 1em; padding-right: 1em; text-align: center; vertical-align: top\">1530</td>\n",
       "        <td style=\"padding-left: 1em; padding-right: 1em; text-align: center; vertical-align: top\">2001</td>\n",
       "        <td style=\"padding-left: 1em; padding-right: 1em; text-align: center; vertical-align: top\">0</td>\n",
       "        <td style=\"padding-left: 1em; padding-right: 1em; text-align: center; vertical-align: top\">98053</td>\n",
       "        <td style=\"padding-left: 1em; padding-right: 1em; text-align: center; vertical-align: top\">47.65611835</td>\n",
       "    </tr>\n",
       "    <tr>\n",
       "        <td style=\"padding-left: 1em; padding-right: 1em; text-align: center; vertical-align: top\">0</td>\n",
       "        <td style=\"padding-left: 1em; padding-right: 1em; text-align: center; vertical-align: top\">3</td>\n",
       "        <td style=\"padding-left: 1em; padding-right: 1em; text-align: center; vertical-align: top\">7</td>\n",
       "        <td style=\"padding-left: 1em; padding-right: 1em; text-align: center; vertical-align: top\">1715</td>\n",
       "        <td style=\"padding-left: 1em; padding-right: 1em; text-align: center; vertical-align: top\">0</td>\n",
       "        <td style=\"padding-left: 1em; padding-right: 1em; text-align: center; vertical-align: top\">1995</td>\n",
       "        <td style=\"padding-left: 1em; padding-right: 1em; text-align: center; vertical-align: top\">0</td>\n",
       "        <td style=\"padding-left: 1em; padding-right: 1em; text-align: center; vertical-align: top\">98003</td>\n",
       "        <td style=\"padding-left: 1em; padding-right: 1em; text-align: center; vertical-align: top\">47.30972002</td>\n",
       "    </tr>\n",
       "    <tr>\n",
       "        <td style=\"padding-left: 1em; padding-right: 1em; text-align: center; vertical-align: top\">0</td>\n",
       "        <td style=\"padding-left: 1em; padding-right: 1em; text-align: center; vertical-align: top\">3</td>\n",
       "        <td style=\"padding-left: 1em; padding-right: 1em; text-align: center; vertical-align: top\">7</td>\n",
       "        <td style=\"padding-left: 1em; padding-right: 1em; text-align: center; vertical-align: top\">1060</td>\n",
       "        <td style=\"padding-left: 1em; padding-right: 1em; text-align: center; vertical-align: top\">0</td>\n",
       "        <td style=\"padding-left: 1em; padding-right: 1em; text-align: center; vertical-align: top\">1963</td>\n",
       "        <td style=\"padding-left: 1em; padding-right: 1em; text-align: center; vertical-align: top\">0</td>\n",
       "        <td style=\"padding-left: 1em; padding-right: 1em; text-align: center; vertical-align: top\">98198</td>\n",
       "        <td style=\"padding-left: 1em; padding-right: 1em; text-align: center; vertical-align: top\">47.40949984</td>\n",
       "    </tr>\n",
       "    <tr>\n",
       "        <td style=\"padding-left: 1em; padding-right: 1em; text-align: center; vertical-align: top\">0</td>\n",
       "        <td style=\"padding-left: 1em; padding-right: 1em; text-align: center; vertical-align: top\">3</td>\n",
       "        <td style=\"padding-left: 1em; padding-right: 1em; text-align: center; vertical-align: top\">7</td>\n",
       "        <td style=\"padding-left: 1em; padding-right: 1em; text-align: center; vertical-align: top\">1050</td>\n",
       "        <td style=\"padding-left: 1em; padding-right: 1em; text-align: center; vertical-align: top\">730</td>\n",
       "        <td style=\"padding-left: 1em; padding-right: 1em; text-align: center; vertical-align: top\">1960</td>\n",
       "        <td style=\"padding-left: 1em; padding-right: 1em; text-align: center; vertical-align: top\">0</td>\n",
       "        <td style=\"padding-left: 1em; padding-right: 1em; text-align: center; vertical-align: top\">98146</td>\n",
       "        <td style=\"padding-left: 1em; padding-right: 1em; text-align: center; vertical-align: top\">47.51229381</td>\n",
       "    </tr>\n",
       "    <tr>\n",
       "        <td style=\"padding-left: 1em; padding-right: 1em; text-align: center; vertical-align: top\">0</td>\n",
       "        <td style=\"padding-left: 1em; padding-right: 1em; text-align: center; vertical-align: top\">3</td>\n",
       "        <td style=\"padding-left: 1em; padding-right: 1em; text-align: center; vertical-align: top\">7</td>\n",
       "        <td style=\"padding-left: 1em; padding-right: 1em; text-align: center; vertical-align: top\">1890</td>\n",
       "        <td style=\"padding-left: 1em; padding-right: 1em; text-align: center; vertical-align: top\">0</td>\n",
       "        <td style=\"padding-left: 1em; padding-right: 1em; text-align: center; vertical-align: top\">2003</td>\n",
       "        <td style=\"padding-left: 1em; padding-right: 1em; text-align: center; vertical-align: top\">0</td>\n",
       "        <td style=\"padding-left: 1em; padding-right: 1em; text-align: center; vertical-align: top\">98038</td>\n",
       "        <td style=\"padding-left: 1em; padding-right: 1em; text-align: center; vertical-align: top\">47.36840673</td>\n",
       "    </tr>\n",
       "</table>\n",
       "<table frame=\"box\" rules=\"cols\">\n",
       "    <tr>\n",
       "        <th style=\"padding-left: 1em; padding-right: 1em; text-align: center\">long</th>\n",
       "        <th style=\"padding-left: 1em; padding-right: 1em; text-align: center\">sqft_living15</th>\n",
       "        <th style=\"padding-left: 1em; padding-right: 1em; text-align: center\">sqft_lot15</th>\n",
       "    </tr>\n",
       "    <tr>\n",
       "        <td style=\"padding-left: 1em; padding-right: 1em; text-align: center; vertical-align: top\">-122.25677536</td>\n",
       "        <td style=\"padding-left: 1em; padding-right: 1em; text-align: center; vertical-align: top\">1340.0</td>\n",
       "        <td style=\"padding-left: 1em; padding-right: 1em; text-align: center; vertical-align: top\">5650.0</td>\n",
       "    </tr>\n",
       "    <tr>\n",
       "        <td style=\"padding-left: 1em; padding-right: 1em; text-align: center; vertical-align: top\">-122.3188624</td>\n",
       "        <td style=\"padding-left: 1em; padding-right: 1em; text-align: center; vertical-align: top\">1690.0</td>\n",
       "        <td style=\"padding-left: 1em; padding-right: 1em; text-align: center; vertical-align: top\">7639.0</td>\n",
       "    </tr>\n",
       "    <tr>\n",
       "        <td style=\"padding-left: 1em; padding-right: 1em; text-align: center; vertical-align: top\">-122.23319601</td>\n",
       "        <td style=\"padding-left: 1em; padding-right: 1em; text-align: center; vertical-align: top\">2720.0</td>\n",
       "        <td style=\"padding-left: 1em; padding-right: 1em; text-align: center; vertical-align: top\">8062.0</td>\n",
       "    </tr>\n",
       "    <tr>\n",
       "        <td style=\"padding-left: 1em; padding-right: 1em; text-align: center; vertical-align: top\">-122.39318505</td>\n",
       "        <td style=\"padding-left: 1em; padding-right: 1em; text-align: center; vertical-align: top\">1360.0</td>\n",
       "        <td style=\"padding-left: 1em; padding-right: 1em; text-align: center; vertical-align: top\">5000.0</td>\n",
       "    </tr>\n",
       "    <tr>\n",
       "        <td style=\"padding-left: 1em; padding-right: 1em; text-align: center; vertical-align: top\">-122.04490059</td>\n",
       "        <td style=\"padding-left: 1em; padding-right: 1em; text-align: center; vertical-align: top\">1800.0</td>\n",
       "        <td style=\"padding-left: 1em; padding-right: 1em; text-align: center; vertical-align: top\">7503.0</td>\n",
       "    </tr>\n",
       "    <tr>\n",
       "        <td style=\"padding-left: 1em; padding-right: 1em; text-align: center; vertical-align: top\">-122.00528655</td>\n",
       "        <td style=\"padding-left: 1em; padding-right: 1em; text-align: center; vertical-align: top\">4760.0</td>\n",
       "        <td style=\"padding-left: 1em; padding-right: 1em; text-align: center; vertical-align: top\">101930.0</td>\n",
       "    </tr>\n",
       "    <tr>\n",
       "        <td style=\"padding-left: 1em; padding-right: 1em; text-align: center; vertical-align: top\">-122.32704857</td>\n",
       "        <td style=\"padding-left: 1em; padding-right: 1em; text-align: center; vertical-align: top\">2238.0</td>\n",
       "        <td style=\"padding-left: 1em; padding-right: 1em; text-align: center; vertical-align: top\">6819.0</td>\n",
       "    </tr>\n",
       "    <tr>\n",
       "        <td style=\"padding-left: 1em; padding-right: 1em; text-align: center; vertical-align: top\">-122.31457273</td>\n",
       "        <td style=\"padding-left: 1em; padding-right: 1em; text-align: center; vertical-align: top\">1650.0</td>\n",
       "        <td style=\"padding-left: 1em; padding-right: 1em; text-align: center; vertical-align: top\">9711.0</td>\n",
       "    </tr>\n",
       "    <tr>\n",
       "        <td style=\"padding-left: 1em; padding-right: 1em; text-align: center; vertical-align: top\">-122.33659507</td>\n",
       "        <td style=\"padding-left: 1em; padding-right: 1em; text-align: center; vertical-align: top\">1780.0</td>\n",
       "        <td style=\"padding-left: 1em; padding-right: 1em; text-align: center; vertical-align: top\">8113.0</td>\n",
       "    </tr>\n",
       "    <tr>\n",
       "        <td style=\"padding-left: 1em; padding-right: 1em; text-align: center; vertical-align: top\">-122.0308176</td>\n",
       "        <td style=\"padding-left: 1em; padding-right: 1em; text-align: center; vertical-align: top\">2390.0</td>\n",
       "        <td style=\"padding-left: 1em; padding-right: 1em; text-align: center; vertical-align: top\">7570.0</td>\n",
       "    </tr>\n",
       "</table>\n",
       "[21613 rows x 21 columns]<br/>Note: Only the head of the SFrame is printed.<br/>You can use print_rows(num_rows=m, num_columns=n) to print more rows and columns.\n",
       "</div>"
      ],
      "text/plain": [
       "Columns:\n",
       "\tid\tstr\n",
       "\tdate\tdatetime\n",
       "\tprice\tint\n",
       "\tbedrooms\tstr\n",
       "\tbathrooms\tstr\n",
       "\tsqft_living\tint\n",
       "\tsqft_lot\tint\n",
       "\tfloors\tstr\n",
       "\twaterfront\tint\n",
       "\tview\tint\n",
       "\tcondition\tint\n",
       "\tgrade\tint\n",
       "\tsqft_above\tint\n",
       "\tsqft_basement\tint\n",
       "\tyr_built\tint\n",
       "\tyr_renovated\tint\n",
       "\tzipcode\tstr\n",
       "\tlat\tfloat\n",
       "\tlong\tfloat\n",
       "\tsqft_living15\tfloat\n",
       "\tsqft_lot15\tfloat\n",
       "\n",
       "Rows: 21613\n",
       "\n",
       "Data:\n",
       "+------------+---------------------------+---------+----------+-----------+-------------+\n",
       "|     id     |            date           |  price  | bedrooms | bathrooms | sqft_living |\n",
       "+------------+---------------------------+---------+----------+-----------+-------------+\n",
       "| 7129300520 | 2014-10-13 00:00:00+00:00 |  221900 |    3     |     1     |     1180    |\n",
       "| 6414100192 | 2014-12-09 00:00:00+00:00 |  538000 |    3     |    2.25   |     2570    |\n",
       "| 5631500400 | 2015-02-25 00:00:00+00:00 |  180000 |    2     |     1     |     770     |\n",
       "| 2487200875 | 2014-12-09 00:00:00+00:00 |  604000 |    4     |     3     |     1960    |\n",
       "| 1954400510 | 2015-02-18 00:00:00+00:00 |  510000 |    3     |     2     |     1680    |\n",
       "| 7237550310 | 2014-05-12 00:00:00+00:00 | 1225000 |    4     |    4.5    |     5420    |\n",
       "| 1321400060 | 2014-06-27 00:00:00+00:00 |  257500 |    3     |    2.25   |     1715    |\n",
       "| 2008000270 | 2015-01-15 00:00:00+00:00 |  291850 |    3     |    1.5    |     1060    |\n",
       "| 2414600126 | 2015-04-15 00:00:00+00:00 |  229500 |    3     |     1     |     1780    |\n",
       "| 3793500160 | 2015-03-12 00:00:00+00:00 |  323000 |    3     |    2.5    |     1890    |\n",
       "+------------+---------------------------+---------+----------+-----------+-------------+\n",
       "+----------+--------+------------+------+-----------+-------+------------+---------------+\n",
       "| sqft_lot | floors | waterfront | view | condition | grade | sqft_above | sqft_basement |\n",
       "+----------+--------+------------+------+-----------+-------+------------+---------------+\n",
       "|   5650   |   1    |     0      |  0   |     3     |   7   |    1180    |       0       |\n",
       "|   7242   |   2    |     0      |  0   |     3     |   7   |    2170    |      400      |\n",
       "|  10000   |   1    |     0      |  0   |     3     |   6   |    770     |       0       |\n",
       "|   5000   |   1    |     0      |  0   |     5     |   7   |    1050    |      910      |\n",
       "|   8080   |   1    |     0      |  0   |     3     |   8   |    1680    |       0       |\n",
       "|  101930  |   1    |     0      |  0   |     3     |   11  |    3890    |      1530     |\n",
       "|   6819   |   2    |     0      |  0   |     3     |   7   |    1715    |       0       |\n",
       "|   9711   |   1    |     0      |  0   |     3     |   7   |    1060    |       0       |\n",
       "|   7470   |   1    |     0      |  0   |     3     |   7   |    1050    |      730      |\n",
       "|   6560   |   2    |     0      |  0   |     3     |   7   |    1890    |       0       |\n",
       "+----------+--------+------------+------+-----------+-------+------------+---------------+\n",
       "+----------+--------------+---------+-------------+---------------+---------------+-----+\n",
       "| yr_built | yr_renovated | zipcode |     lat     |      long     | sqft_living15 | ... |\n",
       "+----------+--------------+---------+-------------+---------------+---------------+-----+\n",
       "|   1955   |      0       |  98178  | 47.51123398 | -122.25677536 |     1340.0    | ... |\n",
       "|   1951   |     1991     |  98125  | 47.72102274 |  -122.3188624 |     1690.0    | ... |\n",
       "|   1933   |      0       |  98028  | 47.73792661 | -122.23319601 |     2720.0    | ... |\n",
       "|   1965   |      0       |  98136  |   47.52082  | -122.39318505 |     1360.0    | ... |\n",
       "|   1987   |      0       |  98074  | 47.61681228 | -122.04490059 |     1800.0    | ... |\n",
       "|   2001   |      0       |  98053  | 47.65611835 | -122.00528655 |     4760.0    | ... |\n",
       "|   1995   |      0       |  98003  | 47.30972002 | -122.32704857 |     2238.0    | ... |\n",
       "|   1963   |      0       |  98198  | 47.40949984 | -122.31457273 |     1650.0    | ... |\n",
       "|   1960   |      0       |  98146  | 47.51229381 | -122.33659507 |     1780.0    | ... |\n",
       "|   2003   |      0       |  98038  | 47.36840673 |  -122.0308176 |     2390.0    | ... |\n",
       "+----------+--------------+---------+-------------+---------------+---------------+-----+\n",
       "[21613 rows x 21 columns]\n",
       "Note: Only the head of the SFrame is printed.\n",
       "You can use print_rows(num_rows=m, num_columns=n) to print more rows and columns."
      ]
     },
     "execution_count": 3,
     "metadata": {},
     "output_type": "execute_result"
    }
   ],
   "source": [
    "sales"
   ]
  },
  {
   "cell_type": "markdown",
   "metadata": {},
   "source": [
    "#Exploring the data for housing sales "
   ]
  },
  {
   "cell_type": "markdown",
   "metadata": {},
   "source": [
    "The house price is correlated with the number of square feet of living space."
   ]
  },
  {
   "cell_type": "code",
   "execution_count": 4,
   "metadata": {
    "collapsed": false
   },
   "outputs": [
    {
     "data": {
      "application/javascript": [
       "$(\"head\").append($(\"<link/>\").attr({\n",
       "  rel:  \"stylesheet\",\n",
       "  type: \"text/css\",\n",
       "  href: \"//cdnjs.cloudflare.com/ajax/libs/font-awesome/4.1.0/css/font-awesome.min.css\"\n",
       "}));\n",
       "$(\"head\").append($(\"<link/>\").attr({\n",
       "  rel:  \"stylesheet\",\n",
       "  type: \"text/css\",\n",
       "  href: \"//dato.com/files/canvas/1.5.2/css/canvas.css\"\n",
       "}));\n",
       "\n",
       "            (function(){\n",
       "\n",
       "                var e = null;\n",
       "                if (typeof element == 'undefined') {\n",
       "                    var scripts = document.getElementsByTagName('script');\n",
       "                    var thisScriptTag = scripts[scripts.length-1];\n",
       "                    var parentDiv = thisScriptTag.parentNode;\n",
       "                    e = document.createElement('div');\n",
       "                    parentDiv.appendChild(e);\n",
       "                } else {\n",
       "                    e = element[0];\n",
       "                }\n",
       "\n",
       "                require(['//dato.com/files/canvas/1.5.2/js/ipython_app.js'], function(IPythonApp){\n",
       "                    var app = new IPythonApp();\n",
       "                    app.attachView('sframe','Plots', {\"selected_variable\": {\"name\": [\"sales\"], \"descriptives\": {\"rows\": 21613, \"columns\": 21}, \"view_component\": \"Plots\", \"view_file\": \"sframe\", \"view_params\": {\"y\": \"price\", \"x\": \"sqft_living\", \"columns\": [\"id\", \"date\", \"price\", \"bedrooms\", \"bathrooms\", \"sqft_living\", \"sqft_lot\", \"floors\", \"waterfront\", \"view\", \"condition\", \"grade\", \"sqft_above\", \"sqft_basement\", \"yr_built\", \"yr_renovated\", \"zipcode\", \"lat\", \"long\", \"sqft_living15\", \"sqft_lot15\"], \"view\": \"Scatter Plot\"}, \"view_components\": [\"Summary\", \"Table\", \"Bar Chart\", \"BoxWhisker Plot\", \"Line Chart\", \"Scatter Plot\", \"Heat Map\", \"Plots\"], \"type\": \"SFrame\", \"columns\": [{\"dtype\": \"str\", \"name\": \"id\"}, {\"dtype\": \"datetime\", \"name\": \"date\"}, {\"dtype\": \"int\", \"name\": \"price\"}, {\"dtype\": \"str\", \"name\": \"bedrooms\"}, {\"dtype\": \"str\", \"name\": \"bathrooms\"}, {\"dtype\": \"int\", \"name\": \"sqft_living\"}, {\"dtype\": \"int\", \"name\": \"sqft_lot\"}, {\"dtype\": \"str\", \"name\": \"floors\"}, {\"dtype\": \"int\", \"name\": \"waterfront\"}, {\"dtype\": \"int\", \"name\": \"view\"}, {\"dtype\": \"int\", \"name\": \"condition\"}, {\"dtype\": \"int\", \"name\": \"grade\"}, {\"dtype\": \"int\", \"name\": \"sqft_above\"}, {\"dtype\": \"int\", \"name\": \"sqft_basement\"}, {\"dtype\": \"int\", \"name\": \"yr_built\"}, {\"dtype\": \"int\", \"name\": \"yr_renovated\"}, {\"dtype\": \"str\", \"name\": \"zipcode\"}, {\"dtype\": \"float\", \"name\": \"lat\"}, {\"dtype\": \"float\", \"name\": \"long\"}, {\"dtype\": \"float\", \"name\": \"sqft_living15\"}, {\"dtype\": \"float\", \"name\": \"sqft_lot15\"}], \"column_identifiers\": [\"bathrooms\", \"sqft_living15\", \"sqft_above\", \"grade\", \"yr_built\", \"price\", \"bedrooms\", \"zipcode\", \"long\", \"id\", \"sqft_lot15\", \"sqft_living\", \"floors\", \"sqft_lot\", \"date\", \"waterfront\", \"sqft_basement\", \"yr_renovated\", \"lat\", \"condition\", \"view\"]}, \"complete\": 1, \"ipython\": true, \"progress\": 1.0, \"data\": [[3820, 775000], [1490, 670000], [1040, 217450], [2520, 689950], [1680, 510000], [1860, 350000], [1840, 435000], [2780, 1140000], [2460, 1370000], [2670, 732000], [3560, 662500], [1580, 551000], [2820, 398500], [2130, 233000], [1830, 379500], [2420, 350000], [1640, 390000], [1120, 311000], [910, 290000], [840, 190000], [3570, 2200000], [1280, 595000], [3890, 430000], [1900, 649950], [1750, 660000], [1710, 233000], [1710, 340000], [3040, 1600000], [2530, 354950], [1050, 260000], [1960, 732000], [670, 415000], [1300, 562000], [1330, 183000], [1340, 410000], [1900, 360000], [1920, 372000], [660, 175000], [1210, 324950], [2700, 569950], [2200, 280000], [760, 380000], [2030, 250000], [1810, 295000], [4170, 1088000], [3160, 488000], [1150, 376000], [1350, 160000], [1440, 439950], [2020, 740000], [1510, 406500], [3150, 345000], [1630, 305000], [1470, 238000], [2540, 719000], [2000, 433000], [1210, 437500], [1100, 233000], [1900, 265000], [2420, 570000], [1460, 225000], [2890, 930000], [1690, 410000], [1530, 500000], [2710, 560000], [760, 122000], [2350, 397500], [2300, 475000], [2770, 678000], [1690, 314950], [1070, 245000], [1950, 235000], [1670, 245000], [1494, 650000], [2750, 535000], [3430, 740000], [1890, 940000], [2850, 540000], [1740, 204950], [750, 213000], [670, 107000], [4120, 1360000], [1350, 397500], [2430, 825000], [2093, 300000], [2140, 940000], [2730, 489500], [2200, 376000], [1000, 210000], [960, 550000], [2230, 537000], [1700, 500000], [980, 340000], [1010, 340000], [2730, 310000], [1020, 290000], [2220, 641250], [3280, 809950], [2660, 423000], [1570, 208400], [1870, 314000], [1980, 555000], [3366, 1300000], [870, 217000], [2120, 397950], [3915, 963990], [3240, 749400], [1240, 188500], [1770, 538000], [2810, 492000], [1500, 431000], [2100, 333000], [1730, 490000], [1570, 478000], [2070, 535000], [3120, 855000], [1590, 300000], [1550, 557800], [1170, 250000], [1120, 266000], [1970, 306500], [4120, 968933], [910, 389000], [1020, 212000], [1590, 225500], [3510, 729950], [2390, 1350000], [720, 405000], [3030, 367950], [1930, 275000], [1930, 542000], [770, 413500], [1970, 410000], [1960, 565000], [1620, 514000], [910, 455000], [1740, 325000], [1910, 390000], [1300, 310000], [3020, 439000], [1220, 325000], [2260, 600000], [1320, 195000], [1430, 252000], [2030, 500000], [1310, 600000], [2415, 815000], [1940, 540000], [2260, 833000], [1690, 212000], [1280, 473000], [810, 299900], [2770, 820000], [5180, 2250000], [1140, 335000], [2440, 489990], [1320, 937500], [880, 427550], [1810, 360000], [1710, 620000], [2300, 312500], [1590, 280000], [2300, 567500], [990, 222000], [1380, 550000], [1900, 505000], [1700, 429950], [900, 210000], [2010, 510000], [4270, 1532500], [2230, 590000], [1410, 261500], [4690, 932808], [2630, 650000], [2590, 673000], [2130, 305000], [2200, 300000], [1396, 225000], [2450, 550000], [1170, 183000], [3800, 630000], [2300, 287000], [2280, 505000], [3560, 616950], [2480, 470000], [1410, 265000], [1490, 269000], [1400, 257000], [2470, 352000], [1680, 588000], [1430, 195000], [1190, 166950], [2140, 799000], [2470, 515000], [3140, 810000], [3200, 618000], [1950, 390000], [2240, 323500], [1170, 299950], [1420, 485000], [3020, 530000], [1980, 272000], [940, 347000], [3600, 870515], [2780, 715000], [1940, 278000], [1110, 229800], [2170, 435000], [990, 219950], [1660, 780000], [2160, 555000], [2710, 275000], [2580, 449500], [1140, 460000], [1870, 433000], [2630, 778000], [1260, 490000], [2250, 445838], [2030, 550000], [3750, 910000], [3810, 515000], [1210, 230000], [2060, 356250], [1240, 352499], [2340, 563000], [1340, 485500], [1270, 367500], [1500, 405000], [2380, 415000], [4640, 2200000], [2340, 485000], [1010, 337000], [1770, 415000], [840, 178000], [1300, 431000], [2070, 465000], [2800, 920000], [910, 225000], [2070, 379500], [1820, 309933], [1930, 326000], [2100, 1081000], [2190, 587450], [2210, 710000], [3220, 890000], [1630, 375000], [4390, 1050000], [1860, 415000], [1720, 169000], [3250, 1050000], [970, 495000], [3420, 720000], [2210, 820000], [3890, 775000], [2700, 665000], [4083, 637000], [2660, 1712750], [1930, 550000], [1870, 355000], [1680, 439000], [1660, 405000], [2670, 690000], [2060, 429950], [2280, 750000], [2050, 265000], [2180, 472000], [1160, 525000], [2680, 1160000], [2120, 835000], [1430, 356000], [2550, 415000], [1070, 210000], [1930, 310000], [4560, 1675000], [3120, 615000], [4460, 1910000], [1060, 400000], [2250, 559000], [1940, 651000], [1420, 290000], [1580, 424000], [1810, 375000], [2180, 470000], [2340, 210000], [2980, 505000], [1320, 255000], [4160, 1150000], [1430, 667750], [3090, 370000], [2290, 753000], [1810, 387000], [2750, 950000], [1700, 454000], [760, 162500], [2090, 600000], [1490, 259000], [1550, 622000], [1510, 485000], [3150, 727000], [2200, 885000], [920, 189950], [3330, 830000], [1510, 319950], [3340, 1295000], [1400, 210000], [1720, 615000], [2390, 682000], [2590, 885000], [3370, 1135000], [2710, 455000], [1300, 425000], [1870, 502000], [3650, 2384000], [1200, 380000], [4320, 887250], [3280, 706000], [2100, 505000], [3440, 1285000], [3510, 1010000], [1780, 240000], [2120, 249000], [1590, 290000], [1060, 335000], [2620, 738000], [3540, 2200000], [1610, 210000], [3030, 274975], [1890, 1065000], [1660, 235000], [1480, 336500], [3760, 555000], [2300, 525000], [5110, 2140000], [1490, 234000], [1690, 285000], [1970, 350000], [2440, 745641], [3740, 789000], [3020, 735000], [2060, 340000], [2240, 480000], [3040, 684000], [2280, 849900], [1100, 280000], [2570, 625000], [1000, 335000], [1790, 721000], [3130, 745000], [1870, 325000], [2000, 284950], [2960, 500000], [1570, 360000], [2650, 665000], [2110, 288250], [2620, 355000], [1200, 210000], [1570, 239900], [670, 183000], [1730, 535500], [3040, 500000], [2230, 652450], [4110, 734000], [2180, 325000], [820, 274000], [1650, 600000], [2080, 825000], [2740, 648000], [2360, 569900], [2610, 810000], [2680, 360000], [1780, 620000], [1580, 465000], [3440, 855000], [1600, 299500], [1450, 297000], [3080, 1165000], [1100, 168500], [1910, 1500000], [2070, 503000], [720, 195000], [2480, 420000], [3130, 320000], [2580, 937750], [2380, 818000], [1630, 240000], [2660, 495000], [1530, 284000], [1040, 245990], [1930, 465000], [1790, 243000], [1440, 375000], [1530, 332000], [3200, 337000], [1450, 822500], [4700, 1242000], [3160, 845000], [1300, 170000], [1850, 303000], [2160, 378750], [1920, 415000], [2510, 800000], [2590, 530000], [2020, 1225000], [1660, 452000], [1810, 327000], [1510, 650000], [860, 298800], [2240, 363990], [1930, 364950], [3600, 643500], [1890, 506500], [2210, 590000], [1570, 209950], [1150, 200000], [1210, 351358], [1800, 579000], [2230, 900000], [2350, 270000], [3540, 707000], [1960, 342000], [1170, 157000], [1120, 464600], [3000, 540000], [2790, 1045000], [1100, 190000], [2160, 445000], [2440, 954500], [1860, 495000], [1140, 400000], [1690, 462500], [1180, 338900], [1180, 342400], [1380, 535000], [1960, 320000], [810, 357950], [1720, 547500], [1510, 453000], [3650, 799900], [2190, 702000], [2020, 410000], [1240, 471000], [2420, 365000], [1350, 400000], [1710, 561000], [3390, 303500], [1550, 380000], [1420, 205000], [990, 220500], [4250, 1615000], [2010, 775000], [1090, 152500], [1480, 469000], [2370, 535950], [2620, 635000], [1230, 229500], [2830, 551000], [2260, 496500], [2690, 721000], [1570, 439995], [2410, 600000], [1040, 596000], [3390, 350000], [2330, 453000], [2846, 482000], [3590, 1325000], [2080, 616500], [2080, 660000], [1350, 388500], [2090, 325000], [2290, 430000], [2940, 590000], [2120, 525000], [1140, 268500], [3980, 760000], [1930, 369950], [2280, 500000], [3150, 854000], [2610, 373500], [2460, 965000], [2340, 716500], [4750, 770000], [2010, 350000], [1830, 358000], [1984, 292000], [2070, 320000], [1450, 222500], [2660, 599950], [880, 330000], [1950, 500000], [1830, 825000], [2800, 515000], [1680, 282000], [2340, 780000], [2660, 772650], [1820, 390000], [1340, 265000], [1076, 290000], [2140, 680000], [1490, 625000], [1500, 270000], [1700, 149000], [1200, 402000], [1670, 325000], [1630, 509000], [2200, 390000], [2340, 385000], [1380, 335000], [2250, 950000], [1410, 225000], [1340, 390000], [1670, 294000], [2520, 590000], [2580, 898000], [2950, 402000], [720, 333000], [1010, 775000], [2800, 399000], [2550, 277500], [1830, 423000], [1540, 525000], [1220, 258000], [1170, 564000], [2290, 599950], [1340, 239000], [2440, 610000], [2580, 1099500], [1710, 513000], [2580, 650000], [2020, 720000], [2090, 417000], [1979, 339000], [1510, 465000], [1400, 258900], [2660, 1130000], [1100, 250000], [3720, 500000], [1440, 290000], [1340, 455000], [1509, 410000], [1200, 178000], [2830, 774000], [2980, 1400000], [1800, 360000], [1340, 549000], [1790, 460000], [1785, 530000], [2448, 447055], [1830, 682000], [3230, 569950], [1960, 560000], [4500, 870000], [1550, 430000], [1720, 575000], [2830, 295500], [2120, 450000], [1850, 355000], [2210, 650000], [2970, 400000], [1550, 613000], [3530, 1275000], [3500, 970000], [2340, 404950], [930, 176500], [910, 244000], [3320, 799950], [1870, 288400], [1050, 325000], [2160, 671500], [2410, 446800], [2950, 825750], [1340, 397000], [1730, 466750], [1880, 535900], [1750, 575000], [4750, 1309500], [1220, 300000], [2750, 430000], [1060, 215000], [3190, 862000], [2060, 348000], [1450, 355000], [950, 320000], [1090, 335000], [1600, 460000], [3150, 450000], [2350, 430000], [1100, 325000], [3620, 858000], [1470, 245000], [1410, 625000], [2600, 641000], [2460, 665000], [3060, 708000], [1270, 355000], [2250, 615000], [1460, 240500], [2690, 460000], [1190, 410000], [2050, 439500], [2010, 487585], [2380, 340000], [2560, 465000], [860, 316000], [1120, 363000], [1690, 337000], [1370, 238000], [3100, 975000], [1480, 650000], [2229, 324950], [2060, 840000], [2120, 436000], [1580, 260000], [1240, 336000], [1000, 180000], [2460, 835000], [2280, 475000], [2320, 248000], [1820, 320000], [2180, 625000], [2150, 380000], [1980, 415000], [2040, 872500], [970, 172000], [1310, 181000], [1920, 353000], [2100, 299000], [1220, 315000], [1790, 615000], [1358, 280000], [3530, 930000], [950, 350000], [1070, 217500], [920, 356000], [2420, 298500], [2200, 480000], [1540, 370000], [820, 510000], [940, 219950], [2670, 415000], [970, 156000], [1040, 642000], [1670, 605000], [3740, 595000], [1800, 365000], [2100, 280000], [1030, 175000], [1150, 300000], [1320, 530000], [3250, 1050000], [2370, 715000], [1000, 220000], [4040, 910000], [1850, 623000], [2040, 494900], [780, 190000], [2260, 705000], [2290, 975000], [4130, 900000], [2170, 359800], [2400, 335000], [1600, 785000], [1620, 305000], [2130, 802000], [3090, 855000], [2770, 438800], [1150, 285000], [1670, 304000], [1610, 225000], [1620, 439000], [1320, 325000], [3120, 1895000], [2090, 200000], [1290, 258800], [2540, 531000], [1020, 489000], [2495, 436000], [1230, 399950], [980, 133000], [1050, 250000], [1880, 410000], [1690, 452000], [2000, 334000], [1370, 525000], [2570, 287500], [1470, 510000], [2300, 224000], [1970, 600000], [950, 492000], [1220, 387500], [1940, 529000], [1470, 240000], [1660, 335000], [3230, 785000], [1410, 400000], [1730, 499990], [3100, 930000], [1860, 301350], [2260, 435000], [1000, 425000], [2370, 688100], [1730, 435000], [3730, 2535000], [1820, 385000], [2740, 470000], [3300, 360500], [1800, 447000], [1970, 499000], [1500, 240000], [1550, 369000], [3020, 845800], [3490, 1295000], [1430, 453000], [980, 499950], [2300, 498000], [840, 218450], [1710, 250000], [1660, 375000], [830, 200000], [3610, 777000], [1470, 352500], [2200, 345000], [3080, 1400000], [4350, 1375000], [2140, 636000], [1790, 670950], [2420, 549000], [1140, 476000], [2350, 367000], [4350, 1150000], [1260, 405000], [3380, 639900], [2580, 880000], [1980, 287000], [1260, 305000], [2290, 278000], [1120, 399000], [2350, 460000], [1880, 452000], [840, 401000], [2890, 898500], [3570, 942500], [3670, 525000], [2620, 408000], [1500, 270000], [1340, 300000], [760, 375000], [4510, 1815000], [1864, 235000], [1790, 225000], [2140, 349950], [2060, 410000], [2600, 780000], [2110, 285000], [1490, 271000], [2840, 986000], [1020, 399950], [880, 230000], [2390, 978000], [1300, 249000], [2360, 362000], [2440, 565000], [2120, 578550], [1210, 456200], [3280, 965000], [1700, 300000], [1710, 670000], [1660, 601150], [1000, 390000], [1320, 250000], [1310, 505000], [3120, 976000], [680, 230000], [1400, 320000], [1070, 462550], [3050, 563950], [940, 500000], [2100, 424000], [1820, 205000], [1340, 324950], [2400, 450000], [830, 175000], [1030, 460000], [2110, 638000], [1900, 706000], [2010, 605000], [2360, 615000], [1080, 132500], [1800, 349000], [3060, 826000], [1200, 361000], [1740, 380000], [2810, 600000], [2580, 370000], [1880, 212000], [1010, 179900], [1760, 429950], [2040, 600000], [1750, 315000], [920, 340895], [1420, 679000], [2313, 370000], [3190, 765000], [1040, 172500], [2040, 610000], [2820, 350000], [920, 535000], [1010, 189000], [3720, 1450000], [1270, 425000], [1950, 361000], [1890, 359000], [1430, 397500], [1770, 360000], [2030, 225000], [2495, 276000], [1970, 280000], [4170, 623300], [1370, 703011], [1430, 245500], [2390, 799000], [2970, 1565000], [1140, 243800], [2630, 497000], [1880, 585000], [1120, 165000], [4140, 1060000], [970, 205950], [1040, 250000], [3210, 696500], [3110, 485000], [1590, 529000], [1060, 345000], [1650, 390000], [1410, 399500], [2670, 612000], [1940, 375000], [1350, 427500], [2350, 870300], [2510, 285000], [1190, 350000], [1680, 526000], [1630, 426000], [2350, 643403], [2860, 1187500], [1450, 521500], [4330, 1700000], [4280, 1900000], [2100, 525000], [930, 178500], [2780, 325000], [810, 510000], [2020, 375000], [1500, 260000], [1460, 580000], [2400, 327000], [1300, 469000], [1100, 397000], [1860, 625000], [1230, 195000], [2870, 1160000], [2000, 520000], [1670, 229999], [2720, 594950], [2100, 268500], [2050, 280000], [5570, 1855000], [3940, 725000], [3350, 550000], [3020, 715000], [1890, 265000], [1570, 495000], [2490, 595500], [1070, 259950], [1720, 514000], [5067, 452000], [520, 310000], [4810, 1295648], [2790, 665000], [1110, 452000], [1340, 474905], [1540, 269000], [2750, 375000], [1710, 415000], [1210, 615000], [1530, 520000], [1010, 259950], [3700, 722500], [1600, 355000], [1910, 607000], [2220, 862000], [1240, 483000], [1180, 299000], [890, 455000], [1370, 239000], [1530, 460000], [3870, 1399950], [1800, 338800], [2480, 468000], [2610, 674600], [2340, 668750], [1770, 291500], [2570, 800000], [901, 435000], [980, 221000], [950, 304000], [3810, 1700000], [2240, 700000], [2130, 335000], [1620, 580000], [2440, 510000], [1020, 405000], [2200, 465000], [3150, 1205000], [2100, 384000], [1530, 265000], [1150, 287000], [1540, 582500], [1530, 474950], [1390, 302059], [2150, 580000], [1170, 315000], [880, 160000], [1080, 140000], [3180, 1050000], [2600, 525000], [2170, 377000], [2650, 435000], [2670, 675000], [3260, 755000], [730, 325000], [2630, 435000], [1860, 427000], [3850, 1400000], [2240, 319950], [1430, 405000], [3660, 1200000], [720, 199900], [1540, 216650], [1600, 502000], [1580, 350000], [2020, 565000], [2810, 454450], [2260, 359950], [1380, 389000], [670, 240000], [2550, 1020000], [1330, 180000], [2000, 519000], [1990, 542000], [1890, 620000], [1760, 1150000], [1710, 675000], [2580, 604000], [2350, 910000], [2690, 699850], [1670, 252000], [2310, 309950], [2620, 525000], [1980, 550000], [1110, 532000], [1240, 525000], [2230, 685000], [1970, 432000], [2030, 420000], [1530, 317000], [960, 355000], [2360, 957500], [1450, 419900], [5990, 2200000], [3410, 1100005], [1020, 485000], [3000, 415000], [890, 391000], [1510, 450000], [1560, 291000], [1260, 445000], [2460, 305000], [1320, 420000], [1290, 402500], [2030, 295000], [1330, 389000], [3070, 718000], [950, 305000], [1790, 382000], [2340, 354000], [1260, 120000], [1320, 350000], [3130, 1265000], [900, 553000], [1890, 587206], [2060, 640000], [2680, 898000], [1790, 430000], [2350, 495000], [1780, 279000], [2290, 367950], [3480, 480000], [2830, 540000], [2970, 635000], [2329, 327555]], \"columns\": [{\"dtype\": \"str\", \"name\": \"id\"}, {\"dtype\": \"datetime\", \"name\": \"date\"}, {\"dtype\": \"int\", \"name\": \"price\"}, {\"dtype\": \"str\", \"name\": \"bedrooms\"}, {\"dtype\": \"str\", \"name\": \"bathrooms\"}, {\"dtype\": \"int\", \"name\": \"sqft_living\"}, {\"dtype\": \"int\", \"name\": \"sqft_lot\"}, {\"dtype\": \"str\", \"name\": \"floors\"}, {\"dtype\": \"int\", \"name\": \"waterfront\"}, {\"dtype\": \"int\", \"name\": \"view\"}, {\"dtype\": \"int\", \"name\": \"condition\"}, {\"dtype\": \"int\", \"name\": \"grade\"}, {\"dtype\": \"int\", \"name\": \"sqft_above\"}, {\"dtype\": \"int\", \"name\": \"sqft_basement\"}, {\"dtype\": \"int\", \"name\": \"yr_built\"}, {\"dtype\": \"int\", \"name\": \"yr_renovated\"}, {\"dtype\": \"str\", \"name\": \"zipcode\"}, {\"dtype\": \"float\", \"name\": \"lat\"}, {\"dtype\": \"float\", \"name\": \"long\"}, {\"dtype\": \"float\", \"name\": \"sqft_living15\"}, {\"dtype\": \"float\", \"name\": \"sqft_lot15\"}]}, e);\n",
       "                });\n",
       "            })();\n",
       "        "
      ]
     },
     "metadata": {},
     "output_type": "display_data"
    }
   ],
   "source": [
    "graphlab.canvas.set_target('ipynb')\n",
    "sales.show(view=\"Scatter Plot\", x=\"sqft_living\", y=\"price\")"
   ]
  },
  {
   "cell_type": "markdown",
   "metadata": {},
   "source": [
    "#Create a simple regression model of sqft_living to price"
   ]
  },
  {
   "cell_type": "markdown",
   "metadata": {},
   "source": [
    "Split data into training and testing.  \n",
    "We use seed=0 so that everyone running this notebook gets the same results.  In practice, you may set a random seed (or let GraphLab Create pick a random seed for you).  "
   ]
  },
  {
   "cell_type": "code",
   "execution_count": 5,
   "metadata": {
    "collapsed": true
   },
   "outputs": [],
   "source": [
    "train_data,test_data = sales.random_split(.8,seed=0)"
   ]
  },
  {
   "cell_type": "markdown",
   "metadata": {},
   "source": [
    "##Build the regression model using only sqft_living as a feature"
   ]
  },
  {
   "cell_type": "code",
   "execution_count": 7,
   "metadata": {
    "collapsed": false
   },
   "outputs": [
    {
     "name": "stdout",
     "output_type": "stream",
     "text": [
      "PROGRESS: Creating a validation set from 5 percent of training data. This may take a while.\n",
      "          You can set ``validation_set=None`` to disable validation tracking.\n",
      "\n",
      "PROGRESS: Linear regression:\n",
      "PROGRESS: --------------------------------------------------------\n",
      "PROGRESS: Number of examples          : 16512\n",
      "PROGRESS: Number of features          : 1\n",
      "PROGRESS: Number of unpacked features : 1\n",
      "PROGRESS: Number of coefficients    : 2\n",
      "PROGRESS: Starting Newton Method\n",
      "PROGRESS: --------------------------------------------------------\n",
      "PROGRESS: +-----------+----------+--------------+--------------------+----------------------+---------------+-----------------+\n",
      "PROGRESS: | Iteration | Passes   | Elapsed Time | Training-max_error | Validation-max_error | Training-rmse | Validation-rmse |\n",
      "PROGRESS: +-----------+----------+--------------+--------------------+----------------------+---------------+-----------------+\n",
      "PROGRESS: | 1         | 2        | 1.045417     | 4361669.842494     | 4288501.167265       | 261953.725396 | 281075.507568   |\n",
      "PROGRESS: +-----------+----------+--------------+--------------------+----------------------+---------------+-----------------+\n"
     ]
    }
   ],
   "source": [
    "sqft_model = graphlab.linear_regression.create(train_data, target='price', features=['sqft_living'])"
   ]
  },
  {
   "cell_type": "markdown",
   "metadata": {},
   "source": [
    "#Evaluate the simple model"
   ]
  },
  {
   "cell_type": "code",
   "execution_count": 8,
   "metadata": {
    "collapsed": false
   },
   "outputs": [
    {
     "name": "stdout",
     "output_type": "stream",
     "text": [
      "543054.042563\n"
     ]
    }
   ],
   "source": [
    "print test_data['price'].mean()"
   ]
  },
  {
   "cell_type": "code",
   "execution_count": 9,
   "metadata": {
    "collapsed": false
   },
   "outputs": [
    {
     "name": "stdout",
     "output_type": "stream",
     "text": [
      "{'max_error': 4153115.4452328016, 'rmse': 255169.84496896976}\n"
     ]
    }
   ],
   "source": [
    "print sqft_model.evaluate(test_data)"
   ]
  },
  {
   "cell_type": "markdown",
   "metadata": {},
   "source": [
    "RMSE of about \\$255,170!"
   ]
  },
  {
   "cell_type": "markdown",
   "metadata": {},
   "source": [
    "#Let's show what our predictions look like"
   ]
  },
  {
   "cell_type": "markdown",
   "metadata": {},
   "source": [
    "Matplotlib is a Python plotting library that is also useful for plotting.  You can install it with:\n",
    "\n",
    "'pip install matplotlib'"
   ]
  },
  {
   "cell_type": "code",
   "execution_count": 10,
   "metadata": {
    "collapsed": true
   },
   "outputs": [],
   "source": [
    "import matplotlib.pyplot as plt\n",
    "%matplotlib inline"
   ]
  },
  {
   "cell_type": "code",
   "execution_count": 11,
   "metadata": {
    "collapsed": false
   },
   "outputs": [
    {
     "data": {
      "text/plain": [
       "[<matplotlib.lines.Line2D at 0x7fb7db7b4b50>,\n",
       " <matplotlib.lines.Line2D at 0x7fb7db7e3f10>]"
      ]
     },
     "execution_count": 11,
     "metadata": {},
     "output_type": "execute_result"
    },
    {
     "data": {
      "image/png": "[encoded data removed]",
      "text/plain": [
       "<matplotlib.figure.Figure at 0x7fb7e807d890>"
      ]
     },
     "metadata": {},
     "output_type": "display_data"
    }
   ],
   "source": [
    "plt.plot(test_data['sqft_living'],test_data['price'],'.',\n",
    "        test_data['sqft_living'],sqft_model.predict(test_data),'-')"
   ]
  },
  {
   "cell_type": "markdown",
   "metadata": {},
   "source": [
    "Above:  blue dots are original data, green line is the prediction from the simple regression.\n",
    "\n",
    "Below: we can view the learned regression coefficients. "
   ]
  },
  {
   "cell_type": "code",
   "execution_count": 12,
   "metadata": {
    "collapsed": false
   },
   "outputs": [
    {
     "data": {
      "text/html": [
       "<div style=\"max-height:1000px;max-width:1500px;overflow:auto;\"><table frame=\"box\" rules=\"cols\">\n",
       "    <tr>\n",
       "        <th style=\"padding-left: 1em; padding-right: 1em; text-align: center\">name</th>\n",
       "        <th style=\"padding-left: 1em; padding-right: 1em; text-align: center\">index</th>\n",
       "        <th style=\"padding-left: 1em; padding-right: 1em; text-align: center\">value</th>\n",
       "    </tr>\n",
       "    <tr>\n",
       "        <td style=\"padding-left: 1em; padding-right: 1em; text-align: center; vertical-align: top\">(intercept)</td>\n",
       "        <td style=\"padding-left: 1em; padding-right: 1em; text-align: center; vertical-align: top\">None</td>\n",
       "        <td style=\"padding-left: 1em; padding-right: 1em; text-align: center; vertical-align: top\">-44850.1725885</td>\n",
       "    </tr>\n",
       "    <tr>\n",
       "        <td style=\"padding-left: 1em; padding-right: 1em; text-align: center; vertical-align: top\">sqft_living</td>\n",
       "        <td style=\"padding-left: 1em; padding-right: 1em; text-align: center; vertical-align: top\">None</td>\n",
       "        <td style=\"padding-left: 1em; padding-right: 1em; text-align: center; vertical-align: top\">280.76185312</td>\n",
       "    </tr>\n",
       "</table>\n",
       "[2 rows x 3 columns]<br/>\n",
       "</div>"
      ],
      "text/plain": [
       "Columns:\n",
       "\tname\tstr\n",
       "\tindex\tstr\n",
       "\tvalue\tfloat\n",
       "\n",
       "Rows: 2\n",
       "\n",
       "Data:\n",
       "+-------------+-------+----------------+\n",
       "|     name    | index |     value      |\n",
       "+-------------+-------+----------------+\n",
       "| (intercept) |  None | -44850.1725885 |\n",
       "| sqft_living |  None |  280.76185312  |\n",
       "+-------------+-------+----------------+\n",
       "[2 rows x 3 columns]"
      ]
     },
     "execution_count": 12,
     "metadata": {},
     "output_type": "execute_result"
    }
   ],
   "source": [
    "sqft_model.get('coefficients')"
   ]
  },
  {
   "cell_type": "markdown",
   "metadata": {},
   "source": [
    "#Explore other features in the data\n",
    "\n",
    "To build a more elaborate model, we will explore using more features."
   ]
  },
  {
   "cell_type": "code",
   "execution_count": 14,
   "metadata": {
    "collapsed": true
   },
   "outputs": [],
   "source": [
    "my_features = ['bedrooms', 'bathrooms', 'sqft_living', 'sqft_lot', 'floors', 'zipcode']"
   ]
  },
  {
   "cell_type": "code",
   "execution_count": 15,
   "metadata": {
    "collapsed": false
   },
   "outputs": [
    {
     "data": {
      "application/javascript": [
       "$(\"head\").append($(\"<link/>\").attr({\n",
       "  rel:  \"stylesheet\",\n",
       "  type: \"text/css\",\n",
       "  href: \"//cdnjs.cloudflare.com/ajax/libs/font-awesome/4.1.0/css/font-awesome.min.css\"\n",
       "}));\n",
       "$(\"head\").append($(\"<link/>\").attr({\n",
       "  rel:  \"stylesheet\",\n",
       "  type: \"text/css\",\n",
       "  href: \"//dato.com/files/canvas/1.5.2/css/canvas.css\"\n",
       "}));\n",
       "\n",
       "            (function(){\n",
       "\n",
       "                var e = null;\n",
       "                if (typeof element == 'undefined') {\n",
       "                    var scripts = document.getElementsByTagName('script');\n",
       "                    var thisScriptTag = scripts[scripts.length-1];\n",
       "                    var parentDiv = thisScriptTag.parentNode;\n",
       "                    e = document.createElement('div');\n",
       "                    parentDiv.appendChild(e);\n",
       "                } else {\n",
       "                    e = element[0];\n",
       "                }\n",
       "\n",
       "                require(['//dato.com/files/canvas/1.5.2/js/ipython_app.js'], function(IPythonApp){\n",
       "                    var app = new IPythonApp();\n",
       "                    app.attachView('sframe','Summary', {\"ipython\": true, \"sketch\": {\"bathrooms\": {\"complete\": true, \"numeric\": false, \"num_unique\": 30, \"num_undefined\": 0, \"progress\": 1.0, \"frequent_items\": {\"1.5\": {\"frequency\": 1446, \"value\": \"1.5\"}, \"3.75\": {\"frequency\": 155, \"value\": \"3.75\"}, \"0.5\": {\"frequency\": 4, \"value\": \"0.5\"}, \"5.25\": {\"frequency\": 13, \"value\": \"5.25\"}, \"3.5\": {\"frequency\": 731, \"value\": \"3.5\"}, \"2.5\": {\"frequency\": 5380, \"value\": \"2.5\"}, \"4.5\": {\"frequency\": 100, \"value\": \"4.5\"}, \"5.5\": {\"frequency\": 10, \"value\": \"5.5\"}, \"1.75\": {\"frequency\": 3048, \"value\": \"1.75\"}, \"2.75\": {\"frequency\": 1185, \"value\": \"2.75\"}, \"5.75\": {\"frequency\": 4, \"value\": \"5.75\"}, \"1\": {\"frequency\": 3852, \"value\": \"1\"}, \"0\": {\"frequency\": 10, \"value\": \"0\"}, \"3\": {\"frequency\": 753, \"value\": \"3\"}, \"2\": {\"frequency\": 1930, \"value\": \"2\"}, \"3.25\": {\"frequency\": 589, \"value\": \"3.25\"}, \"4\": {\"frequency\": 136, \"value\": \"4\"}, \"6\": {\"frequency\": 6, \"value\": \"6\"}, \"5\": {\"frequency\": 21, \"value\": \"5\"}, \"6.75\": {\"frequency\": 2, \"value\": \"6.75\"}, \"0.75\": {\"frequency\": 72, \"value\": \"0.75\"}, \"8\": {\"frequency\": 2, \"value\": \"8\"}, \"4.25\": {\"frequency\": 79, \"value\": \"4.25\"}, \"4.75\": {\"frequency\": 23, \"value\": \"4.75\"}, \"6.5\": {\"frequency\": 2, \"value\": \"6.5\"}, \"6.25\": {\"frequency\": 2, \"value\": \"6.25\"}, \"1.25\": {\"frequency\": 9, \"value\": \"1.25\"}, \"2.25\": {\"frequency\": 2047, \"value\": \"2.25\"}}, \"size\": 21613}, \"bedrooms\": {\"complete\": true, \"numeric\": false, \"num_unique\": 13, \"num_undefined\": 0, \"progress\": 1.0, \"frequent_items\": {\"10\": {\"frequency\": 3, \"value\": \"10\"}, \"1\": {\"frequency\": 199, \"value\": \"1\"}, \"0\": {\"frequency\": 13, \"value\": \"0\"}, \"3\": {\"frequency\": 9824, \"value\": \"3\"}, \"2\": {\"frequency\": 2760, \"value\": \"2\"}, \"5\": {\"frequency\": 1601, \"value\": \"5\"}, \"4\": {\"frequency\": 6882, \"value\": \"4\"}, \"7\": {\"frequency\": 38, \"value\": \"7\"}, \"6\": {\"frequency\": 272, \"value\": \"6\"}, \"9\": {\"frequency\": 6, \"value\": \"9\"}, \"8\": {\"frequency\": 13, \"value\": \"8\"}}, \"size\": 21613}, \"zipcode\": {\"complete\": true, \"numeric\": false, \"num_unique\": 70, \"num_undefined\": 0, \"progress\": 1.0, \"frequent_items\": {\"98019\": {\"frequency\": 190, \"value\": \"98019\"}, \"98039\": {\"frequency\": 50, \"value\": \"98039\"}, \"98038\": {\"frequency\": 590, \"value\": \"98038\"}, \"98118\": {\"frequency\": 508, \"value\": \"98118\"}, \"98119\": {\"frequency\": 184, \"value\": \"98119\"}, \"98116\": {\"frequency\": 330, \"value\": \"98116\"}, \"98117\": {\"frequency\": 553, \"value\": \"98117\"}, \"98011\": {\"frequency\": 195, \"value\": \"98011\"}, \"98115\": {\"frequency\": 583, \"value\": \"98115\"}, \"98112\": {\"frequency\": 269, \"value\": \"98112\"}, \"98030\": {\"frequency\": 256, \"value\": \"98030\"}, \"98033\": {\"frequency\": 432, \"value\": \"98033\"}, \"98032\": {\"frequency\": 125, \"value\": \"98032\"}, \"98092\": {\"frequency\": 351, \"value\": \"98092\"}, \"98058\": {\"frequency\": 455, \"value\": \"98058\"}, \"98003\": {\"frequency\": 280, \"value\": \"98003\"}, \"98198\": {\"frequency\": 280, \"value\": \"98198\"}, \"98199\": {\"frequency\": 317, \"value\": \"98199\"}, \"98077\": {\"frequency\": 198, \"value\": \"98077\"}, \"98004\": {\"frequency\": 317, \"value\": \"98004\"}, \"98005\": {\"frequency\": 168, \"value\": \"98005\"}, \"98006\": {\"frequency\": 498, \"value\": \"98006\"}, \"98007\": {\"frequency\": 141, \"value\": \"98007\"}, \"98001\": {\"frequency\": 362, \"value\": \"98001\"}, \"98002\": {\"frequency\": 199, \"value\": \"98002\"}, \"98065\": {\"frequency\": 310, \"value\": \"98065\"}, \"98040\": {\"frequency\": 282, \"value\": \"98040\"}, \"98166\": {\"frequency\": 254, \"value\": \"98166\"}, \"98042\": {\"frequency\": 548, \"value\": \"98042\"}, \"98008\": {\"frequency\": 283, \"value\": \"98008\"}, \"98045\": {\"frequency\": 221, \"value\": \"98045\"}, \"98144\": {\"frequency\": 343, \"value\": \"98144\"}, \"98027\": {\"frequency\": 412, \"value\": \"98027\"}, \"98010\": {\"frequency\": 100, \"value\": \"98010\"}, \"98109\": {\"frequency\": 109, \"value\": \"98109\"}, \"98108\": {\"frequency\": 186, \"value\": \"98108\"}, \"98028\": {\"frequency\": 283, \"value\": \"98028\"}, \"98029\": {\"frequency\": 321, \"value\": \"98029\"}, \"98105\": {\"frequency\": 229, \"value\": \"98105\"}, \"98122\": {\"frequency\": 290, \"value\": \"98122\"}, \"98024\": {\"frequency\": 81, \"value\": \"98024\"}, \"98146\": {\"frequency\": 288, \"value\": \"98146\"}, \"98022\": {\"frequency\": 234, \"value\": \"98022\"}, \"98126\": {\"frequency\": 354, \"value\": \"98126\"}, \"98103\": {\"frequency\": 602, \"value\": \"98103\"}, \"98023\": {\"frequency\": 499, \"value\": \"98023\"}, \"98125\": {\"frequency\": 410, \"value\": \"98125\"}, \"98148\": {\"frequency\": 57, \"value\": \"98148\"}, \"98031\": {\"frequency\": 274, \"value\": \"98031\"}, \"98102\": {\"frequency\": 105, \"value\": \"98102\"}, \"98188\": {\"frequency\": 136, \"value\": \"98188\"}, \"98034\": {\"frequency\": 545, \"value\": \"98034\"}, \"98106\": {\"frequency\": 335, \"value\": \"98106\"}, \"98014\": {\"frequency\": 124, \"value\": \"98014\"}, \"98107\": {\"frequency\": 266, \"value\": \"98107\"}, \"98155\": {\"frequency\": 446, \"value\": \"98155\"}, \"98052\": {\"frequency\": 574, \"value\": \"98052\"}, \"98178\": {\"frequency\": 262, \"value\": \"98178\"}, \"98070\": {\"frequency\": 118, \"value\": \"98070\"}, \"98136\": {\"frequency\": 263, \"value\": \"98136\"}, \"98072\": {\"frequency\": 273, \"value\": \"98072\"}, \"98075\": {\"frequency\": 359, \"value\": \"98075\"}, \"98074\": {\"frequency\": 441, \"value\": \"98074\"}, \"98059\": {\"frequency\": 468, \"value\": \"98059\"}, \"98133\": {\"frequency\": 494, \"value\": \"98133\"}, \"98056\": {\"frequency\": 406, \"value\": \"98056\"}, \"98055\": {\"frequency\": 268, \"value\": \"98055\"}, \"98053\": {\"frequency\": 405, \"value\": \"98053\"}, \"98168\": {\"frequency\": 269, \"value\": \"98168\"}, \"98177\": {\"frequency\": 255, \"value\": \"98177\"}}, \"size\": 21613}, \"sqft_living\": {\"std\": 918.4196493828822, \"complete\": true, \"min\": 290.0, \"max\": 13540.0, \"quantile\": [290.0, 720.0, 790.0, 840.0, 900.0, 940.0, 970.0, 1010.0, 1030.0, 1060.0, 1090.0, 1120.0, 1150.0, 1170.0, 1200.0, 1220.0, 1240.0, 1260.0, 1280.0, 1300.0, 1320.0, 1340.0, 1360.0, 1384.0, 1400.0, 1420.0, 1440.0, 1460.0, 1480.0, 1500.0, 1520.0, 1540.0, 1560.0, 1580.0, 1600.0, 1610.0, 1640.0, 1650.0, 1670.0, 1690.0, 1710.0, 1730.0, 1750.0, 1770.0, 1790.0, 1810.0, 1830.0, 1850.0, 1870.0, 1890.0, 1910.0, 1940.0, 1960.0, 1980.0, 2000.0, 2020.0, 2050.0, 2070.0, 2090.0, 2110.0, 2130.0, 2160.0, 2180.0, 2210.0, 2230.0, 2260.0, 2290.0, 2313.0, 2340.0, 2370.0, 2400.0, 2420.0, 2450.0, 2490.0, 2520.0, 2550.0, 2580.0, 2620.0, 2660.0, 2690.0, 2730.0, 2780.0, 2820.0, 2860.0, 2910.0, 2970.0, 3020.0, 3070.0, 3135.0, 3190.0, 3260.0, 3340.0, 3420.0, 3520.0, 3630.0, 3770.0, 3930.0, 4140.0, 4410.0, 4980.0, 13540.0], \"median\": 1910.0, \"numeric\": true, \"num_unique\": 1036, \"num_undefined\": 0, \"var\": 843494.6523725763, \"progress\": 1.0, \"size\": 21613, \"frequent_items\": {\"2050\": {\"frequency\": 83, \"value\": 2050}, \"4100\": {\"frequency\": 5, \"value\": 4100}, \"2056\": {\"frequency\": 2, \"value\": 2056}, \"4780\": {\"frequency\": 2, \"value\": 4780}, \"2060\": {\"frequency\": 100, \"value\": 2060}, \"4110\": {\"frequency\": 10, \"value\": 4110}, \"2070\": {\"frequency\": 92, \"value\": 2070}, \"4120\": {\"frequency\": 9, \"value\": 4120}, \"2075\": {\"frequency\": 2, \"value\": 2075}, \"2080\": {\"frequency\": 98, \"value\": 2080}, \"4130\": {\"frequency\": 8, \"value\": 4130}, \"2090\": {\"frequency\": 95, \"value\": 2090}, \"4140\": {\"frequency\": 12, \"value\": 4140}, \"2095\": {\"frequency\": 3, \"value\": 2095}, \"2100\": {\"frequency\": 116, \"value\": 2100}, \"4150\": {\"frequency\": 10, \"value\": 4150}, \"6200\": {\"frequency\": 2, \"value\": 6200}, \"2110\": {\"frequency\": 82, \"value\": 2110}, \"4160\": {\"frequency\": 7, \"value\": 4160}, \"2120\": {\"frequency\": 111, \"value\": 2120}, \"4170\": {\"frequency\": 6, \"value\": 4170}, \"2130\": {\"frequency\": 94, \"value\": 2130}, \"4180\": {\"frequency\": 7, \"value\": 4180}, \"2140\": {\"frequency\": 78, \"value\": 2140}, \"4190\": {\"frequency\": 6, \"value\": 4190}, \"2150\": {\"frequency\": 85, \"value\": 2150}, \"4200\": {\"frequency\": 6, \"value\": 4200}, \"2154\": {\"frequency\": 2, \"value\": 2154}, \"2160\": {\"frequency\": 96, \"value\": 2160}, \"5480\": {\"frequency\": 4, \"value\": 5480}, \"4210\": {\"frequency\": 7, \"value\": 4210}, \"2163\": {\"frequency\": 2, \"value\": 2163}, \"2168\": {\"frequency\": 2, \"value\": 2168}, \"2170\": {\"frequency\": 80, \"value\": 2170}, \"4220\": {\"frequency\": 8, \"value\": 4220}, \"2180\": {\"frequency\": 89, \"value\": 2180}, \"4230\": {\"frequency\": 11, \"value\": 4230}, \"2190\": {\"frequency\": 92, \"value\": 2190}, \"4240\": {\"frequency\": 7, \"value\": 4240}, \"2200\": {\"frequency\": 93, \"value\": 2200}, \"4250\": {\"frequency\": 10, \"value\": 4250}, \"2210\": {\"frequency\": 74, \"value\": 2210}, \"4260\": {\"frequency\": 6, \"value\": 4260}, \"2220\": {\"frequency\": 75, \"value\": 2220}, \"4270\": {\"frequency\": 11, \"value\": 4270}, \"2230\": {\"frequency\": 82, \"value\": 2230}, \"4280\": {\"frequency\": 9, \"value\": 4280}, \"4285\": {\"frequency\": 2, \"value\": 4285}, \"2240\": {\"frequency\": 101, \"value\": 2240}, \"4290\": {\"frequency\": 7, \"value\": 4290}, \"2245\": {\"frequency\": 2, \"value\": 2245}, \"2250\": {\"frequency\": 68, \"value\": 2250}, \"4300\": {\"frequency\": 8, \"value\": 4300}, \"2260\": {\"frequency\": 79, \"value\": 2260}, \"4310\": {\"frequency\": 5, \"value\": 4310}, \"2270\": {\"frequency\": 62, \"value\": 2270}, \"4320\": {\"frequency\": 9, \"value\": 4320}, \"2280\": {\"frequency\": 81, \"value\": 2280}, \"4330\": {\"frequency\": 4, \"value\": 4330}, \"2290\": {\"frequency\": 80, \"value\": 2290}, \"4340\": {\"frequency\": 8, \"value\": 4340}, \"2300\": {\"frequency\": 84, \"value\": 2300}, \"4350\": {\"frequency\": 7, \"value\": 4350}, \"2303\": {\"frequency\": 3, \"value\": 2303}, \"2310\": {\"frequency\": 59, \"value\": 2310}, \"4360\": {\"frequency\": 9, \"value\": 4360}, \"2320\": {\"frequency\": 90, \"value\": 2320}, \"4370\": {\"frequency\": 8, \"value\": 4370}, \"2329\": {\"frequency\": 2, \"value\": 2329}, \"2330\": {\"frequency\": 76, \"value\": 2330}, \"4380\": {\"frequency\": 7, \"value\": 4380}, \"2340\": {\"frequency\": 80, \"value\": 2340}, \"4390\": {\"frequency\": 7, \"value\": 4390}, \"2344\": {\"frequency\": 2, \"value\": 2344}, \"2350\": {\"frequency\": 74, \"value\": 2350}, \"4400\": {\"frequency\": 5, \"value\": 4400}, \"2360\": {\"frequency\": 75, \"value\": 2360}, \"4410\": {\"frequency\": 12, \"value\": 4410}, \"2370\": {\"frequency\": 75, \"value\": 2370}, \"4420\": {\"frequency\": 9, \"value\": 4420}, \"2380\": {\"frequency\": 64, \"value\": 2380}, \"4430\": {\"frequency\": 6, \"value\": 4430}, \"2390\": {\"frequency\": 85, \"value\": 2390}, \"4440\": {\"frequency\": 7, \"value\": 4440}, \"2400\": {\"frequency\": 84, \"value\": 2400}, \"4450\": {\"frequency\": 2, \"value\": 4450}, \"2410\": {\"frequency\": 57, \"value\": 2410}, \"4460\": {\"frequency\": 9, \"value\": 4460}, \"2420\": {\"frequency\": 88, \"value\": 2420}, \"4470\": {\"frequency\": 7, \"value\": 4470}, \"2424\": {\"frequency\": 2, \"value\": 2424}, \"4475\": {\"frequency\": 2, \"value\": 4475}, \"2430\": {\"frequency\": 70, \"value\": 2430}, \"4480\": {\"frequency\": 3, \"value\": 4480}, \"390\": {\"frequency\": 2, \"value\": 390}, \"2440\": {\"frequency\": 87, \"value\": 2440}, \"4490\": {\"frequency\": 8, \"value\": 4490}, \"2450\": {\"frequency\": 52, \"value\": 2450}, \"4500\": {\"frequency\": 8, \"value\": 4500}, \"2798\": {\"frequency\": 2, \"value\": 2798}, \"2460\": {\"frequency\": 66, \"value\": 2460}, \"4510\": {\"frequency\": 4, \"value\": 4510}, \"420\": {\"frequency\": 2, \"value\": 420}, \"2470\": {\"frequency\": 52, \"value\": 2470}, \"4520\": {\"frequency\": 2, \"value\": 4520}, \"2475\": {\"frequency\": 4, \"value\": 2475}, \"2480\": {\"frequency\": 65, \"value\": 2480}, \"4530\": {\"frequency\": 2, \"value\": 4530}, \"2483\": {\"frequency\": 2, \"value\": 2483}, \"2490\": {\"frequency\": 58, \"value\": 2490}, \"2495\": {\"frequency\": 3, \"value\": 2495}, \"2500\": {\"frequency\": 90, \"value\": 2500}, \"4550\": {\"frequency\": 2, \"value\": 4550}, \"2506\": {\"frequency\": 2, \"value\": 2506}, \"2510\": {\"frequency\": 70, \"value\": 2510}, \"4560\": {\"frequency\": 8, \"value\": 4560}, \"470\": {\"frequency\": 2, \"value\": 470}, \"2520\": {\"frequency\": 71, \"value\": 2520}, \"4570\": {\"frequency\": 6, \"value\": 4570}, \"480\": {\"frequency\": 2, \"value\": 480}, \"2530\": {\"frequency\": 48, \"value\": 2530}, \"4580\": {\"frequency\": 2, \"value\": 4580}, \"2540\": {\"frequency\": 61, \"value\": 2540}, \"4590\": {\"frequency\": 7, \"value\": 4590}, \"6640\": {\"frequency\": 2, \"value\": 6640}, \"2550\": {\"frequency\": 74, \"value\": 2550}, \"4600\": {\"frequency\": 6, \"value\": 4600}, \"2560\": {\"frequency\": 58, \"value\": 2560}, \"4610\": {\"frequency\": 7, \"value\": 4610}, \"520\": {\"frequency\": 6, \"value\": 520}, \"2570\": {\"frequency\": 62, \"value\": 2570}, \"4620\": {\"frequency\": 3, \"value\": 4620}, \"530\": {\"frequency\": 3, \"value\": 530}, \"2580\": {\"frequency\": 51, \"value\": 2580}, \"4630\": {\"frequency\": 2, \"value\": 4630}, \"2588\": {\"frequency\": 2, \"value\": 2588}, \"2590\": {\"frequency\": 55, \"value\": 2590}, \"4640\": {\"frequency\": 4, \"value\": 4640}, \"550\": {\"frequency\": 4, \"value\": 550}, \"2600\": {\"frequency\": 68, \"value\": 2600}, \"4650\": {\"frequency\": 2, \"value\": 4650}, \"2605\": {\"frequency\": 3, \"value\": 2605}, \"560\": {\"frequency\": 4, \"value\": 560}, \"2610\": {\"frequency\": 51, \"value\": 2610}, \"4660\": {\"frequency\": 6, \"value\": 4660}, \"570\": {\"frequency\": 3, \"value\": 570}, \"2620\": {\"frequency\": 73, \"value\": 2620}, \"4670\": {\"frequency\": 5, \"value\": 4670}, \"580\": {\"frequency\": 5, \"value\": 580}, \"2630\": {\"frequency\": 53, \"value\": 2630}, \"2632\": {\"frequency\": 2, \"value\": 2632}, \"3170\": {\"frequency\": 22, \"value\": 3170}, \"590\": {\"frequency\": 5, \"value\": 590}, \"2640\": {\"frequency\": 50, \"value\": 2640}, \"2641\": {\"frequency\": 2, \"value\": 2641}, \"4690\": {\"frequency\": 5, \"value\": 4690}, \"600\": {\"frequency\": 7, \"value\": 600}, \"2650\": {\"frequency\": 60, \"value\": 2650}, \"4700\": {\"frequency\": 8, \"value\": 4700}, \"610\": {\"frequency\": 4, \"value\": 610}, \"2660\": {\"frequency\": 62, \"value\": 2660}, \"620\": {\"frequency\": 12, \"value\": 620}, \"2670\": {\"frequency\": 46, \"value\": 2670}, \"4720\": {\"frequency\": 4, \"value\": 4720}, \"630\": {\"frequency\": 5, \"value\": 630}, \"2680\": {\"frequency\": 64, \"value\": 2680}, \"4730\": {\"frequency\": 2, \"value\": 4730}, \"640\": {\"frequency\": 5, \"value\": 640}, \"2689\": {\"frequency\": 2, \"value\": 2689}, \"2690\": {\"frequency\": 42, \"value\": 2690}, \"4740\": {\"frequency\": 5, \"value\": 4740}, \"650\": {\"frequency\": 3, \"value\": 650}, \"2700\": {\"frequency\": 58, \"value\": 2700}, \"2701\": {\"frequency\": 2, \"value\": 2701}, \"4750\": {\"frequency\": 5, \"value\": 4750}, \"660\": {\"frequency\": 6, \"value\": 660}, \"2710\": {\"frequency\": 51, \"value\": 2710}, \"2714\": {\"frequency\": 2, \"value\": 2714}, \"670\": {\"frequency\": 25, \"value\": 670}, \"2720\": {\"frequency\": 58, \"value\": 2720}, \"4770\": {\"frequency\": 2, \"value\": 4770}, \"680\": {\"frequency\": 13, \"value\": 680}, \"2730\": {\"frequency\": 48, \"value\": 2730}, \"2732\": {\"frequency\": 2, \"value\": 2732}, \"690\": {\"frequency\": 8, \"value\": 690}, \"2740\": {\"frequency\": 53, \"value\": 2740}, \"4790\": {\"frequency\": 2, \"value\": 4790}, \"700\": {\"frequency\": 36, \"value\": 700}, \"2750\": {\"frequency\": 40, \"value\": 2750}, \"4800\": {\"frequency\": 3, \"value\": 4800}, \"2755\": {\"frequency\": 2, \"value\": 2755}, \"710\": {\"frequency\": 27, \"value\": 710}, \"2760\": {\"frequency\": 43, \"value\": 2760}, \"4810\": {\"frequency\": 2, \"value\": 4810}, \"720\": {\"frequency\": 49, \"value\": 720}, \"2770\": {\"frequency\": 56, \"value\": 2770}, \"730\": {\"frequency\": 14, \"value\": 730}, \"2780\": {\"frequency\": 47, \"value\": 2780}, \"4830\": {\"frequency\": 4, \"value\": 4830}, \"740\": {\"frequency\": 22, \"value\": 740}, \"2790\": {\"frequency\": 52, \"value\": 2790}, \"750\": {\"frequency\": 27, \"value\": 750}, \"2800\": {\"frequency\": 54, \"value\": 2800}, \"4850\": {\"frequency\": 4, \"value\": 4850}, \"760\": {\"frequency\": 25, \"value\": 760}, \"2810\": {\"frequency\": 46, \"value\": 2810}, \"4860\": {\"frequency\": 5, \"value\": 4860}, \"2815\": {\"frequency\": 2, \"value\": 2815}, \"770\": {\"frequency\": 42, \"value\": 770}, \"2820\": {\"frequency\": 54, \"value\": 2820}, \"4870\": {\"frequency\": 3, \"value\": 4870}, \"780\": {\"frequency\": 26, \"value\": 780}, \"2830\": {\"frequency\": 46, \"value\": 2830}, \"790\": {\"frequency\": 38, \"value\": 790}, \"2840\": {\"frequency\": 49, \"value\": 2840}, \"4890\": {\"frequency\": 3, \"value\": 4890}, \"800\": {\"frequency\": 47, \"value\": 800}, \"2850\": {\"frequency\": 38, \"value\": 2850}, \"810\": {\"frequency\": 27, \"value\": 810}, \"2860\": {\"frequency\": 39, \"value\": 2860}, \"4910\": {\"frequency\": 4, \"value\": 4910}, \"820\": {\"frequency\": 40, \"value\": 820}, \"2870\": {\"frequency\": 38, \"value\": 2870}, \"4920\": {\"frequency\": 3, \"value\": 4920}, \"2876\": {\"frequency\": 2, \"value\": 2876}, \"830\": {\"frequency\": 36, \"value\": 830}, \"2880\": {\"frequency\": 46, \"value\": 2880}, \"4930\": {\"frequency\": 4, \"value\": 4930}, \"840\": {\"frequency\": 56, \"value\": 840}, \"2890\": {\"frequency\": 34, \"value\": 2890}, \"850\": {\"frequency\": 26, \"value\": 850}, \"2900\": {\"frequency\": 35, \"value\": 2900}, \"860\": {\"frequency\": 57, \"value\": 860}, \"2910\": {\"frequency\": 57, \"value\": 2910}, \"4960\": {\"frequency\": 2, \"value\": 4960}, \"870\": {\"frequency\": 36, \"value\": 870}, \"2920\": {\"frequency\": 43, \"value\": 2920}, \"1852\": {\"frequency\": 2, \"value\": 1852}, \"2927\": {\"frequency\": 2, \"value\": 2927}, \"880\": {\"frequency\": 54, \"value\": 880}, \"2930\": {\"frequency\": 37, \"value\": 2930}, \"4980\": {\"frequency\": 2, \"value\": 4980}, \"890\": {\"frequency\": 33, \"value\": 890}, \"2940\": {\"frequency\": 34, \"value\": 2940}, \"900\": {\"frequency\": 53, \"value\": 900}, \"2950\": {\"frequency\": 32, \"value\": 2950}, \"5000\": {\"frequency\": 4, \"value\": 5000}, \"3223\": {\"frequency\": 2, \"value\": 3223}, \"910\": {\"frequency\": 60, \"value\": 910}, \"2960\": {\"frequency\": 37, \"value\": 2960}, \"5010\": {\"frequency\": 3, \"value\": 5010}, \"920\": {\"frequency\": 51, \"value\": 920}, \"2970\": {\"frequency\": 29, \"value\": 2970}, \"5020\": {\"frequency\": 3, \"value\": 5020}, \"930\": {\"frequency\": 43, \"value\": 930}, \"2980\": {\"frequency\": 57, \"value\": 2980}, \"940\": {\"frequency\": 62, \"value\": 940}, \"2990\": {\"frequency\": 48, \"value\": 2990}, \"5040\": {\"frequency\": 3, \"value\": 5040}, \"950\": {\"frequency\": 46, \"value\": 950}, \"3000\": {\"frequency\": 40, \"value\": 3000}, \"5050\": {\"frequency\": 4, \"value\": 5050}, \"960\": {\"frequency\": 82, \"value\": 960}, \"3010\": {\"frequency\": 48, \"value\": 3010}, \"970\": {\"frequency\": 49, \"value\": 970}, \"3020\": {\"frequency\": 41, \"value\": 3020}, \"980\": {\"frequency\": 53, \"value\": 980}, \"3030\": {\"frequency\": 45, \"value\": 3030}, \"990\": {\"frequency\": 53, \"value\": 990}, \"3040\": {\"frequency\": 45, \"value\": 3040}, \"5090\": {\"frequency\": 2, \"value\": 5090}, \"998\": {\"frequency\": 2, \"value\": 998}, \"1000\": {\"frequency\": 73, \"value\": 1000}, \"3050\": {\"frequency\": 25, \"value\": 3050}, \"1010\": {\"frequency\": 129, \"value\": 1010}, \"3060\": {\"frequency\": 34, \"value\": 3060}, \"5110\": {\"frequency\": 2, \"value\": 5110}, \"1020\": {\"frequency\": 73, \"value\": 1020}, \"3070\": {\"frequency\": 36, \"value\": 3070}, \"5120\": {\"frequency\": 2, \"value\": 5120}, \"1030\": {\"frequency\": 57, \"value\": 1030}, \"3080\": {\"frequency\": 36, \"value\": 3080}, \"1040\": {\"frequency\": 78, \"value\": 1040}, \"3090\": {\"frequency\": 38, \"value\": 3090}, \"1050\": {\"frequency\": 68, \"value\": 1050}, \"3100\": {\"frequency\": 34, \"value\": 3100}, \"5150\": {\"frequency\": 3, \"value\": 5150}, \"1060\": {\"frequency\": 94, \"value\": 1060}, \"3110\": {\"frequency\": 35, \"value\": 3110}, \"1068\": {\"frequency\": 3, \"value\": 1068}, \"1070\": {\"frequency\": 76, \"value\": 1070}, \"3120\": {\"frequency\": 24, \"value\": 3120}, \"1080\": {\"frequency\": 50, \"value\": 1080}, \"3130\": {\"frequency\": 35, \"value\": 3130}, \"5180\": {\"frequency\": 5, \"value\": 5180}, \"1088\": {\"frequency\": 2, \"value\": 1088}, \"1090\": {\"frequency\": 69, \"value\": 1090}, \"3140\": {\"frequency\": 32, \"value\": 3140}, \"5190\": {\"frequency\": 3, \"value\": 5190}, \"1100\": {\"frequency\": 79, \"value\": 1100}, \"3150\": {\"frequency\": 36, \"value\": 3150}, \"1110\": {\"frequency\": 48, \"value\": 1110}, \"3160\": {\"frequency\": 49, \"value\": 3160}, \"1120\": {\"frequency\": 86, \"value\": 1120}, \"1552\": {\"frequency\": 2, \"value\": 1552}, \"1122\": {\"frequency\": 2, \"value\": 1122}, \"5220\": {\"frequency\": 2, \"value\": 5220}, \"1130\": {\"frequency\": 56, \"value\": 1130}, \"3180\": {\"frequency\": 41, \"value\": 3180}, \"5230\": {\"frequency\": 3, \"value\": 5230}, \"1140\": {\"frequency\": 100, \"value\": 1140}, \"3190\": {\"frequency\": 47, \"value\": 3190}, \"1150\": {\"frequency\": 98, \"value\": 1150}, \"3200\": {\"frequency\": 36, \"value\": 3200}, \"1160\": {\"frequency\": 91, \"value\": 1160}, \"3210\": {\"frequency\": 18, \"value\": 3210}, \"2242\": {\"frequency\": 5, \"value\": 2242}, \"1170\": {\"frequency\": 78, \"value\": 1170}, \"3220\": {\"frequency\": 40, \"value\": 3220}, \"5270\": {\"frequency\": 3, \"value\": 5270}, \"1175\": {\"frequency\": 2, \"value\": 1175}, \"1180\": {\"frequency\": 89, \"value\": 1180}, \"3230\": {\"frequency\": 36, \"value\": 3230}, \"1190\": {\"frequency\": 67, \"value\": 1190}, \"3240\": {\"frequency\": 31, \"value\": 3240}, \"540\": {\"frequency\": 2, \"value\": 540}, \"5290\": {\"frequency\": 2, \"value\": 5290}, \"1200\": {\"frequency\": 118, \"value\": 1200}, \"3250\": {\"frequency\": 28, \"value\": 3250}, \"5300\": {\"frequency\": 2, \"value\": 5300}, \"1210\": {\"frequency\": 88, \"value\": 1210}, \"3260\": {\"frequency\": 20, \"value\": 3260}, \"5310\": {\"frequency\": 4, \"value\": 5310}, \"3266\": {\"frequency\": 2, \"value\": 3266}, \"1220\": {\"frequency\": 92, \"value\": 1220}, \"3270\": {\"frequency\": 23, \"value\": 3270}, \"1230\": {\"frequency\": 82, \"value\": 1230}, \"3280\": {\"frequency\": 29, \"value\": 3280}, \"5330\": {\"frequency\": 2, \"value\": 5330}, \"1240\": {\"frequency\": 112, \"value\": 1240}, \"3290\": {\"frequency\": 29, \"value\": 3290}, \"1250\": {\"frequency\": 120, \"value\": 1250}, \"3300\": {\"frequency\": 24, \"value\": 3300}, \"5350\": {\"frequency\": 2, \"value\": 5350}, \"1255\": {\"frequency\": 2, \"value\": 1255}, \"1260\": {\"frequency\": 113, \"value\": 1260}, \"3310\": {\"frequency\": 23, \"value\": 3310}, \"1270\": {\"frequency\": 102, \"value\": 1270}, \"3320\": {\"frequency\": 36, \"value\": 3320}, \"5370\": {\"frequency\": 5, \"value\": 5370}, \"1280\": {\"frequency\": 100, \"value\": 1280}, \"3330\": {\"frequency\": 21, \"value\": 3330}, \"1290\": {\"frequency\": 74, \"value\": 1290}, \"3340\": {\"frequency\": 22, \"value\": 3340}, \"1300\": {\"frequency\": 138, \"value\": 1300}, \"3350\": {\"frequency\": 22, \"value\": 3350}, \"1310\": {\"frequency\": 81, \"value\": 1310}, \"3360\": {\"frequency\": 22, \"value\": 3360}, \"3361\": {\"frequency\": 2, \"value\": 3361}, \"1320\": {\"frequency\": 122, \"value\": 1320}, \"3370\": {\"frequency\": 39, \"value\": 3370}, \"1330\": {\"frequency\": 89, \"value\": 1330}, \"3380\": {\"frequency\": 17, \"value\": 3380}, \"5430\": {\"frequency\": 2, \"value\": 5430}, \"1340\": {\"frequency\": 113, \"value\": 1340}, \"3390\": {\"frequency\": 16, \"value\": 3390}, \"5440\": {\"frequency\": 2, \"value\": 5440}, \"1350\": {\"frequency\": 95, \"value\": 1350}, \"3400\": {\"frequency\": 30, \"value\": 3400}, \"5450\": {\"frequency\": 2, \"value\": 5450}, \"1358\": {\"frequency\": 3, \"value\": 1358}, \"1360\": {\"frequency\": 96, \"value\": 1360}, \"3410\": {\"frequency\": 24, \"value\": 3410}, \"1370\": {\"frequency\": 118, \"value\": 1370}, \"3420\": {\"frequency\": 32, \"value\": 3420}, \"5470\": {\"frequency\": 2, \"value\": 5470}, \"1380\": {\"frequency\": 85, \"value\": 1380}, \"3430\": {\"frequency\": 20, \"value\": 3430}, \"1384\": {\"frequency\": 3, \"value\": 1384}, \"1390\": {\"frequency\": 89, \"value\": 1390}, \"3440\": {\"frequency\": 27, \"value\": 3440}, \"5490\": {\"frequency\": 2, \"value\": 5490}, \"1400\": {\"frequency\": 135, \"value\": 1400}, \"3450\": {\"frequency\": 24, \"value\": 3450}, \"1410\": {\"frequency\": 109, \"value\": 1410}, \"3460\": {\"frequency\": 14, \"value\": 3460}, \"1413\": {\"frequency\": 2, \"value\": 1413}, \"1420\": {\"frequency\": 92, \"value\": 1420}, \"3470\": {\"frequency\": 21, \"value\": 3470}, \"1430\": {\"frequency\": 116, \"value\": 1430}, \"3480\": {\"frequency\": 21, \"value\": 3480}, \"1440\": {\"frequency\": 133, \"value\": 1440}, \"3490\": {\"frequency\": 26, \"value\": 3490}, \"5540\": {\"frequency\": 2, \"value\": 5540}, \"1445\": {\"frequency\": 5, \"value\": 1445}, \"1450\": {\"frequency\": 91, \"value\": 1450}, \"3500\": {\"frequency\": 29, \"value\": 3500}, \"5550\": {\"frequency\": 4, \"value\": 5550}, \"4680\": {\"frequency\": 2, \"value\": 4680}, \"1460\": {\"frequency\": 116, \"value\": 1460}, \"3510\": {\"frequency\": 21, \"value\": 3510}, \"1470\": {\"frequency\": 112, \"value\": 1470}, \"3520\": {\"frequency\": 21, \"value\": 3520}, \"1480\": {\"frequency\": 125, \"value\": 1480}, \"1481\": {\"frequency\": 2, \"value\": 1481}, \"3530\": {\"frequency\": 21, \"value\": 3530}, \"1954\": {\"frequency\": 2, \"value\": 1954}, \"1489\": {\"frequency\": 3, \"value\": 1489}, \"1490\": {\"frequency\": 99, \"value\": 1490}, \"3540\": {\"frequency\": 14, \"value\": 3540}, \"1494\": {\"frequency\": 2, \"value\": 1494}, \"1500\": {\"frequency\": 112, \"value\": 1500}, \"3550\": {\"frequency\": 20, \"value\": 3550}, \"1509\": {\"frequency\": 3, \"value\": 1509}, \"1510\": {\"frequency\": 114, \"value\": 1510}, \"3560\": {\"frequency\": 28, \"value\": 3560}, \"5610\": {\"frequency\": 2, \"value\": 5610}, \"1520\": {\"frequency\": 102, \"value\": 1520}, \"3570\": {\"frequency\": 16, \"value\": 3570}, \"5620\": {\"frequency\": 2, \"value\": 5620}, \"1530\": {\"frequency\": 109, \"value\": 1530}, \"3580\": {\"frequency\": 14, \"value\": 3580}, \"1540\": {\"frequency\": 124, \"value\": 1540}, \"3590\": {\"frequency\": 7, \"value\": 3590}, \"1550\": {\"frequency\": 96, \"value\": 1550}, \"3600\": {\"frequency\": 25, \"value\": 3600}, \"1553\": {\"frequency\": 2, \"value\": 1553}, \"1560\": {\"frequency\": 124, \"value\": 1560}, \"3610\": {\"frequency\": 19, \"value\": 3610}, \"1570\": {\"frequency\": 100, \"value\": 1570}, \"3620\": {\"frequency\": 17, \"value\": 3620}, \"1580\": {\"frequency\": 119, \"value\": 1580}, \"3630\": {\"frequency\": 13, \"value\": 3630}, \"1584\": {\"frequency\": 3, \"value\": 1584}, \"1590\": {\"frequency\": 104, \"value\": 1590}, \"3640\": {\"frequency\": 13, \"value\": 3640}, \"1600\": {\"frequency\": 109, \"value\": 1600}, \"3650\": {\"frequency\": 19, \"value\": 3650}, \"1608\": {\"frequency\": 3, \"value\": 1608}, \"1610\": {\"frequency\": 112, \"value\": 1610}, \"3660\": {\"frequency\": 10, \"value\": 3660}, \"1620\": {\"frequency\": 99, \"value\": 1620}, \"3670\": {\"frequency\": 15, \"value\": 3670}, \"1630\": {\"frequency\": 94, \"value\": 1630}, \"3680\": {\"frequency\": 21, \"value\": 3680}, \"1640\": {\"frequency\": 112, \"value\": 1640}, \"3690\": {\"frequency\": 12, \"value\": 3690}, \"1646\": {\"frequency\": 3, \"value\": 1646}, \"1650\": {\"frequency\": 117, \"value\": 1650}, \"1651\": {\"frequency\": 2, \"value\": 1651}, \"3700\": {\"frequency\": 18, \"value\": 3700}, \"1654\": {\"frequency\": 2, \"value\": 1654}, \"1660\": {\"frequency\": 129, \"value\": 1660}, \"3710\": {\"frequency\": 10, \"value\": 3710}, \"1670\": {\"frequency\": 109, \"value\": 1670}, \"3720\": {\"frequency\": 23, \"value\": 3720}, \"5770\": {\"frequency\": 3, \"value\": 5770}, \"1677\": {\"frequency\": 2, \"value\": 1677}, \"1680\": {\"frequency\": 116, \"value\": 1680}, \"3730\": {\"frequency\": 16, \"value\": 3730}, \"5780\": {\"frequency\": 2, \"value\": 5780}, \"1690\": {\"frequency\": 110, \"value\": 1690}, \"3740\": {\"frequency\": 17, \"value\": 3740}, \"5790\": {\"frequency\": 2, \"value\": 5790}, \"1700\": {\"frequency\": 108, \"value\": 1700}, \"3750\": {\"frequency\": 10, \"value\": 3750}, \"1710\": {\"frequency\": 93, \"value\": 1710}, \"3760\": {\"frequency\": 18, \"value\": 3760}, \"1714\": {\"frequency\": 3, \"value\": 1714}, \"1720\": {\"frequency\": 125, \"value\": 1720}, \"3770\": {\"frequency\": 13, \"value\": 3770}, \"1730\": {\"frequency\": 100, \"value\": 1730}, \"3780\": {\"frequency\": 14, \"value\": 3780}, \"1740\": {\"frequency\": 115, \"value\": 1740}, \"1741\": {\"frequency\": 2, \"value\": 1741}, \"3790\": {\"frequency\": 9, \"value\": 3790}, \"5840\": {\"frequency\": 2, \"value\": 5840}, \"1750\": {\"frequency\": 83, \"value\": 1750}, \"3800\": {\"frequency\": 10, \"value\": 3800}, \"5850\": {\"frequency\": 2, \"value\": 5850}, \"1760\": {\"frequency\": 104, \"value\": 1760}, \"3810\": {\"frequency\": 13, \"value\": 3810}, \"5860\": {\"frequency\": 3, \"value\": 5860}, \"1769\": {\"frequency\": 2, \"value\": 1769}, \"1770\": {\"frequency\": 98, \"value\": 1770}, \"3820\": {\"frequency\": 13, \"value\": 3820}, \"1780\": {\"frequency\": 117, \"value\": 1780}, \"3830\": {\"frequency\": 20, \"value\": 3830}, \"1785\": {\"frequency\": 2, \"value\": 1785}, \"1322\": {\"frequency\": 2, \"value\": 1322}, \"1790\": {\"frequency\": 110, \"value\": 1790}, \"3840\": {\"frequency\": 14, \"value\": 3840}, \"1800\": {\"frequency\": 129, \"value\": 1800}, \"3850\": {\"frequency\": 8, \"value\": 3850}, \"1810\": {\"frequency\": 98, \"value\": 1810}, \"3860\": {\"frequency\": 15, \"value\": 3860}, \"2692\": {\"frequency\": 2, \"value\": 2692}, \"1820\": {\"frequency\": 128, \"value\": 1820}, \"3870\": {\"frequency\": 12, \"value\": 3870}, \"1830\": {\"frequency\": 114, \"value\": 1830}, \"3880\": {\"frequency\": 13, \"value\": 3880}, \"1840\": {\"frequency\": 101, \"value\": 1840}, \"3890\": {\"frequency\": 14, \"value\": 3890}, \"1847\": {\"frequency\": 2, \"value\": 1847}, \"1850\": {\"frequency\": 100, \"value\": 1850}, \"3900\": {\"frequency\": 10, \"value\": 3900}, \"1860\": {\"frequency\": 91, \"value\": 1860}, \"3910\": {\"frequency\": 13, \"value\": 3910}, \"5960\": {\"frequency\": 2, \"value\": 5960}, \"1870\": {\"frequency\": 96, \"value\": 1870}, \"3920\": {\"frequency\": 17, \"value\": 3920}, \"1880\": {\"frequency\": 90, \"value\": 1880}, \"3930\": {\"frequency\": 11, \"value\": 3930}, \"1890\": {\"frequency\": 98, \"value\": 1890}, \"3940\": {\"frequency\": 8, \"value\": 3940}, \"5990\": {\"frequency\": 2, \"value\": 5990}, \"1900\": {\"frequency\": 117, \"value\": 1900}, \"3950\": {\"frequency\": 13, \"value\": 3950}, \"1910\": {\"frequency\": 81, \"value\": 1910}, \"3960\": {\"frequency\": 11, \"value\": 3960}, \"1914\": {\"frequency\": 2, \"value\": 1914}, \"1920\": {\"frequency\": 94, \"value\": 1920}, \"3970\": {\"frequency\": 8, \"value\": 3970}, \"1930\": {\"frequency\": 88, \"value\": 1930}, \"3980\": {\"frequency\": 6, \"value\": 3980}, \"1936\": {\"frequency\": 2, \"value\": 1936}, \"1940\": {\"frequency\": 101, \"value\": 1940}, \"3990\": {\"frequency\": 16, \"value\": 3990}, \"1950\": {\"frequency\": 92, \"value\": 1950}, \"4000\": {\"frequency\": 7, \"value\": 4000}, \"6050\": {\"frequency\": 2, \"value\": 6050}, \"1960\": {\"frequency\": 110, \"value\": 1960}, \"4010\": {\"frequency\": 12, \"value\": 4010}, \"1970\": {\"frequency\": 84, \"value\": 1970}, \"4020\": {\"frequency\": 9, \"value\": 4020}, \"6070\": {\"frequency\": 2, \"value\": 6070}, \"1980\": {\"frequency\": 105, \"value\": 1980}, \"1981\": {\"frequency\": 2, \"value\": 1981}, \"4030\": {\"frequency\": 11, \"value\": 4030}, \"1984\": {\"frequency\": 3, \"value\": 1984}, \"1990\": {\"frequency\": 85, \"value\": 1990}, \"4040\": {\"frequency\": 14, \"value\": 4040}, \"1995\": {\"frequency\": 4, \"value\": 1995}, \"2000\": {\"frequency\": 103, \"value\": 2000}, \"4050\": {\"frequency\": 8, \"value\": 4050}, \"2009\": {\"frequency\": 2, \"value\": 2009}, \"2010\": {\"frequency\": 77, \"value\": 2010}, \"4060\": {\"frequency\": 13, \"value\": 4060}, \"2020\": {\"frequency\": 104, \"value\": 2020}, \"4070\": {\"frequency\": 10, \"value\": 4070}, \"2030\": {\"frequency\": 78, \"value\": 2030}, \"4080\": {\"frequency\": 7, \"value\": 4080}, \"2040\": {\"frequency\": 104, \"value\": 2040}, \"4090\": {\"frequency\": 8, \"value\": 4090}}, \"mean\": 2079.8997362698383}, \"floors\": {\"complete\": true, \"numeric\": false, \"num_unique\": 6, \"num_undefined\": 0, \"progress\": 1.0, \"frequent_items\": {\"1.5\": {\"frequency\": 1910, \"value\": \"1.5\"}, \"1\": {\"frequency\": 10680, \"value\": \"1\"}, \"3\": {\"frequency\": 613, \"value\": \"3\"}, \"2\": {\"frequency\": 8241, \"value\": \"2\"}, \"3.5\": {\"frequency\": 8, \"value\": \"3.5\"}, \"2.5\": {\"frequency\": 161, \"value\": \"2.5\"}}, \"size\": 21613}, \"sqft_lot\": {\"std\": 41419.55327262768, \"complete\": true, \"min\": 520.0, \"max\": 1651359.0, \"quantile\": [520.0, 1012.0, 1183.0, 1304.0, 1488.0, 1800.0, 2171.0, 2550.0, 2850.0, 3060.0, 3315.0, 3570.0, 3720.0, 3855.0, 4000.0, 4007.0, 4120.0, 4257.0, 4407.0, 4502.0, 4641.0, 4788.0, 4871.0, 5000.0, 5000.0, 5040.0, 5112.0, 5217.0, 5368.0, 5500.0, 5610.0, 5750.0, 5857.0, 6000.0, 6000.0, 6120.0, 6240.0, 6360.0, 6480.0, 6600.0, 6739.0, 6874.0, 7000.0, 7128.0, 7200.0, 7210.0, 7280.0, 7361.0, 7475.0, 7526.0, 7620.0, 7700.0, 7800.0, 7884.0, 8000.0, 8073.0, 8147.0, 8250.0, 8367.0, 8428.0, 8527.0, 8640.0, 8775.0, 8922.0, 9025.0, 9182.0, 9346.0, 9500.0, 9600.0, 9688.0, 9800.0, 9957.0, 10100.0, 10250.0, 10454.0, 10698.0, 10920.0, 11222.0, 11520.0, 11900.0, 12195.0, 12581.0, 13068.0, 13521.0, 14212.0, 15005.0, 15750.0, 16677.0, 18000.0, 19602.0, 21441.0, 24192.0, 28535.0, 34870.0, 37800.0, 43377.0, 50800.0, 67518.0, 107157.0, 213008.0, 1651359.0], \"median\": 7620.0, \"numeric\": true, \"num_unique\": 9747, \"num_undefined\": 0, \"var\": 1715579393.3040426, \"progress\": 1.0, \"size\": 21613, \"frequent_items\": {\"8195\": {\"frequency\": 2, \"value\": 8195}, \"8196\": {\"frequency\": 2, \"value\": 8196}, \"8200\": {\"frequency\": 11, \"value\": 8200}, \"8201\": {\"frequency\": 2, \"value\": 8201}, \"16400\": {\"frequency\": 2, \"value\": 16400}, \"8215\": {\"frequency\": 4, \"value\": 8215}, \"8220\": {\"frequency\": 6, \"value\": 8220}, \"8223\": {\"frequency\": 4, \"value\": 8223}, \"8225\": {\"frequency\": 3, \"value\": 8225}, \"8227\": {\"frequency\": 3, \"value\": 8227}, \"8230\": {\"frequency\": 3, \"value\": 8230}, \"8234\": {\"frequency\": 4, \"value\": 8234}, \"8235\": {\"frequency\": 2, \"value\": 8235}, \"8239\": {\"frequency\": 3, \"value\": 8239}, \"8240\": {\"frequency\": 8, \"value\": 8240}, \"8250\": {\"frequency\": 34, \"value\": 8250}, \"8251\": {\"frequency\": 2, \"value\": 8251}, \"8252\": {\"frequency\": 3, \"value\": 8252}, \"8254\": {\"frequency\": 3, \"value\": 8254}, \"8255\": {\"frequency\": 2, \"value\": 8255}, \"8256\": {\"frequency\": 2, \"value\": 8256}, \"8261\": {\"frequency\": 3, \"value\": 8261}, \"49222\": {\"frequency\": 4, \"value\": 49222}, \"1377\": {\"frequency\": 3, \"value\": 1377}, \"8266\": {\"frequency\": 2, \"value\": 8266}, \"8268\": {\"frequency\": 2, \"value\": 8268}, \"8270\": {\"frequency\": 2, \"value\": 8270}, \"8276\": {\"frequency\": 4, \"value\": 8276}, \"8279\": {\"frequency\": 3, \"value\": 8279}, \"8280\": {\"frequency\": 7, \"value\": 8280}, \"8281\": {\"frequency\": 4, \"value\": 8281}, \"8282\": {\"frequency\": 4, \"value\": 8282}, \"8284\": {\"frequency\": 4, \"value\": 8284}, \"8287\": {\"frequency\": 2, \"value\": 8287}, \"8208\": {\"frequency\": 4, \"value\": 8208}, \"8290\": {\"frequency\": 4, \"value\": 8290}, \"8296\": {\"frequency\": 3, \"value\": 8296}, \"8300\": {\"frequency\": 6, \"value\": 8300}, \"8301\": {\"frequency\": 5, \"value\": 8301}, \"8303\": {\"frequency\": 3, \"value\": 8303}, \"8306\": {\"frequency\": 2, \"value\": 8306}, \"8307\": {\"frequency\": 2, \"value\": 8307}, \"8308\": {\"frequency\": 5, \"value\": 8308}, \"6005\": {\"frequency\": 4, \"value\": 6005}, \"8313\": {\"frequency\": 2, \"value\": 8313}, \"8314\": {\"frequency\": 2, \"value\": 8314}, \"8315\": {\"frequency\": 2, \"value\": 8315}, \"8316\": {\"frequency\": 9, \"value\": 8316}, \"8320\": {\"frequency\": 7, \"value\": 8320}, \"8321\": {\"frequency\": 2, \"value\": 8321}, \"1387\": {\"frequency\": 2, \"value\": 1387}, \"8325\": {\"frequency\": 5, \"value\": 8325}, \"8327\": {\"frequency\": 2, \"value\": 8327}, \"8329\": {\"frequency\": 2, \"value\": 8329}, \"8331\": {\"frequency\": 2, \"value\": 8331}, \"98445\": {\"frequency\": 4, \"value\": 98445}, \"8336\": {\"frequency\": 4, \"value\": 8336}, \"8338\": {\"frequency\": 2, \"value\": 8338}, \"8340\": {\"frequency\": 2, \"value\": 8340}, \"8342\": {\"frequency\": 3, \"value\": 8342}, \"8345\": {\"frequency\": 2, \"value\": 8345}, \"8346\": {\"frequency\": 2, \"value\": 8346}, \"57499\": {\"frequency\": 7, \"value\": 57499}, \"8354\": {\"frequency\": 2, \"value\": 8354}, \"8360\": {\"frequency\": 3, \"value\": 8360}, \"8362\": {\"frequency\": 2, \"value\": 8362}, \"8364\": {\"frequency\": 5, \"value\": 8364}, \"8366\": {\"frequency\": 4, \"value\": 8366}, \"8370\": {\"frequency\": 4, \"value\": 8370}, \"8372\": {\"frequency\": 4, \"value\": 8372}, \"8374\": {\"frequency\": 2, \"value\": 8374}, \"8375\": {\"frequency\": 4, \"value\": 8375}, \"8376\": {\"frequency\": 2, \"value\": 8376}, \"9588\": {\"frequency\": 3, \"value\": 9588}, \"8378\": {\"frequency\": 5, \"value\": 8378}, \"8379\": {\"frequency\": 2, \"value\": 8379}, \"8382\": {\"frequency\": 4, \"value\": 8382}, \"8384\": {\"frequency\": 6, \"value\": 8384}, \"8385\": {\"frequency\": 2, \"value\": 8385}, \"8391\": {\"frequency\": 2, \"value\": 8391}, \"8392\": {\"frequency\": 2, \"value\": 8392}, \"8395\": {\"frequency\": 4, \"value\": 8395}, \"8398\": {\"frequency\": 2, \"value\": 8398}, \"8399\": {\"frequency\": 2, \"value\": 8399}, \"8400\": {\"frequency\": 111, \"value\": 8400}, \"8401\": {\"frequency\": 3, \"value\": 8401}, \"8404\": {\"frequency\": 3, \"value\": 8404}, \"16600\": {\"frequency\": 2, \"value\": 16600}, \"4132\": {\"frequency\": 2, \"value\": 4132}, \"8410\": {\"frequency\": 6, \"value\": 8410}, \"8412\": {\"frequency\": 4, \"value\": 8412}, \"8414\": {\"frequency\": 3, \"value\": 8414}, \"8415\": {\"frequency\": 2, \"value\": 8415}, \"106722\": {\"frequency\": 2, \"value\": 106722}, \"8423\": {\"frequency\": 2, \"value\": 8423}, \"8424\": {\"frequency\": 8, \"value\": 8424}, \"8426\": {\"frequency\": 3, \"value\": 8426}, \"8429\": {\"frequency\": 2, \"value\": 8429}, \"8432\": {\"frequency\": 4, \"value\": 8432}, \"8433\": {\"frequency\": 2, \"value\": 8433}, \"8436\": {\"frequency\": 3, \"value\": 8436}, \"8438\": {\"frequency\": 3, \"value\": 8438}, \"8440\": {\"frequency\": 2, \"value\": 8440}, \"8442\": {\"frequency\": 6, \"value\": 8442}, \"1407\": {\"frequency\": 5, \"value\": 1407}, \"24829\": {\"frequency\": 2, \"value\": 24829}, \"8447\": {\"frequency\": 2, \"value\": 8447}, \"8448\": {\"frequency\": 6, \"value\": 8448}, \"8449\": {\"frequency\": 3, \"value\": 8449}, \"8450\": {\"frequency\": 14, \"value\": 8450}, \"8451\": {\"frequency\": 3, \"value\": 8451}, \"8454\": {\"frequency\": 2, \"value\": 8454}, \"16650\": {\"frequency\": 2, \"value\": 16650}, \"8459\": {\"frequency\": 2, \"value\": 8459}, \"8460\": {\"frequency\": 2, \"value\": 8460}, \"8465\": {\"frequency\": 2, \"value\": 8465}, \"8467\": {\"frequency\": 2, \"value\": 8467}, \"8469\": {\"frequency\": 2, \"value\": 8469}, \"8470\": {\"frequency\": 13, \"value\": 8470}, \"5508\": {\"frequency\": 4, \"value\": 5508}, \"8474\": {\"frequency\": 3, \"value\": 8474}, \"8475\": {\"frequency\": 4, \"value\": 8475}, \"8480\": {\"frequency\": 7, \"value\": 8480}, \"8481\": {\"frequency\": 2, \"value\": 8481}, \"41250\": {\"frequency\": 2, \"value\": 41250}, \"16679\": {\"frequency\": 2, \"value\": 16679}, \"8490\": {\"frequency\": 2, \"value\": 8490}, \"8491\": {\"frequency\": 2, \"value\": 8491}, \"8494\": {\"frequency\": 3, \"value\": 8494}, \"8498\": {\"frequency\": 3, \"value\": 8498}, \"8499\": {\"frequency\": 2, \"value\": 8499}, \"8500\": {\"frequency\": 19, \"value\": 8500}, \"8504\": {\"frequency\": 8, \"value\": 8504}, \"8505\": {\"frequency\": 14, \"value\": 8505}, \"8509\": {\"frequency\": 3, \"value\": 8509}, \"8510\": {\"frequency\": 2, \"value\": 8510}, \"8512\": {\"frequency\": 4, \"value\": 8512}, \"8514\": {\"frequency\": 2, \"value\": 8514}, \"74052\": {\"frequency\": 4, \"value\": 74052}, \"8518\": {\"frequency\": 3, \"value\": 8518}, \"8520\": {\"frequency\": 6, \"value\": 8520}, \"8521\": {\"frequency\": 3, \"value\": 8521}, \"8526\": {\"frequency\": 2, \"value\": 8526}, \"8528\": {\"frequency\": 5, \"value\": 8528}, \"8530\": {\"frequency\": 2, \"value\": 8530}, \"8532\": {\"frequency\": 2, \"value\": 8532}, \"8536\": {\"frequency\": 5, \"value\": 8536}, \"8540\": {\"frequency\": 8, \"value\": 8540}, \"8541\": {\"frequency\": 2, \"value\": 8541}, \"8544\": {\"frequency\": 2, \"value\": 8544}, \"8545\": {\"frequency\": 3, \"value\": 8545}, \"8547\": {\"frequency\": 3, \"value\": 8547}, \"8548\": {\"frequency\": 3, \"value\": 8548}, \"8549\": {\"frequency\": 3, \"value\": 8549}, \"8550\": {\"frequency\": 6, \"value\": 8550}, \"8555\": {\"frequency\": 2, \"value\": 8555}, \"8558\": {\"frequency\": 3, \"value\": 8558}, \"8560\": {\"frequency\": 11, \"value\": 8560}, \"8564\": {\"frequency\": 2, \"value\": 8564}, \"8570\": {\"frequency\": 3, \"value\": 8570}, \"8571\": {\"frequency\": 4, \"value\": 8571}, \"8572\": {\"frequency\": 3, \"value\": 8572}, \"8573\": {\"frequency\": 2, \"value\": 8573}, \"8576\": {\"frequency\": 2, \"value\": 8576}, \"8579\": {\"frequency\": 2, \"value\": 8579}, \"8580\": {\"frequency\": 19, \"value\": 8580}, \"8581\": {\"frequency\": 3, \"value\": 8581}, \"8584\": {\"frequency\": 2, \"value\": 8584}, \"8587\": {\"frequency\": 2, \"value\": 8587}, \"8600\": {\"frequency\": 7, \"value\": 8600}, \"8601\": {\"frequency\": 3, \"value\": 8601}, \"16800\": {\"frequency\": 4, \"value\": 16800}, \"8610\": {\"frequency\": 5, \"value\": 8610}, \"8611\": {\"frequency\": 2, \"value\": 8611}, \"8612\": {\"frequency\": 2, \"value\": 8612}, \"8613\": {\"frequency\": 2, \"value\": 8613}, \"8621\": {\"frequency\": 2, \"value\": 8621}, \"8622\": {\"frequency\": 4, \"value\": 8622}, \"8624\": {\"frequency\": 2, \"value\": 8624}, \"8625\": {\"frequency\": 17, \"value\": 8625}, \"8628\": {\"frequency\": 2, \"value\": 8628}, \"1438\": {\"frequency\": 2, \"value\": 1438}, \"8631\": {\"frequency\": 2, \"value\": 8631}, \"8632\": {\"frequency\": 2, \"value\": 8632}, \"8636\": {\"frequency\": 8, \"value\": 8636}, \"8640\": {\"frequency\": 16, \"value\": 8640}, \"8641\": {\"frequency\": 2, \"value\": 8641}, \"213444\": {\"frequency\": 3, \"value\": 213444}, \"8645\": {\"frequency\": 8, \"value\": 8645}, \"8653\": {\"frequency\": 3, \"value\": 8653}, \"11000\": {\"frequency\": 12, \"value\": 11000}, \"8658\": {\"frequency\": 2, \"value\": 8658}, \"8659\": {\"frequency\": 2, \"value\": 8659}, \"8660\": {\"frequency\": 2, \"value\": 8660}, \"8661\": {\"frequency\": 2, \"value\": 8661}, \"9636\": {\"frequency\": 4, \"value\": 9636}, \"8666\": {\"frequency\": 2, \"value\": 8666}, \"8667\": {\"frequency\": 3, \"value\": 8667}, \"8670\": {\"frequency\": 2, \"value\": 8670}, \"8676\": {\"frequency\": 2, \"value\": 8676}, \"8680\": {\"frequency\": 6, \"value\": 8680}, \"8682\": {\"frequency\": 3, \"value\": 8682}, \"8684\": {\"frequency\": 2, \"value\": 8684}, \"8685\": {\"frequency\": 3, \"value\": 8685}, \"8686\": {\"frequency\": 2, \"value\": 8686}, \"8690\": {\"frequency\": 5, \"value\": 8690}, \"8698\": {\"frequency\": 2, \"value\": 8698}, \"8700\": {\"frequency\": 15, \"value\": 8700}, \"8701\": {\"frequency\": 2, \"value\": 8701}, \"8709\": {\"frequency\": 2, \"value\": 8709}, \"8710\": {\"frequency\": 7, \"value\": 8710}, \"8711\": {\"frequency\": 2, \"value\": 8711}, \"8712\": {\"frequency\": 7, \"value\": 8712}, \"16909\": {\"frequency\": 2, \"value\": 16909}, \"8720\": {\"frequency\": 3, \"value\": 8720}, \"8721\": {\"frequency\": 2, \"value\": 8721}, \"8722\": {\"frequency\": 2, \"value\": 8722}, \"8725\": {\"frequency\": 2, \"value\": 8725}, \"8726\": {\"frequency\": 2, \"value\": 8726}, \"8734\": {\"frequency\": 3, \"value\": 8734}, \"8737\": {\"frequency\": 3, \"value\": 8737}, \"8738\": {\"frequency\": 3, \"value\": 8738}, \"8740\": {\"frequency\": 2, \"value\": 8740}, \"16940\": {\"frequency\": 2, \"value\": 16940}, \"9650\": {\"frequency\": 3, \"value\": 9650}, \"8750\": {\"frequency\": 19, \"value\": 8750}, \"8755\": {\"frequency\": 5, \"value\": 8755}, \"8760\": {\"frequency\": 5, \"value\": 8760}, \"8763\": {\"frequency\": 2, \"value\": 8763}, \"8764\": {\"frequency\": 3, \"value\": 8764}, \"8767\": {\"frequency\": 3, \"value\": 8767}, \"98881\": {\"frequency\": 2, \"value\": 98881}, \"8770\": {\"frequency\": 2, \"value\": 8770}, \"8775\": {\"frequency\": 14, \"value\": 8775}, \"8778\": {\"frequency\": 3, \"value\": 8778}, \"8786\": {\"frequency\": 3, \"value\": 8786}, \"8792\": {\"frequency\": 2, \"value\": 8792}, \"8797\": {\"frequency\": 3, \"value\": 8797}, \"8800\": {\"frequency\": 42, \"value\": 8800}, \"17000\": {\"frequency\": 2, \"value\": 17000}, \"1468\": {\"frequency\": 2, \"value\": 1468}, \"17003\": {\"frequency\": 2, \"value\": 17003}, \"8814\": {\"frequency\": 2, \"value\": 8814}, \"8816\": {\"frequency\": 2, \"value\": 8816}, \"8817\": {\"frequency\": 3, \"value\": 8817}, \"8820\": {\"frequency\": 12, \"value\": 8820}, \"8837\": {\"frequency\": 2, \"value\": 8837}, \"8840\": {\"frequency\": 5, \"value\": 8840}, \"649\": {\"frequency\": 2, \"value\": 649}, \"8848\": {\"frequency\": 2, \"value\": 8848}, \"8850\": {\"frequency\": 3, \"value\": 8850}, \"1475\": {\"frequency\": 2, \"value\": 1475}, \"8853\": {\"frequency\": 3, \"value\": 8853}, \"8856\": {\"frequency\": 5, \"value\": 8856}, \"8862\": {\"frequency\": 2, \"value\": 8862}, \"8865\": {\"frequency\": 2, \"value\": 8865}, \"66211\": {\"frequency\": 2, \"value\": 66211}, \"8868\": {\"frequency\": 2, \"value\": 8868}, \"8874\": {\"frequency\": 3, \"value\": 8874}, \"8875\": {\"frequency\": 3, \"value\": 8875}, \"8876\": {\"frequency\": 2, \"value\": 8876}, \"8879\": {\"frequency\": 3, \"value\": 8879}, \"8880\": {\"frequency\": 2, \"value\": 8880}, \"9672\": {\"frequency\": 4, \"value\": 9672}, \"8885\": {\"frequency\": 2, \"value\": 8885}, \"8886\": {\"frequency\": 2, \"value\": 8886}, \"16500\": {\"frequency\": 3, \"value\": 16500}, \"8890\": {\"frequency\": 3, \"value\": 8890}, \"8892\": {\"frequency\": 2, \"value\": 8892}, \"8893\": {\"frequency\": 2, \"value\": 8893}, \"871200\": {\"frequency\": 2, \"value\": 871200}, \"8900\": {\"frequency\": 4, \"value\": 8900}, \"8906\": {\"frequency\": 7, \"value\": 8906}, \"8909\": {\"frequency\": 2, \"value\": 8909}, \"8910\": {\"frequency\": 9, \"value\": 8910}, \"8921\": {\"frequency\": 2, \"value\": 8921}, \"8924\": {\"frequency\": 2, \"value\": 8924}, \"8925\": {\"frequency\": 13, \"value\": 8925}, \"9680\": {\"frequency\": 10, \"value\": 9680}, \"8936\": {\"frequency\": 2, \"value\": 8936}, \"8937\": {\"frequency\": 2, \"value\": 8937}, \"115434\": {\"frequency\": 3, \"value\": 115434}, \"747\": {\"frequency\": 2, \"value\": 747}, \"8941\": {\"frequency\": 2, \"value\": 8941}, \"750\": {\"frequency\": 2, \"value\": 750}, \"8944\": {\"frequency\": 2, \"value\": 8944}, \"8947\": {\"frequency\": 2, \"value\": 8947}, \"230868\": {\"frequency\": 2, \"value\": 230868}, \"8955\": {\"frequency\": 2, \"value\": 8955}, \"8960\": {\"frequency\": 12, \"value\": 8960}, \"8968\": {\"frequency\": 4, \"value\": 8968}, \"8970\": {\"frequency\": 6, \"value\": 8970}, \"779\": {\"frequency\": 2, \"value\": 779}, \"8976\": {\"frequency\": 4, \"value\": 8976}, \"12420\": {\"frequency\": 4, \"value\": 12420}, \"8990\": {\"frequency\": 3, \"value\": 8990}, \"800\": {\"frequency\": 3, \"value\": 800}, \"8994\": {\"frequency\": 2, \"value\": 8994}, \"8995\": {\"frequency\": 2, \"value\": 8995}, \"8996\": {\"frequency\": 2, \"value\": 8996}, \"9000\": {\"frequency\": 93, \"value\": 9000}, \"9001\": {\"frequency\": 2, \"value\": 9001}, \"9002\": {\"frequency\": 2, \"value\": 9002}, \"9009\": {\"frequency\": 2, \"value\": 9009}, \"9015\": {\"frequency\": 3, \"value\": 9015}, \"17208\": {\"frequency\": 2, \"value\": 17208}, \"825\": {\"frequency\": 2, \"value\": 825}, \"1664\": {\"frequency\": 2, \"value\": 1664}, \"12426\": {\"frequency\": 2, \"value\": 12426}, \"123710\": {\"frequency\": 2, \"value\": 123710}, \"9023\": {\"frequency\": 2, \"value\": 9023}, \"9030\": {\"frequency\": 5, \"value\": 9030}, \"9040\": {\"frequency\": 3, \"value\": 9040}, \"9041\": {\"frequency\": 3, \"value\": 9041}, \"9045\": {\"frequency\": 2, \"value\": 9045}, \"9048\": {\"frequency\": 2, \"value\": 9048}, \"9053\": {\"frequency\": 2, \"value\": 9053}, \"9055\": {\"frequency\": 2, \"value\": 9055}, \"9065\": {\"frequency\": 2, \"value\": 9065}, \"877\": {\"frequency\": 2, \"value\": 877}, \"9072\": {\"frequency\": 5, \"value\": 9072}, \"5608\": {\"frequency\": 3, \"value\": 5608}, \"9075\": {\"frequency\": 4, \"value\": 9075}, \"9077\": {\"frequency\": 2, \"value\": 9077}, \"213879\": {\"frequency\": 2, \"value\": 213879}, \"889\": {\"frequency\": 3, \"value\": 889}, \"9083\": {\"frequency\": 3, \"value\": 9083}, \"9085\": {\"frequency\": 3, \"value\": 9085}, \"9086\": {\"frequency\": 2, \"value\": 9086}, \"9087\": {\"frequency\": 3, \"value\": 9087}, \"9088\": {\"frequency\": 2, \"value\": 9088}, \"9090\": {\"frequency\": 2, \"value\": 9090}, \"9096\": {\"frequency\": 2, \"value\": 9096}, \"9097\": {\"frequency\": 2, \"value\": 9097}, \"9099\": {\"frequency\": 2, \"value\": 9099}, \"9100\": {\"frequency\": 16, \"value\": 9100}, \"9102\": {\"frequency\": 3, \"value\": 9102}, \"915\": {\"frequency\": 3, \"value\": 915}, \"17300\": {\"frequency\": 2, \"value\": 17300}, \"920\": {\"frequency\": 2, \"value\": 920}, \"923\": {\"frequency\": 2, \"value\": 923}, \"25500\": {\"frequency\": 2, \"value\": 25500}, \"9120\": {\"frequency\": 7, \"value\": 9120}, \"929\": {\"frequency\": 2, \"value\": 929}, \"9125\": {\"frequency\": 2, \"value\": 9125}, \"934\": {\"frequency\": 3, \"value\": 934}, \"936\": {\"frequency\": 3, \"value\": 936}, \"9130\": {\"frequency\": 3, \"value\": 9130}, \"9132\": {\"frequency\": 2, \"value\": 9132}, \"941\": {\"frequency\": 3, \"value\": 941}, \"50094\": {\"frequency\": 4, \"value\": 50094}, \"9135\": {\"frequency\": 6, \"value\": 9135}, \"9139\": {\"frequency\": 2, \"value\": 9139}, \"9140\": {\"frequency\": 3, \"value\": 9140}, \"17334\": {\"frequency\": 3, \"value\": 17334}, \"951\": {\"frequency\": 2, \"value\": 951}, \"9144\": {\"frequency\": 2, \"value\": 9144}, \"9145\": {\"frequency\": 2, \"value\": 9145}, \"9147\": {\"frequency\": 5, \"value\": 9147}, \"9148\": {\"frequency\": 2, \"value\": 9148}, \"9150\": {\"frequency\": 7, \"value\": 9150}, \"960\": {\"frequency\": 2, \"value\": 960}, \"9153\": {\"frequency\": 2, \"value\": 9153}, \"17349\": {\"frequency\": 2, \"value\": 17349}, \"9162\": {\"frequency\": 2, \"value\": 9162}, \"9163\": {\"frequency\": 7, \"value\": 9163}, \"222156\": {\"frequency\": 2, \"value\": 222156}, \"974\": {\"frequency\": 2, \"value\": 974}, \"9170\": {\"frequency\": 3, \"value\": 9170}, \"979\": {\"frequency\": 2, \"value\": 979}, \"33750\": {\"frequency\": 2, \"value\": 33750}, \"983\": {\"frequency\": 4, \"value\": 983}, \"9176\": {\"frequency\": 2, \"value\": 9176}, \"9180\": {\"frequency\": 3, \"value\": 9180}, \"989\": {\"frequency\": 3, \"value\": 989}, \"9182\": {\"frequency\": 2, \"value\": 9182}, \"9187\": {\"frequency\": 2, \"value\": 9187}, \"998\": {\"frequency\": 2, \"value\": 998}, \"9195\": {\"frequency\": 3, \"value\": 9195}, \"9199\": {\"frequency\": 2, \"value\": 9199}, \"9200\": {\"frequency\": 13, \"value\": 9200}, \"16552\": {\"frequency\": 2, \"value\": 16552}, \"9202\": {\"frequency\": 2, \"value\": 9202}, \"9205\": {\"frequency\": 2, \"value\": 9205}, \"17400\": {\"frequency\": 5, \"value\": 17400}, \"9210\": {\"frequency\": 3, \"value\": 9210}, \"1020\": {\"frequency\": 4, \"value\": 1020}, \"1021\": {\"frequency\": 3, \"value\": 1021}, \"1022\": {\"frequency\": 2, \"value\": 1022}, \"25600\": {\"frequency\": 2, \"value\": 25600}, \"9220\": {\"frequency\": 3, \"value\": 9220}, \"1032\": {\"frequency\": 3, \"value\": 1032}, \"9225\": {\"frequency\": 7, \"value\": 9225}, \"9226\": {\"frequency\": 2, \"value\": 9226}, \"9230\": {\"frequency\": 2, \"value\": 9230}, \"9231\": {\"frequency\": 2, \"value\": 9231}, \"17424\": {\"frequency\": 4, \"value\": 17424}, \"9234\": {\"frequency\": 2, \"value\": 9234}, \"9235\": {\"frequency\": 2, \"value\": 9235}, \"24750\": {\"frequency\": 3, \"value\": 24750}, \"9238\": {\"frequency\": 3, \"value\": 9238}, \"9239\": {\"frequency\": 3, \"value\": 9239}, \"9240\": {\"frequency\": 12, \"value\": 9240}, \"1540\": {\"frequency\": 2, \"value\": 1540}, \"1050\": {\"frequency\": 2, \"value\": 1050}, \"1051\": {\"frequency\": 2, \"value\": 1051}, \"9244\": {\"frequency\": 2, \"value\": 9244}, \"9247\": {\"frequency\": 2, \"value\": 9247}, \"9248\": {\"frequency\": 4, \"value\": 9248}, \"1058\": {\"frequency\": 4, \"value\": 1058}, \"1060\": {\"frequency\": 4, \"value\": 1060}, \"9253\": {\"frequency\": 2, \"value\": 9253}, \"9255\": {\"frequency\": 2, \"value\": 9255}, \"9261\": {\"frequency\": 2, \"value\": 9261}, \"189486\": {\"frequency\": 3, \"value\": 189486}, \"9263\": {\"frequency\": 2, \"value\": 9263}, \"1073\": {\"frequency\": 4, \"value\": 1073}, \"9266\": {\"frequency\": 2, \"value\": 9266}, \"1075\": {\"frequency\": 2, \"value\": 1075}, \"158558\": {\"frequency\": 2, \"value\": 158558}, \"9270\": {\"frequency\": 3, \"value\": 9270}, \"9272\": {\"frequency\": 2, \"value\": 9272}, \"9273\": {\"frequency\": 4, \"value\": 9273}, \"1085\": {\"frequency\": 2, \"value\": 1085}, \"1086\": {\"frequency\": 2, \"value\": 1086}, \"9282\": {\"frequency\": 5, \"value\": 9282}, \"1091\": {\"frequency\": 3, \"value\": 1091}, \"1092\": {\"frequency\": 3, \"value\": 1092}, \"4128\": {\"frequency\": 3, \"value\": 4128}, \"9292\": {\"frequency\": 2, \"value\": 9292}, \"1101\": {\"frequency\": 2, \"value\": 1101}, \"1102\": {\"frequency\": 3, \"value\": 1102}, \"1103\": {\"frequency\": 2, \"value\": 1103}, \"1107\": {\"frequency\": 3, \"value\": 1107}, \"9300\": {\"frequency\": 11, \"value\": 9300}, \"9301\": {\"frequency\": 2, \"value\": 9301}, \"1110\": {\"frequency\": 2, \"value\": 1110}, \"1113\": {\"frequency\": 2, \"value\": 1113}, \"1114\": {\"frequency\": 3, \"value\": 1114}, \"9310\": {\"frequency\": 3, \"value\": 9310}, \"9312\": {\"frequency\": 2, \"value\": 9312}, \"9314\": {\"frequency\": 2, \"value\": 9314}, \"9315\": {\"frequency\": 4, \"value\": 9315}, \"1125\": {\"frequency\": 4, \"value\": 1125}, \"9320\": {\"frequency\": 2, \"value\": 9320}, \"12476\": {\"frequency\": 2, \"value\": 12476}, \"9322\": {\"frequency\": 2, \"value\": 9322}, \"9323\": {\"frequency\": 2, \"value\": 9323}, \"1133\": {\"frequency\": 2, \"value\": 1133}, \"9328\": {\"frequency\": 3, \"value\": 9328}, \"1137\": {\"frequency\": 3, \"value\": 1137}, \"9747\": {\"frequency\": 2, \"value\": 9747}, \"1140\": {\"frequency\": 3, \"value\": 1140}, \"9334\": {\"frequency\": 2, \"value\": 9334}, \"9339\": {\"frequency\": 2, \"value\": 9339}, \"1149\": {\"frequency\": 2, \"value\": 1149}, \"1150\": {\"frequency\": 2, \"value\": 1150}, \"12480\": {\"frequency\": 2, \"value\": 12480}, \"1156\": {\"frequency\": 2, \"value\": 1156}, \"1157\": {\"frequency\": 5, \"value\": 1157}, \"9350\": {\"frequency\": 11, \"value\": 9350}, \"1161\": {\"frequency\": 3, \"value\": 1161}, \"9354\": {\"frequency\": 2, \"value\": 9354}, \"9360\": {\"frequency\": 10, \"value\": 9360}, \"9362\": {\"frequency\": 3, \"value\": 9362}, \"1171\": {\"frequency\": 2, \"value\": 1171}, \"1173\": {\"frequency\": 4, \"value\": 1173}, \"9370\": {\"frequency\": 3, \"value\": 9370}, \"1179\": {\"frequency\": 2, \"value\": 1179}, \"1180\": {\"frequency\": 6, \"value\": 1180}, \"9373\": {\"frequency\": 2, \"value\": 9373}, \"1182\": {\"frequency\": 2, \"value\": 1182}, \"9375\": {\"frequency\": 11, \"value\": 9375}, \"9377\": {\"frequency\": 2, \"value\": 9377}, \"1187\": {\"frequency\": 2, \"value\": 1187}, \"9380\": {\"frequency\": 5, \"value\": 9380}, \"1189\": {\"frequency\": 5, \"value\": 1189}, \"1193\": {\"frequency\": 3, \"value\": 1193}, \"1194\": {\"frequency\": 4, \"value\": 1194}, \"1196\": {\"frequency\": 2, \"value\": 1196}, \"1200\": {\"frequency\": 9, \"value\": 1200}, \"1201\": {\"frequency\": 4, \"value\": 1201}, \"1204\": {\"frequency\": 4, \"value\": 1204}, \"9400\": {\"frequency\": 8, \"value\": 9400}, \"9403\": {\"frequency\": 2, \"value\": 9403}, \"1213\": {\"frequency\": 4, \"value\": 1213}, \"17600\": {\"frequency\": 3, \"value\": 17600}, \"42180\": {\"frequency\": 2, \"value\": 42180}, \"1221\": {\"frequency\": 4, \"value\": 1221}, \"9414\": {\"frequency\": 2, \"value\": 9414}, \"9415\": {\"frequency\": 2, \"value\": 9415}, \"9416\": {\"frequency\": 2, \"value\": 9416}, \"9417\": {\"frequency\": 3, \"value\": 9417}, \"9420\": {\"frequency\": 2, \"value\": 9420}, \"9425\": {\"frequency\": 3, \"value\": 9425}, \"9426\": {\"frequency\": 2, \"value\": 9426}, \"9427\": {\"frequency\": 2, \"value\": 9427}, \"1236\": {\"frequency\": 4, \"value\": 1236}, \"1237\": {\"frequency\": 3, \"value\": 1237}, \"9430\": {\"frequency\": 2, \"value\": 9430}, \"76665\": {\"frequency\": 2, \"value\": 76665}, \"1240\": {\"frequency\": 4, \"value\": 1240}, \"9435\": {\"frequency\": 2, \"value\": 9435}, \"1246\": {\"frequency\": 3, \"value\": 1246}, \"9440\": {\"frequency\": 2, \"value\": 9440}, \"1249\": {\"frequency\": 5, \"value\": 1249}, \"1250\": {\"frequency\": 8, \"value\": 1250}, \"1251\": {\"frequency\": 4, \"value\": 1251}, \"1253\": {\"frequency\": 2, \"value\": 1253}, \"9448\": {\"frequency\": 2, \"value\": 9448}, \"9450\": {\"frequency\": 19, \"value\": 9450}, \"9451\": {\"frequency\": 2, \"value\": 9451}, \"9452\": {\"frequency\": 2, \"value\": 9452}, \"9453\": {\"frequency\": 2, \"value\": 9453}, \"1262\": {\"frequency\": 3, \"value\": 1262}, \"1263\": {\"frequency\": 3, \"value\": 1263}, \"1264\": {\"frequency\": 3, \"value\": 1264}, \"1265\": {\"frequency\": 2, \"value\": 1265}, \"9460\": {\"frequency\": 6, \"value\": 9460}, \"1269\": {\"frequency\": 4, \"value\": 1269}, \"1270\": {\"frequency\": 3, \"value\": 1270}, \"4308\": {\"frequency\": 2, \"value\": 4308}, \"9466\": {\"frequency\": 2, \"value\": 9466}, \"1275\": {\"frequency\": 3, \"value\": 1275}, \"1276\": {\"frequency\": 3, \"value\": 1276}, \"83199\": {\"frequency\": 2, \"value\": 83199}, \"1280\": {\"frequency\": 3, \"value\": 1280}, \"9473\": {\"frequency\": 3, \"value\": 9473}, \"1286\": {\"frequency\": 4, \"value\": 1286}, \"9480\": {\"frequency\": 6, \"value\": 9480}, \"1290\": {\"frequency\": 5, \"value\": 1290}, \"9484\": {\"frequency\": 2, \"value\": 9484}, \"9486\": {\"frequency\": 3, \"value\": 9486}, \"9488\": {\"frequency\": 3, \"value\": 9488}, \"1298\": {\"frequency\": 2, \"value\": 1298}, \"9492\": {\"frequency\": 2, \"value\": 9492}, \"1304\": {\"frequency\": 2, \"value\": 1304}, \"5355\": {\"frequency\": 3, \"value\": 5355}, \"1306\": {\"frequency\": 3, \"value\": 1306}, \"9500\": {\"frequency\": 14, \"value\": 9500}, \"1309\": {\"frequency\": 2, \"value\": 1309}, \"1310\": {\"frequency\": 2, \"value\": 1310}, \"1311\": {\"frequency\": 2, \"value\": 1311}, \"1312\": {\"frequency\": 4, \"value\": 1312}, \"17700\": {\"frequency\": 2, \"value\": 17700}, \"1320\": {\"frequency\": 3, \"value\": 1320}, \"214315\": {\"frequency\": 3, \"value\": 214315}, \"9516\": {\"frequency\": 3, \"value\": 9516}, \"1325\": {\"frequency\": 4, \"value\": 1325}, \"9519\": {\"frequency\": 3, \"value\": 9519}, \"9520\": {\"frequency\": 8, \"value\": 9520}, \"1329\": {\"frequency\": 3, \"value\": 1329}, \"1330\": {\"frequency\": 3, \"value\": 1330}, \"9523\": {\"frequency\": 2, \"value\": 9523}, \"1332\": {\"frequency\": 4, \"value\": 1332}, \"9525\": {\"frequency\": 11, \"value\": 9525}, \"1334\": {\"frequency\": 2, \"value\": 1334}, \"9527\": {\"frequency\": 2, \"value\": 9527}, \"9528\": {\"frequency\": 2, \"value\": 9528}, \"9529\": {\"frequency\": 2, \"value\": 9529}, \"1339\": {\"frequency\": 2, \"value\": 1339}, \"1340\": {\"frequency\": 3, \"value\": 1340}, \"1343\": {\"frequency\": 2, \"value\": 1343}, \"9540\": {\"frequency\": 3, \"value\": 9540}, \"1349\": {\"frequency\": 3, \"value\": 1349}, \"9542\": {\"frequency\": 2, \"value\": 9542}, \"9545\": {\"frequency\": 2, \"value\": 9545}, \"9546\": {\"frequency\": 2, \"value\": 9546}, \"9548\": {\"frequency\": 2, \"value\": 9548}, \"9549\": {\"frequency\": 2, \"value\": 9549}, \"9550\": {\"frequency\": 3, \"value\": 9550}, \"1362\": {\"frequency\": 3, \"value\": 1362}, \"91476\": {\"frequency\": 2, \"value\": 91476}, \"15246\": {\"frequency\": 5, \"value\": 15246}, \"1368\": {\"frequency\": 2, \"value\": 1368}, \"1369\": {\"frequency\": 3, \"value\": 1369}, \"9563\": {\"frequency\": 2, \"value\": 9563}, \"9566\": {\"frequency\": 3, \"value\": 9566}, \"50529\": {\"frequency\": 2, \"value\": 50529}, \"9570\": {\"frequency\": 4, \"value\": 9570}, \"1380\": {\"frequency\": 3, \"value\": 1380}, \"9576\": {\"frequency\": 5, \"value\": 9576}, \"9579\": {\"frequency\": 3, \"value\": 9579}, \"9580\": {\"frequency\": 2, \"value\": 9580}, \"9583\": {\"frequency\": 9, \"value\": 9583}, \"1396\": {\"frequency\": 2, \"value\": 1396}, \"7647\": {\"frequency\": 2, \"value\": 7647}, \"1400\": {\"frequency\": 4, \"value\": 1400}, \"9594\": {\"frequency\": 2, \"value\": 9594}, \"9597\": {\"frequency\": 2, \"value\": 9597}, \"9599\": {\"frequency\": 3, \"value\": 9599}, \"9600\": {\"frequency\": 109, \"value\": 9600}, \"9601\": {\"frequency\": 6, \"value\": 9601}, \"9602\": {\"frequency\": 2, \"value\": 9602}, \"9603\": {\"frequency\": 6, \"value\": 9603}, \"9605\": {\"frequency\": 4, \"value\": 9605}, \"9606\": {\"frequency\": 4, \"value\": 9606}, \"9608\": {\"frequency\": 2, \"value\": 9608}, \"9610\": {\"frequency\": 4, \"value\": 9610}, \"9611\": {\"frequency\": 2, \"value\": 9611}, \"9612\": {\"frequency\": 7, \"value\": 9612}, \"9614\": {\"frequency\": 3, \"value\": 9614}, \"26000\": {\"frequency\": 2, \"value\": 26000}, \"9620\": {\"frequency\": 7, \"value\": 9620}, \"9622\": {\"frequency\": 2, \"value\": 9622}, \"9623\": {\"frequency\": 2, \"value\": 9623}, \"9624\": {\"frequency\": 5, \"value\": 9624}, \"9625\": {\"frequency\": 3, \"value\": 9625}, \"9627\": {\"frequency\": 2, \"value\": 9627}, \"9628\": {\"frequency\": 2, \"value\": 9628}, \"9629\": {\"frequency\": 4, \"value\": 9629}, \"9630\": {\"frequency\": 5, \"value\": 9630}, \"1442\": {\"frequency\": 4, \"value\": 1442}, \"9635\": {\"frequency\": 2, \"value\": 9635}, \"1444\": {\"frequency\": 2, \"value\": 1444}, \"1445\": {\"frequency\": 3, \"value\": 1445}, \"9638\": {\"frequency\": 4, \"value\": 9638}, \"9639\": {\"frequency\": 2, \"value\": 9639}, \"99752\": {\"frequency\": 2, \"value\": 99752}, \"17833\": {\"frequency\": 2, \"value\": 17833}, \"9643\": {\"frequency\": 3, \"value\": 9643}, \"9645\": {\"frequency\": 3, \"value\": 9645}, \"9647\": {\"frequency\": 2, \"value\": 9647}, \"9648\": {\"frequency\": 3, \"value\": 9648}, \"1458\": {\"frequency\": 3, \"value\": 1458}, \"9652\": {\"frequency\": 6, \"value\": 9652}, \"9654\": {\"frequency\": 2, \"value\": 9654}, \"9656\": {\"frequency\": 6, \"value\": 9656}, \"9660\": {\"frequency\": 4, \"value\": 9660}, \"17853\": {\"frequency\": 2, \"value\": 17853}, \"1471\": {\"frequency\": 2, \"value\": 1471}, \"1473\": {\"frequency\": 2, \"value\": 1473}, \"17859\": {\"frequency\": 4, \"value\": 17859}, \"9668\": {\"frequency\": 2, \"value\": 9668}, \"9670\": {\"frequency\": 2, \"value\": 9670}, \"1480\": {\"frequency\": 2, \"value\": 1480}, \"9804\": {\"frequency\": 4, \"value\": 9804}, \"9674\": {\"frequency\": 2, \"value\": 9674}, \"9675\": {\"frequency\": 3, \"value\": 9675}, \"1485\": {\"frequency\": 3, \"value\": 1485}, \"1486\": {\"frequency\": 2, \"value\": 1486}, \"1487\": {\"frequency\": 4, \"value\": 1487}, \"1488\": {\"frequency\": 3, \"value\": 1488}, \"9682\": {\"frequency\": 3, \"value\": 9682}, \"9684\": {\"frequency\": 2, \"value\": 9684}, \"1493\": {\"frequency\": 3, \"value\": 1493}, \"9686\": {\"frequency\": 2, \"value\": 9686}, \"9687\": {\"frequency\": 3, \"value\": 9687}, \"9689\": {\"frequency\": 2, \"value\": 9689}, \"9690\": {\"frequency\": 5, \"value\": 9690}, \"1499\": {\"frequency\": 2, \"value\": 1499}, \"1500\": {\"frequency\": 6, \"value\": 1500}, \"1501\": {\"frequency\": 3, \"value\": 1501}, \"9696\": {\"frequency\": 2, \"value\": 9696}, \"9697\": {\"frequency\": 3, \"value\": 9697}, \"9701\": {\"frequency\": 3, \"value\": 9701}, \"1512\": {\"frequency\": 2, \"value\": 1512}, \"9705\": {\"frequency\": 2, \"value\": 9705}, \"9706\": {\"frequency\": 2, \"value\": 9706}, \"1516\": {\"frequency\": 2, \"value\": 1516}, \"9711\": {\"frequency\": 3, \"value\": 9711}, \"39848\": {\"frequency\": 2, \"value\": 39848}, \"9714\": {\"frequency\": 3, \"value\": 9714}, \"9715\": {\"frequency\": 3, \"value\": 9715}, \"9719\": {\"frequency\": 3, \"value\": 9719}, \"9720\": {\"frequency\": 12, \"value\": 9720}, \"1620\": {\"frequency\": 2, \"value\": 1620}, \"1531\": {\"frequency\": 2, \"value\": 1531}, \"9725\": {\"frequency\": 3, \"value\": 9725}, \"1536\": {\"frequency\": 2, \"value\": 1536}, \"9732\": {\"frequency\": 3, \"value\": 9732}, \"1545\": {\"frequency\": 2, \"value\": 1545}, \"9743\": {\"frequency\": 2, \"value\": 9743}, \"13912\": {\"frequency\": 2, \"value\": 13912}, \"16643\": {\"frequency\": 2, \"value\": 16643}, \"9750\": {\"frequency\": 43, \"value\": 9750}, \"9751\": {\"frequency\": 2, \"value\": 9751}, \"9752\": {\"frequency\": 5, \"value\": 9752}, \"9753\": {\"frequency\": 4, \"value\": 9753}, \"1566\": {\"frequency\": 2, \"value\": 1566}, \"9760\": {\"frequency\": 6, \"value\": 9760}, \"1570\": {\"frequency\": 2, \"value\": 1570}, \"9764\": {\"frequency\": 2, \"value\": 9764}, \"1577\": {\"frequency\": 2, \"value\": 1577}, \"9773\": {\"frequency\": 2, \"value\": 9773}, \"9774\": {\"frequency\": 2, \"value\": 9774}, \"9775\": {\"frequency\": 10, \"value\": 9775}, \"9778\": {\"frequency\": 2, \"value\": 9778}, \"9779\": {\"frequency\": 3, \"value\": 9779}, \"9780\": {\"frequency\": 4, \"value\": 9780}, \"9784\": {\"frequency\": 2, \"value\": 9784}, \"9786\": {\"frequency\": 3, \"value\": 9786}, \"1596\": {\"frequency\": 2, \"value\": 1596}, \"8458\": {\"frequency\": 3, \"value\": 8458}, \"7093\": {\"frequency\": 2, \"value\": 7093}, \"9792\": {\"frequency\": 2, \"value\": 9792}, \"9793\": {\"frequency\": 2, \"value\": 9793}, \"9796\": {\"frequency\": 2, \"value\": 9796}, \"9800\": {\"frequency\": 20, \"value\": 9800}, \"1609\": {\"frequency\": 2, \"value\": 1609}, \"1612\": {\"frequency\": 3, \"value\": 1612}, \"1613\": {\"frequency\": 4, \"value\": 1613}, \"18000\": {\"frequency\": 13, \"value\": 18000}, \"1618\": {\"frequency\": 2, \"value\": 1618}, \"9812\": {\"frequency\": 4, \"value\": 9812}, \"4366\": {\"frequency\": 3, \"value\": 4366}, \"9822\": {\"frequency\": 3, \"value\": 9822}, \"9824\": {\"frequency\": 2, \"value\": 9824}, \"9825\": {\"frequency\": 9, \"value\": 9825}, \"9827\": {\"frequency\": 5, \"value\": 9827}, \"9828\": {\"frequency\": 2, \"value\": 9828}, \"9830\": {\"frequency\": 3, \"value\": 9830}, \"1638\": {\"frequency\": 2, \"value\": 1638}, \"13927\": {\"frequency\": 3, \"value\": 13927}, \"9840\": {\"frequency\": 5, \"value\": 9840}, \"1650\": {\"frequency\": 3, \"value\": 1650}, \"9847\": {\"frequency\": 2, \"value\": 9847}, \"1656\": {\"frequency\": 2, \"value\": 1656}, \"18042\": {\"frequency\": 2, \"value\": 18042}, \"9855\": {\"frequency\": 2, \"value\": 9855}, \"9856\": {\"frequency\": 3, \"value\": 9856}, \"11200\": {\"frequency\": 21, \"value\": 11200}, \"18050\": {\"frequency\": 2, \"value\": 18050}, \"9864\": {\"frequency\": 2, \"value\": 9864}, \"206474\": {\"frequency\": 2, \"value\": 206474}, \"9869\": {\"frequency\": 2, \"value\": 9869}, \"9870\": {\"frequency\": 3, \"value\": 9870}, \"9874\": {\"frequency\": 3, \"value\": 9874}, \"9875\": {\"frequency\": 3, \"value\": 9875}, \"9877\": {\"frequency\": 2, \"value\": 9877}, \"9879\": {\"frequency\": 2, \"value\": 9879}, \"9882\": {\"frequency\": 2, \"value\": 9882}, \"9886\": {\"frequency\": 3, \"value\": 9886}, \"9887\": {\"frequency\": 2, \"value\": 9887}, \"9897\": {\"frequency\": 2, \"value\": 9897}, \"9898\": {\"frequency\": 3, \"value\": 9898}, \"9900\": {\"frequency\": 29, \"value\": 9900}, \"1709\": {\"frequency\": 2, \"value\": 1709}, \"9907\": {\"frequency\": 2, \"value\": 9907}, \"9912\": {\"frequency\": 2, \"value\": 9912}, \"1722\": {\"frequency\": 2, \"value\": 1722}, \"9916\": {\"frequency\": 4, \"value\": 9916}, \"9920\": {\"frequency\": 6, \"value\": 9920}, \"16672\": {\"frequency\": 2, \"value\": 16672}, \"9926\": {\"frequency\": 2, \"value\": 9926}, \"9935\": {\"frequency\": 2, \"value\": 9935}, \"9936\": {\"frequency\": 2, \"value\": 9936}, \"1750\": {\"frequency\": 3, \"value\": 1750}, \"1755\": {\"frequency\": 3, \"value\": 1755}, \"9950\": {\"frequency\": 2, \"value\": 9950}, \"1760\": {\"frequency\": 3, \"value\": 1760}, \"9957\": {\"frequency\": 3, \"value\": 9957}, \"9960\": {\"frequency\": 2, \"value\": 9960}, \"42733\": {\"frequency\": 2, \"value\": 42733}, \"9966\": {\"frequency\": 2, \"value\": 9966}, \"1778\": {\"frequency\": 2, \"value\": 1778}, \"1779\": {\"frequency\": 2, \"value\": 1779}, \"9972\": {\"frequency\": 4, \"value\": 9972}, \"1793\": {\"frequency\": 2, \"value\": 1793}, \"9990\": {\"frequency\": 5, \"value\": 9990}, \"91911\": {\"frequency\": 2, \"value\": 91911}, \"1800\": {\"frequency\": 9, \"value\": 1800}, \"9994\": {\"frequency\": 3, \"value\": 9994}, \"10000\": {\"frequency\": 46, \"value\": 10000}, \"10003\": {\"frequency\": 2, \"value\": 10003}, \"50965\": {\"frequency\": 3, \"value\": 50965}, \"18200\": {\"frequency\": 6, \"value\": 18200}, \"1824\": {\"frequency\": 3, \"value\": 1824}, \"10018\": {\"frequency\": 7, \"value\": 10018}, \"1827\": {\"frequency\": 3, \"value\": 1827}, \"10023\": {\"frequency\": 2, \"value\": 10023}, \"10026\": {\"frequency\": 2, \"value\": 10026}, \"10030\": {\"frequency\": 2, \"value\": 10030}, \"10031\": {\"frequency\": 2, \"value\": 10031}, \"10032\": {\"frequency\": 3, \"value\": 10032}, \"10035\": {\"frequency\": 2, \"value\": 10035}, \"1845\": {\"frequency\": 2, \"value\": 1845}, \"1848\": {\"frequency\": 2, \"value\": 1848}, \"1850\": {\"frequency\": 4, \"value\": 1850}, \"10043\": {\"frequency\": 2, \"value\": 10043}, \"10050\": {\"frequency\": 11, \"value\": 10050}, \"10051\": {\"frequency\": 4, \"value\": 10051}, \"10052\": {\"frequency\": 2, \"value\": 10052}, \"15330\": {\"frequency\": 2, \"value\": 15330}, \"10062\": {\"frequency\": 2, \"value\": 10062}, \"10064\": {\"frequency\": 3, \"value\": 10064}, \"1873\": {\"frequency\": 2, \"value\": 1873}, \"10070\": {\"frequency\": 2, \"value\": 10070}, \"10072\": {\"frequency\": 2, \"value\": 10072}, \"10075\": {\"frequency\": 2, \"value\": 10075}, \"100188\": {\"frequency\": 3, \"value\": 100188}, \"10078\": {\"frequency\": 3, \"value\": 10078}, \"10079\": {\"frequency\": 4, \"value\": 10079}, \"10080\": {\"frequency\": 9, \"value\": 10080}, \"10092\": {\"frequency\": 2, \"value\": 10092}, \"10098\": {\"frequency\": 2, \"value\": 10098}, \"1683\": {\"frequency\": 3, \"value\": 1683}, \"10100\": {\"frequency\": 4, \"value\": 10100}, \"1431\": {\"frequency\": 2, \"value\": 1431}, \"18295\": {\"frequency\": 4, \"value\": 18295}, \"1919\": {\"frequency\": 2, \"value\": 1919}, \"18304\": {\"frequency\": 2, \"value\": 18304}, \"10115\": {\"frequency\": 2, \"value\": 10115}, \"26500\": {\"frequency\": 2, \"value\": 26500}, \"10117\": {\"frequency\": 3, \"value\": 10117}, \"10120\": {\"frequency\": 2, \"value\": 10120}, \"10125\": {\"frequency\": 25, \"value\": 10125}, \"10126\": {\"frequency\": 2, \"value\": 10126}, \"10136\": {\"frequency\": 2, \"value\": 10136}, \"10137\": {\"frequency\": 3, \"value\": 10137}, \"10140\": {\"frequency\": 5, \"value\": 10140}, \"1950\": {\"frequency\": 4, \"value\": 1950}, \"10150\": {\"frequency\": 4, \"value\": 10150}, \"10152\": {\"frequency\": 2, \"value\": 10152}, \"10155\": {\"frequency\": 4, \"value\": 10155}, \"1968\": {\"frequency\": 5, \"value\": 1968}, \"18360\": {\"frequency\": 3, \"value\": 18360}, \"18362\": {\"frequency\": 2, \"value\": 18362}, \"67518\": {\"frequency\": 3, \"value\": 67518}, \"1984\": {\"frequency\": 3, \"value\": 1984}, \"1985\": {\"frequency\": 2, \"value\": 1985}, \"1988\": {\"frequency\": 3, \"value\": 1988}, \"10182\": {\"frequency\": 2, \"value\": 10182}, \"1991\": {\"frequency\": 2, \"value\": 1991}, \"10189\": {\"frequency\": 3, \"value\": 10189}, \"10190\": {\"frequency\": 3, \"value\": 10190}, \"2000\": {\"frequency\": 5, \"value\": 2000}, \"10194\": {\"frequency\": 2, \"value\": 10194}, \"2003\": {\"frequency\": 3, \"value\": 2003}, \"10196\": {\"frequency\": 2, \"value\": 10196}, \"10200\": {\"frequency\": 30, \"value\": 10200}, \"10202\": {\"frequency\": 5, \"value\": 10202}, \"18400\": {\"frequency\": 4, \"value\": 18400}, \"10212\": {\"frequency\": 2, \"value\": 10212}, \"10215\": {\"frequency\": 3, \"value\": 10215}, \"10221\": {\"frequency\": 2, \"value\": 10221}, \"10223\": {\"frequency\": 2, \"value\": 10223}, \"10227\": {\"frequency\": 3, \"value\": 10227}, \"10229\": {\"frequency\": 2, \"value\": 10229}, \"10230\": {\"frequency\": 5, \"value\": 10230}, \"2040\": {\"frequency\": 3, \"value\": 2040}, \"10240\": {\"frequency\": 6, \"value\": 10240}, \"10245\": {\"frequency\": 2, \"value\": 10245}, \"10248\": {\"frequency\": 2, \"value\": 10248}, \"10250\": {\"frequency\": 4, \"value\": 10250}, \"2064\": {\"frequency\": 2, \"value\": 2064}, \"75794\": {\"frequency\": 3, \"value\": 75794}, \"10260\": {\"frequency\": 8, \"value\": 10260}, \"10270\": {\"frequency\": 3, \"value\": 10270}, \"34848\": {\"frequency\": 3, \"value\": 34848}, \"5808\": {\"frequency\": 2, \"value\": 5808}, \"10275\": {\"frequency\": 4, \"value\": 10275}, \"10277\": {\"frequency\": 2, \"value\": 10277}, \"10280\": {\"frequency\": 2, \"value\": 10280}, \"2096\": {\"frequency\": 3, \"value\": 2096}, \"10289\": {\"frequency\": 2, \"value\": 10289}, \"10290\": {\"frequency\": 3, \"value\": 10290}, \"10291\": {\"frequency\": 2, \"value\": 10291}, \"2100\": {\"frequency\": 2, \"value\": 2100}, \"10296\": {\"frequency\": 3, \"value\": 10296}, \"10297\": {\"frequency\": 2, \"value\": 10297}, \"10300\": {\"frequency\": 11, \"value\": 10300}, \"206910\": {\"frequency\": 2, \"value\": 206910}, \"22000\": {\"frequency\": 6, \"value\": 22000}, \"18500\": {\"frequency\": 2, \"value\": 18500}, \"10320\": {\"frequency\": 5, \"value\": 10320}, \"10327\": {\"frequency\": 2, \"value\": 10327}, \"10330\": {\"frequency\": 3, \"value\": 10330}, \"18525\": {\"frequency\": 2, \"value\": 18525}, \"10335\": {\"frequency\": 3, \"value\": 10335}, \"2147\": {\"frequency\": 3, \"value\": 2147}, \"2150\": {\"frequency\": 3, \"value\": 2150}, \"10344\": {\"frequency\": 2, \"value\": 10344}, \"10350\": {\"frequency\": 13, \"value\": 10350}, \"2159\": {\"frequency\": 3, \"value\": 2159}, \"2162\": {\"frequency\": 2, \"value\": 2162}, \"43124\": {\"frequency\": 2, \"value\": 43124}, \"10358\": {\"frequency\": 3, \"value\": 10358}, \"10360\": {\"frequency\": 4, \"value\": 10360}, \"2171\": {\"frequency\": 3, \"value\": 2171}, \"10368\": {\"frequency\": 2, \"value\": 10368}, \"10369\": {\"frequency\": 2, \"value\": 10369}, \"10370\": {\"frequency\": 2, \"value\": 10370}, \"10375\": {\"frequency\": 4, \"value\": 10375}, \"10384\": {\"frequency\": 2, \"value\": 10384}, \"215186\": {\"frequency\": 3, \"value\": 215186}, \"2199\": {\"frequency\": 2, \"value\": 2199}, \"2200\": {\"frequency\": 4, \"value\": 2200}, \"10400\": {\"frequency\": 11, \"value\": 10400}, \"10403\": {\"frequency\": 3, \"value\": 10403}, \"10404\": {\"frequency\": 2, \"value\": 10404}, \"18600\": {\"frequency\": 3, \"value\": 18600}, \"10416\": {\"frequency\": 3, \"value\": 10416}, \"10423\": {\"frequency\": 3, \"value\": 10423}, \"35000\": {\"frequency\": 7, \"value\": 35000}, \"10426\": {\"frequency\": 2, \"value\": 10426}, \"92347\": {\"frequency\": 2, \"value\": 92347}, \"2240\": {\"frequency\": 2, \"value\": 2240}, \"10440\": {\"frequency\": 4, \"value\": 10440}, \"2250\": {\"frequency\": 8, \"value\": 2250}, \"35021\": {\"frequency\": 2, \"value\": 35021}, \"10450\": {\"frequency\": 9, \"value\": 10450}, \"2261\": {\"frequency\": 2, \"value\": 2261}, \"10454\": {\"frequency\": 8, \"value\": 10454}, \"10455\": {\"frequency\": 3, \"value\": 10455}, \"10459\": {\"frequency\": 2, \"value\": 10459}, \"10460\": {\"frequency\": 2, \"value\": 10460}, \"35040\": {\"frequency\": 2, \"value\": 35040}, \"223462\": {\"frequency\": 3, \"value\": 223462}, \"2280\": {\"frequency\": 2, \"value\": 2280}, \"10480\": {\"frequency\": 3, \"value\": 10480}, \"10481\": {\"frequency\": 2, \"value\": 10481}, \"2296\": {\"frequency\": 2, \"value\": 2296}, \"10490\": {\"frequency\": 2, \"value\": 10490}, \"10492\": {\"frequency\": 2, \"value\": 10492}, \"35070\": {\"frequency\": 2, \"value\": 35070}, \"12672\": {\"frequency\": 2, \"value\": 12672}, \"10500\": {\"frequency\": 31, \"value\": 10500}, \"10505\": {\"frequency\": 2, \"value\": 10505}, \"18700\": {\"frequency\": 2, \"value\": 18700}, \"100623\": {\"frequency\": 2, \"value\": 100623}, \"10513\": {\"frequency\": 2, \"value\": 10513}, \"10519\": {\"frequency\": 2, \"value\": 10519}, \"10521\": {\"frequency\": 2, \"value\": 10521}, \"10523\": {\"frequency\": 2, \"value\": 10523}, \"35100\": {\"frequency\": 4, \"value\": 35100}, \"59677\": {\"frequency\": 4, \"value\": 59677}, \"3120\": {\"frequency\": 6, \"value\": 3120}, \"10530\": {\"frequency\": 6, \"value\": 10530}, \"2340\": {\"frequency\": 2, \"value\": 2340}, \"18730\": {\"frequency\": 3, \"value\": 18730}, \"2350\": {\"frequency\": 4, \"value\": 2350}, \"10548\": {\"frequency\": 2, \"value\": 10548}, \"10550\": {\"frequency\": 2, \"value\": 10550}, \"10560\": {\"frequency\": 2, \"value\": 10560}, \"2370\": {\"frequency\": 3, \"value\": 2370}, \"2375\": {\"frequency\": 2, \"value\": 2375}, \"10572\": {\"frequency\": 2, \"value\": 10572}, \"10573\": {\"frequency\": 2, \"value\": 10573}, \"10574\": {\"frequency\": 2, \"value\": 10574}, \"10575\": {\"frequency\": 2, \"value\": 10575}, \"10576\": {\"frequency\": 3, \"value\": 10576}, \"10578\": {\"frequency\": 2, \"value\": 10578}, \"10583\": {\"frequency\": 2, \"value\": 10583}, \"10584\": {\"frequency\": 4, \"value\": 10584}, \"10585\": {\"frequency\": 2, \"value\": 10585}, \"10588\": {\"frequency\": 4, \"value\": 10588}, \"2400\": {\"frequency\": 19, \"value\": 2400}, \"35169\": {\"frequency\": 2, \"value\": 35169}, \"108900\": {\"frequency\": 8, \"value\": 108900}, \"10600\": {\"frequency\": 2, \"value\": 10600}, \"2415\": {\"frequency\": 2, \"value\": 2415}, \"10608\": {\"frequency\": 2, \"value\": 10608}, \"67953\": {\"frequency\": 3, \"value\": 67953}, \"27007\": {\"frequency\": 3, \"value\": 27007}, \"35200\": {\"frequency\": 2, \"value\": 35200}, \"10625\": {\"frequency\": 4, \"value\": 10625}, \"10631\": {\"frequency\": 2, \"value\": 10631}, \"10637\": {\"frequency\": 2, \"value\": 10637}, \"2446\": {\"frequency\": 2, \"value\": 2446}, \"10640\": {\"frequency\": 2, \"value\": 10640}, \"10650\": {\"frequency\": 5, \"value\": 10650}, \"10655\": {\"frequency\": 2, \"value\": 10655}, \"10660\": {\"frequency\": 3, \"value\": 10660}, \"5265\": {\"frequency\": 4, \"value\": 5265}, \"117176\": {\"frequency\": 4, \"value\": 117176}, \"2493\": {\"frequency\": 2, \"value\": 2493}, \"2500\": {\"frequency\": 36, \"value\": 2500}, \"76230\": {\"frequency\": 2, \"value\": 76230}, \"35273\": {\"frequency\": 2, \"value\": 35273}, \"18900\": {\"frequency\": 3, \"value\": 18900}, \"10710\": {\"frequency\": 2, \"value\": 10710}, \"10716\": {\"frequency\": 2, \"value\": 10716}, \"2527\": {\"frequency\": 2, \"value\": 2527}, \"10720\": {\"frequency\": 7, \"value\": 10720}, \"10723\": {\"frequency\": 5, \"value\": 10723}, \"10725\": {\"frequency\": 3, \"value\": 10725}, \"10726\": {\"frequency\": 4, \"value\": 10726}, \"10733\": {\"frequency\": 2, \"value\": 10733}, \"10739\": {\"frequency\": 2, \"value\": 10739}, \"2550\": {\"frequency\": 16, \"value\": 2550}, \"10744\": {\"frequency\": 2, \"value\": 10744}, \"10750\": {\"frequency\": 2, \"value\": 10750}, \"2560\": {\"frequency\": 3, \"value\": 2560}, \"10754\": {\"frequency\": 2, \"value\": 10754}, \"10757\": {\"frequency\": 3, \"value\": 10757}, \"10762\": {\"frequency\": 2, \"value\": 10762}, \"10763\": {\"frequency\": 2, \"value\": 10763}, \"125452\": {\"frequency\": 2, \"value\": 125452}, \"10766\": {\"frequency\": 3, \"value\": 10766}, \"2580\": {\"frequency\": 3, \"value\": 2580}, \"2589\": {\"frequency\": 2, \"value\": 2589}, \"35362\": {\"frequency\": 2, \"value\": 35362}, \"2600\": {\"frequency\": 7, \"value\": 2600}, \"10794\": {\"frequency\": 3, \"value\": 10794}, \"10796\": {\"frequency\": 2, \"value\": 10796}, \"10798\": {\"frequency\": 2, \"value\": 10798}, \"10800\": {\"frequency\": 44, \"value\": 10800}, \"2614\": {\"frequency\": 2, \"value\": 2614}, \"19000\": {\"frequency\": 6, \"value\": 19000}, \"10816\": {\"frequency\": 2, \"value\": 10816}, \"10819\": {\"frequency\": 2, \"value\": 10819}, \"2631\": {\"frequency\": 2, \"value\": 2631}, \"10827\": {\"frequency\": 2, \"value\": 10827}, \"2640\": {\"frequency\": 8, \"value\": 2640}, \"199253\": {\"frequency\": 2, \"value\": 199253}, \"6837\": {\"frequency\": 2, \"value\": 6837}, \"10860\": {\"frequency\": 3, \"value\": 10860}, \"2674\": {\"frequency\": 2, \"value\": 2674}, \"10875\": {\"frequency\": 8, \"value\": 10875}, \"51836\": {\"frequency\": 6, \"value\": 51836}, \"10005\": {\"frequency\": 7, \"value\": 10005}, \"10880\": {\"frequency\": 6, \"value\": 10880}, \"19080\": {\"frequency\": 2, \"value\": 19080}, \"10890\": {\"frequency\": 9, \"value\": 10890}, \"2699\": {\"frequency\": 2, \"value\": 2699}, \"2700\": {\"frequency\": 13, \"value\": 2700}, \"10900\": {\"frequency\": 4, \"value\": 10900}, \"2710\": {\"frequency\": 2, \"value\": 2710}, \"2720\": {\"frequency\": 2, \"value\": 2720}, \"2723\": {\"frequency\": 2, \"value\": 2723}, \"10920\": {\"frequency\": 9, \"value\": 10920}, \"2731\": {\"frequency\": 2, \"value\": 2731}, \"10925\": {\"frequency\": 3, \"value\": 10925}, \"10929\": {\"frequency\": 2, \"value\": 10929}, \"2748\": {\"frequency\": 2, \"value\": 2748}, \"2750\": {\"frequency\": 7, \"value\": 2750}, \"2752\": {\"frequency\": 6, \"value\": 2752}, \"10016\": {\"frequency\": 2, \"value\": 10016}, \"10950\": {\"frequency\": 4, \"value\": 10950}, \"2760\": {\"frequency\": 2, \"value\": 2760}, \"10954\": {\"frequency\": 2, \"value\": 10954}, \"10960\": {\"frequency\": 3, \"value\": 10960}, \"10962\": {\"frequency\": 3, \"value\": 10962}, \"2772\": {\"frequency\": 2, \"value\": 2772}, \"4558\": {\"frequency\": 5, \"value\": 4558}, \"10968\": {\"frequency\": 3, \"value\": 10968}, \"2788\": {\"frequency\": 2, \"value\": 2788}, \"2790\": {\"frequency\": 2, \"value\": 2790}, \"7293\": {\"frequency\": 2, \"value\": 7293}, \"2800\": {\"frequency\": 16, \"value\": 2800}, \"7294\": {\"frequency\": 3, \"value\": 7294}, \"2807\": {\"frequency\": 2, \"value\": 2807}, \"2808\": {\"frequency\": 2, \"value\": 2808}, \"19200\": {\"frequency\": 6, \"value\": 19200}, \"2820\": {\"frequency\": 4, \"value\": 2820}, \"9914\": {\"frequency\": 2, \"value\": 9914}, \"2839\": {\"frequency\": 2, \"value\": 2839}, \"11034\": {\"frequency\": 3, \"value\": 11034}, \"11040\": {\"frequency\": 3, \"value\": 11040}, \"11041\": {\"frequency\": 2, \"value\": 11041}, \"2850\": {\"frequency\": 6, \"value\": 2850}, \"11049\": {\"frequency\": 2, \"value\": 11049}, \"11050\": {\"frequency\": 5, \"value\": 11050}, \"11054\": {\"frequency\": 2, \"value\": 11054}, \"27441\": {\"frequency\": 2, \"value\": 27441}, \"11060\": {\"frequency\": 4, \"value\": 11060}, \"2875\": {\"frequency\": 7, \"value\": 2875}, \"11070\": {\"frequency\": 4, \"value\": 11070}, \"2880\": {\"frequency\": 2, \"value\": 2880}, \"2885\": {\"frequency\": 2, \"value\": 2885}, \"15500\": {\"frequency\": 3, \"value\": 15500}, \"2890\": {\"frequency\": 5, \"value\": 2890}, \"11090\": {\"frequency\": 2, \"value\": 11090}, \"11096\": {\"frequency\": 2, \"value\": 11096}, \"11100\": {\"frequency\": 7, \"value\": 11100}, \"2910\": {\"frequency\": 3, \"value\": 2910}, \"35679\": {\"frequency\": 2, \"value\": 35679}, \"11108\": {\"frequency\": 2, \"value\": 11108}, \"11111\": {\"frequency\": 2, \"value\": 11111}, \"19602\": {\"frequency\": 2, \"value\": 19602}, \"11120\": {\"frequency\": 4, \"value\": 11120}, \"273556\": {\"frequency\": 2, \"value\": 273556}, \"29163\": {\"frequency\": 2, \"value\": 29163}, \"2958\": {\"frequency\": 2, \"value\": 2958}, \"1860\": {\"frequency\": 2, \"value\": 1860}, \"2970\": {\"frequency\": 7, \"value\": 2970}, \"2971\": {\"frequency\": 2, \"value\": 2971}, \"11165\": {\"frequency\": 3, \"value\": 11165}, \"2975\": {\"frequency\": 3, \"value\": 2975}, \"2980\": {\"frequency\": 2, \"value\": 2980}, \"11173\": {\"frequency\": 2, \"value\": 11173}, \"11180\": {\"frequency\": 5, \"value\": 11180}, \"2992\": {\"frequency\": 3, \"value\": 2992}, \"11422\": {\"frequency\": 2, \"value\": 11422}, \"3000\": {\"frequency\": 84, \"value\": 3000}, \"11193\": {\"frequency\": 3, \"value\": 11193}, \"3008\": {\"frequency\": 3, \"value\": 3008}, \"11201\": {\"frequency\": 2, \"value\": 11201}, \"3012\": {\"frequency\": 2, \"value\": 3012}, \"11205\": {\"frequency\": 2, \"value\": 11205}, \"11210\": {\"frequency\": 2, \"value\": 11210}, \"11214\": {\"frequency\": 3, \"value\": 11214}, \"3031\": {\"frequency\": 3, \"value\": 3031}, \"11225\": {\"frequency\": 3, \"value\": 11225}, \"43995\": {\"frequency\": 6, \"value\": 43995}, \"49658\": {\"frequency\": 8, \"value\": 49658}, \"3040\": {\"frequency\": 3, \"value\": 3040}, \"11234\": {\"frequency\": 3, \"value\": 11234}, \"11240\": {\"frequency\": 2, \"value\": 11240}, \"3056\": {\"frequency\": 2, \"value\": 3056}, \"11250\": {\"frequency\": 24, \"value\": 11250}, \"3060\": {\"frequency\": 24, \"value\": 3060}, \"3068\": {\"frequency\": 2, \"value\": 3068}, \"3075\": {\"frequency\": 5, \"value\": 3075}, \"11270\": {\"frequency\": 2, \"value\": 11270}, \"3080\": {\"frequency\": 4, \"value\": 3080}, \"3088\": {\"frequency\": 2, \"value\": 3088}, \"3090\": {\"frequency\": 13, \"value\": 3090}, \"3100\": {\"frequency\": 3, \"value\": 3100}, \"93218\": {\"frequency\": 2, \"value\": 93218}, \"11305\": {\"frequency\": 2, \"value\": 11305}, \"3118\": {\"frequency\": 2, \"value\": 3118}, \"52272\": {\"frequency\": 3, \"value\": 52272}, \"3121\": {\"frequency\": 2, \"value\": 3121}, \"3128\": {\"frequency\": 4, \"value\": 3128}, \"3132\": {\"frequency\": 2, \"value\": 3132}, \"11325\": {\"frequency\": 7, \"value\": 11325}, \"3135\": {\"frequency\": 3, \"value\": 3135}, \"3140\": {\"frequency\": 2, \"value\": 3140}, \"3141\": {\"frequency\": 2, \"value\": 3141}, \"3143\": {\"frequency\": 2, \"value\": 3143}, \"11340\": {\"frequency\": 11, \"value\": 11340}, \"3150\": {\"frequency\": 7, \"value\": 3150}, \"11350\": {\"frequency\": 3, \"value\": 11350}, \"19550\": {\"frequency\": 2, \"value\": 19550}, \"3172\": {\"frequency\": 3, \"value\": 3172}, \"11375\": {\"frequency\": 4, \"value\": 11375}, \"11380\": {\"frequency\": 2, \"value\": 11380}, \"3192\": {\"frequency\": 3, \"value\": 3192}, \"3200\": {\"frequency\": 31, \"value\": 3200}, \"11393\": {\"frequency\": 3, \"value\": 11393}, \"60548\": {\"frequency\": 3, \"value\": 60548}, \"3207\": {\"frequency\": 2, \"value\": 3207}, \"11400\": {\"frequency\": 10, \"value\": 11400}, \"3210\": {\"frequency\": 4, \"value\": 3210}, \"3211\": {\"frequency\": 3, \"value\": 3211}, \"11407\": {\"frequency\": 2, \"value\": 11407}, \"19600\": {\"frequency\": 2, \"value\": 19600}, \"3218\": {\"frequency\": 2, \"value\": 3218}, \"3220\": {\"frequency\": 2, \"value\": 3220}, \"3225\": {\"frequency\": 5, \"value\": 3225}, \"3230\": {\"frequency\": 3, \"value\": 3230}, \"3240\": {\"frequency\": 9, \"value\": 3240}, \"3245\": {\"frequency\": 2, \"value\": 3245}, \"11440\": {\"frequency\": 3, \"value\": 11440}, \"3250\": {\"frequency\": 5, \"value\": 3250}, \"11443\": {\"frequency\": 2, \"value\": 11443}, \"3255\": {\"frequency\": 2, \"value\": 3255}, \"11448\": {\"frequency\": 2, \"value\": 11448}, \"224442\": {\"frequency\": 2, \"value\": 224442}, \"11454\": {\"frequency\": 3, \"value\": 11454}, \"11455\": {\"frequency\": 2, \"value\": 11455}, \"3264\": {\"frequency\": 3, \"value\": 3264}, \"11466\": {\"frequency\": 2, \"value\": 11466}, \"11475\": {\"frequency\": 4, \"value\": 11475}, \"11480\": {\"frequency\": 2, \"value\": 11480}, \"11481\": {\"frequency\": 2, \"value\": 11481}, \"19680\": {\"frequency\": 2, \"value\": 19680}, \"3300\": {\"frequency\": 15, \"value\": 3300}, \"11500\": {\"frequency\": 10, \"value\": 11500}, \"15570\": {\"frequency\": 2, \"value\": 15570}, \"12840\": {\"frequency\": 3, \"value\": 12840}, \"3315\": {\"frequency\": 2, \"value\": 3315}, \"19700\": {\"frequency\": 2, \"value\": 19700}, \"3325\": {\"frequency\": 2, \"value\": 3325}, \"3328\": {\"frequency\": 2, \"value\": 3328}, \"1920\": {\"frequency\": 3, \"value\": 1920}, \"3330\": {\"frequency\": 5, \"value\": 3330}, \"3332\": {\"frequency\": 2, \"value\": 3332}, \"3333\": {\"frequency\": 3, \"value\": 3333}, \"11530\": {\"frequency\": 2, \"value\": 11530}, \"11536\": {\"frequency\": 3, \"value\": 11536}, \"3348\": {\"frequency\": 3, \"value\": 3348}, \"11542\": {\"frequency\": 2, \"value\": 11542}, \"11547\": {\"frequency\": 2, \"value\": 11547}, \"11550\": {\"frequency\": 2, \"value\": 11550}, \"118047\": {\"frequency\": 3, \"value\": 118047}, \"3360\": {\"frequency\": 9, \"value\": 3360}, \"11562\": {\"frequency\": 2, \"value\": 11562}, \"3376\": {\"frequency\": 2, \"value\": 3376}, \"11576\": {\"frequency\": 2, \"value\": 11576}, \"11583\": {\"frequency\": 2, \"value\": 11583}, \"11585\": {\"frequency\": 3, \"value\": 11585}, \"3399\": {\"frequency\": 2, \"value\": 3399}, \"3400\": {\"frequency\": 22, \"value\": 3400}, \"3402\": {\"frequency\": 3, \"value\": 3402}, \"3404\": {\"frequency\": 2, \"value\": 3404}, \"11600\": {\"frequency\": 5, \"value\": 11600}, \"11603\": {\"frequency\": 2, \"value\": 11603}, \"10170\": {\"frequency\": 2, \"value\": 10170}, \"19800\": {\"frequency\": 3, \"value\": 19800}, \"11610\": {\"frequency\": 2, \"value\": 11610}, \"3420\": {\"frequency\": 9, \"value\": 3420}, \"28000\": {\"frequency\": 3, \"value\": 28000}, \"3425\": {\"frequency\": 2, \"value\": 3425}, \"3427\": {\"frequency\": 3, \"value\": 3427}, \"28008\": {\"frequency\": 2, \"value\": 28008}, \"11625\": {\"frequency\": 3, \"value\": 11625}, \"3436\": {\"frequency\": 2, \"value\": 3436}, \"3438\": {\"frequency\": 2, \"value\": 3438}, \"11632\": {\"frequency\": 2, \"value\": 11632}, \"3451\": {\"frequency\": 3, \"value\": 3451}, \"6116\": {\"frequency\": 2, \"value\": 6116}, \"85377\": {\"frequency\": 2, \"value\": 85377}, \"11651\": {\"frequency\": 2, \"value\": 11651}, \"5298\": {\"frequency\": 3, \"value\": 5298}, \"11656\": {\"frequency\": 2, \"value\": 11656}, \"19850\": {\"frequency\": 3, \"value\": 19850}, \"11662\": {\"frequency\": 2, \"value\": 11662}, \"44431\": {\"frequency\": 7, \"value\": 44431}, \"3475\": {\"frequency\": 3, \"value\": 3475}, \"3478\": {\"frequency\": 4, \"value\": 3478}, \"3480\": {\"frequency\": 4, \"value\": 3480}, \"11675\": {\"frequency\": 2, \"value\": 11675}, \"3497\": {\"frequency\": 2, \"value\": 3497}, \"11690\": {\"frequency\": 2, \"value\": 11690}, \"3500\": {\"frequency\": 18, \"value\": 3500}, \"216493\": {\"frequency\": 2, \"value\": 216493}, \"3504\": {\"frequency\": 2, \"value\": 3504}, \"4680\": {\"frequency\": 5, \"value\": 4680}, \"3507\": {\"frequency\": 2, \"value\": 3507}, \"11700\": {\"frequency\": 9, \"value\": 11700}, \"3520\": {\"frequency\": 6, \"value\": 3520}, \"11727\": {\"frequency\": 2, \"value\": 11727}, \"3540\": {\"frequency\": 2, \"value\": 3540}, \"11740\": {\"frequency\": 2, \"value\": 11740}, \"11745\": {\"frequency\": 3, \"value\": 11745}, \"52707\": {\"frequency\": 2, \"value\": 52707}, \"11750\": {\"frequency\": 3, \"value\": 11750}, \"3560\": {\"frequency\": 3, \"value\": 3560}, \"3561\": {\"frequency\": 2, \"value\": 3561}, \"3565\": {\"frequency\": 2, \"value\": 3565}, \"11761\": {\"frequency\": 2, \"value\": 11761}, \"3570\": {\"frequency\": 5, \"value\": 3570}, \"11765\": {\"frequency\": 2, \"value\": 11765}, \"19965\": {\"frequency\": 2, \"value\": 19965}, \"3582\": {\"frequency\": 4, \"value\": 3582}, \"11775\": {\"frequency\": 2, \"value\": 11775}, \"11520\": {\"frequency\": 4, \"value\": 11520}, \"3588\": {\"frequency\": 3, \"value\": 3588}, \"3600\": {\"frequency\": 103, \"value\": 3600}, \"11793\": {\"frequency\": 2, \"value\": 11793}, \"11795\": {\"frequency\": 2, \"value\": 11795}, \"3604\": {\"frequency\": 2, \"value\": 3604}, \"19991\": {\"frequency\": 2, \"value\": 19991}, \"11800\": {\"frequency\": 4, \"value\": 11800}, \"28185\": {\"frequency\": 2, \"value\": 28185}, \"3610\": {\"frequency\": 3, \"value\": 3610}, \"20000\": {\"frequency\": 12, \"value\": 20000}, \"10160\": {\"frequency\": 7, \"value\": 10160}, \"3622\": {\"frequency\": 2, \"value\": 3622}, \"101930\": {\"frequency\": 3, \"value\": 101930}, \"3630\": {\"frequency\": 2, \"value\": 3630}, \"11824\": {\"frequency\": 2, \"value\": 11824}, \"3640\": {\"frequency\": 4, \"value\": 3640}, \"11835\": {\"frequency\": 2, \"value\": 11835}, \"11843\": {\"frequency\": 2, \"value\": 11843}, \"11856\": {\"frequency\": 2, \"value\": 11856}, \"3667\": {\"frequency\": 2, \"value\": 3667}, \"3672\": {\"frequency\": 4, \"value\": 3672}, \"3677\": {\"frequency\": 3, \"value\": 3677}, \"3680\": {\"frequency\": 9, \"value\": 3680}, \"11875\": {\"frequency\": 4, \"value\": 11875}, \"11877\": {\"frequency\": 2, \"value\": 11877}, \"11880\": {\"frequency\": 6, \"value\": 11880}, \"11884\": {\"frequency\": 3, \"value\": 11884}, \"3700\": {\"frequency\": 6, \"value\": 3700}, \"11894\": {\"frequency\": 2, \"value\": 11894}, \"3708\": {\"frequency\": 3, \"value\": 3708}, \"3710\": {\"frequency\": 2, \"value\": 3710}, \"3713\": {\"frequency\": 2, \"value\": 3713}, \"20100\": {\"frequency\": 3, \"value\": 20100}, \"3350\": {\"frequency\": 3, \"value\": 3350}, \"942\": {\"frequency\": 3, \"value\": 942}, \"3720\": {\"frequency\": 6, \"value\": 3720}, \"11914\": {\"frequency\": 3, \"value\": 11914}, \"28300\": {\"frequency\": 2, \"value\": 28300}, \"7489\": {\"frequency\": 2, \"value\": 7489}, \"11920\": {\"frequency\": 2, \"value\": 11920}, \"3729\": {\"frequency\": 2, \"value\": 3729}, \"3730\": {\"frequency\": 3, \"value\": 3730}, \"15400\": {\"frequency\": 3, \"value\": 15400}, \"3737\": {\"frequency\": 2, \"value\": 3737}, \"3738\": {\"frequency\": 2, \"value\": 3738}, \"3740\": {\"frequency\": 3, \"value\": 3740}, \"11935\": {\"frequency\": 2, \"value\": 11935}, \"3750\": {\"frequency\": 24, \"value\": 3750}, \"10183\": {\"frequency\": 5, \"value\": 10183}, \"3757\": {\"frequency\": 4, \"value\": 3757}, \"3760\": {\"frequency\": 7, \"value\": 3760}, \"3764\": {\"frequency\": 2, \"value\": 3764}, \"20150\": {\"frequency\": 2, \"value\": 20150}, \"3774\": {\"frequency\": 3, \"value\": 3774}, \"11970\": {\"frequency\": 3, \"value\": 11970}, \"3780\": {\"frequency\": 4, \"value\": 3780}, \"3784\": {\"frequency\": 4, \"value\": 3784}, \"11985\": {\"frequency\": 3, \"value\": 11985}, \"3795\": {\"frequency\": 2, \"value\": 3795}, \"3800\": {\"frequency\": 28, \"value\": 3800}, \"12000\": {\"frequency\": 42, \"value\": 12000}, \"3810\": {\"frequency\": 2, \"value\": 3810}, \"12005\": {\"frequency\": 2, \"value\": 12005}, \"36585\": {\"frequency\": 2, \"value\": 36585}, \"3819\": {\"frequency\": 2, \"value\": 3819}, \"12013\": {\"frequency\": 2, \"value\": 12013}, \"3825\": {\"frequency\": 18, \"value\": 3825}, \"3826\": {\"frequency\": 2, \"value\": 3826}, \"3827\": {\"frequency\": 2, \"value\": 3827}, \"12028\": {\"frequency\": 2, \"value\": 12028}, \"3839\": {\"frequency\": 2, \"value\": 3839}, \"3840\": {\"frequency\": 18, \"value\": 3840}, \"3844\": {\"frequency\": 11, \"value\": 3844}, \"12040\": {\"frequency\": 2, \"value\": 12040}, \"3850\": {\"frequency\": 7, \"value\": 3850}, \"3852\": {\"frequency\": 2, \"value\": 3852}, \"3855\": {\"frequency\": 2, \"value\": 3855}, \"3864\": {\"frequency\": 3, \"value\": 3864}, \"3865\": {\"frequency\": 2, \"value\": 3865}, \"3867\": {\"frequency\": 2, \"value\": 3867}, \"3868\": {\"frequency\": 3, \"value\": 3868}, \"3870\": {\"frequency\": 4, \"value\": 3870}, \"12063\": {\"frequency\": 2, \"value\": 12063}, \"3873\": {\"frequency\": 3, \"value\": 3873}, \"3876\": {\"frequency\": 6, \"value\": 3876}, \"12070\": {\"frequency\": 3, \"value\": 12070}, \"3880\": {\"frequency\": 21, \"value\": 3880}, \"3885\": {\"frequency\": 2, \"value\": 3885}, \"12080\": {\"frequency\": 3, \"value\": 12080}, \"56628\": {\"frequency\": 3, \"value\": 56628}, \"12090\": {\"frequency\": 2, \"value\": 12090}, \"3899\": {\"frequency\": 3, \"value\": 3899}, \"3900\": {\"frequency\": 14, \"value\": 3900}, \"12094\": {\"frequency\": 2, \"value\": 12094}, \"3905\": {\"frequency\": 2, \"value\": 3905}, \"44866\": {\"frequency\": 4, \"value\": 44866}, \"12100\": {\"frequency\": 6, \"value\": 12100}, \"12103\": {\"frequency\": 2, \"value\": 12103}, \"3916\": {\"frequency\": 3, \"value\": 3916}, \"3920\": {\"frequency\": 4, \"value\": 3920}, \"2020\": {\"frequency\": 2, \"value\": 2020}, \"3933\": {\"frequency\": 2, \"value\": 3933}, \"3938\": {\"frequency\": 2, \"value\": 3938}, \"12142\": {\"frequency\": 2, \"value\": 12142}, \"3952\": {\"frequency\": 2, \"value\": 3952}, \"12145\": {\"frequency\": 2, \"value\": 12145}, \"12150\": {\"frequency\": 4, \"value\": 12150}, \"3960\": {\"frequency\": 13, \"value\": 3960}, \"3962\": {\"frequency\": 2, \"value\": 3962}, \"12155\": {\"frequency\": 3, \"value\": 12155}, \"107157\": {\"frequency\": 4, \"value\": 107157}, \"12160\": {\"frequency\": 3, \"value\": 12160}, \"12164\": {\"frequency\": 2, \"value\": 12164}, \"3974\": {\"frequency\": 2, \"value\": 3974}, \"3975\": {\"frequency\": 2, \"value\": 3975}, \"3976\": {\"frequency\": 2, \"value\": 3976}, \"3978\": {\"frequency\": 2, \"value\": 3978}, \"3980\": {\"frequency\": 6, \"value\": 3980}, \"3984\": {\"frequency\": 2, \"value\": 3984}, \"3986\": {\"frequency\": 2, \"value\": 3986}, \"3990\": {\"frequency\": 5, \"value\": 3990}, \"53143\": {\"frequency\": 3, \"value\": 53143}, \"3995\": {\"frequency\": 2, \"value\": 3995}, \"4000\": {\"frequency\": 251, \"value\": 4000}, \"4002\": {\"frequency\": 2, \"value\": 4002}, \"4003\": {\"frequency\": 2, \"value\": 4003}, \"12196\": {\"frequency\": 8, \"value\": 12196}, \"12197\": {\"frequency\": 2, \"value\": 12197}, \"4006\": {\"frequency\": 3, \"value\": 4006}, \"4007\": {\"frequency\": 2, \"value\": 4007}, \"4010\": {\"frequency\": 2, \"value\": 4010}, \"4011\": {\"frequency\": 2, \"value\": 4011}, \"4013\": {\"frequency\": 3, \"value\": 4013}, \"24684\": {\"frequency\": 2, \"value\": 24684}, \"4020\": {\"frequency\": 3, \"value\": 4020}, \"28600\": {\"frequency\": 2, \"value\": 28600}, \"4025\": {\"frequency\": 6, \"value\": 4025}, \"20412\": {\"frequency\": 2, \"value\": 20412}, \"4030\": {\"frequency\": 2, \"value\": 4030}, \"4031\": {\"frequency\": 2, \"value\": 4031}, \"4038\": {\"frequency\": 2, \"value\": 4038}, \"12231\": {\"frequency\": 4, \"value\": 12231}, \"4040\": {\"frequency\": 5, \"value\": 4040}, \"12236\": {\"frequency\": 2, \"value\": 12236}, \"4045\": {\"frequency\": 2, \"value\": 4045}, \"4046\": {\"frequency\": 6, \"value\": 4046}, \"12240\": {\"frequency\": 3, \"value\": 12240}, \"4050\": {\"frequency\": 11, \"value\": 4050}, \"8867\": {\"frequency\": 3, \"value\": 8867}, \"4052\": {\"frequency\": 2, \"value\": 4052}, \"12410\": {\"frequency\": 2, \"value\": 12410}, \"4054\": {\"frequency\": 3, \"value\": 4054}, \"12250\": {\"frequency\": 3, \"value\": 12250}, \"12252\": {\"frequency\": 2, \"value\": 12252}, \"20445\": {\"frequency\": 2, \"value\": 20445}, \"102366\": {\"frequency\": 3, \"value\": 102366}, \"4065\": {\"frequency\": 2, \"value\": 4065}, \"61419\": {\"frequency\": 5, \"value\": 61419}, \"4076\": {\"frequency\": 2, \"value\": 4076}, \"4079\": {\"frequency\": 2, \"value\": 4079}, \"4080\": {\"frequency\": 67, \"value\": 4080}, \"4084\": {\"frequency\": 2, \"value\": 4084}, \"4086\": {\"frequency\": 2, \"value\": 4086}, \"4088\": {\"frequency\": 2, \"value\": 4088}, \"4089\": {\"frequency\": 2, \"value\": 4089}, \"12282\": {\"frequency\": 3, \"value\": 12282}, \"4094\": {\"frequency\": 2, \"value\": 4094}, \"4095\": {\"frequency\": 3, \"value\": 4095}, \"4096\": {\"frequency\": 2, \"value\": 4096}, \"4097\": {\"frequency\": 2, \"value\": 4097}, \"4100\": {\"frequency\": 4, \"value\": 4100}, \"4102\": {\"frequency\": 3, \"value\": 4102}, \"4104\": {\"frequency\": 4, \"value\": 4104}, \"4106\": {\"frequency\": 2, \"value\": 4106}, \"4108\": {\"frequency\": 3, \"value\": 4108}, \"4120\": {\"frequency\": 21, \"value\": 4120}, \"4125\": {\"frequency\": 7, \"value\": 4125}, \"28703\": {\"frequency\": 2, \"value\": 28703}, \"12320\": {\"frequency\": 2, \"value\": 12320}, \"36900\": {\"frequency\": 2, \"value\": 36900}, \"12327\": {\"frequency\": 2, \"value\": 12327}, \"4136\": {\"frequency\": 2, \"value\": 4136}, \"11612\": {\"frequency\": 2, \"value\": 11612}, \"4140\": {\"frequency\": 4, \"value\": 4140}, \"4141\": {\"frequency\": 2, \"value\": 4141}, \"12349\": {\"frequency\": 2, \"value\": 12349}, \"12350\": {\"frequency\": 7, \"value\": 12350}, \"4160\": {\"frequency\": 10, \"value\": 4160}, \"4163\": {\"frequency\": 2, \"value\": 4163}, \"4165\": {\"frequency\": 2, \"value\": 4165}, \"4166\": {\"frequency\": 2, \"value\": 4166}, \"4171\": {\"frequency\": 2, \"value\": 4171}, \"28750\": {\"frequency\": 2, \"value\": 28750}, \"12368\": {\"frequency\": 2, \"value\": 12368}, \"4178\": {\"frequency\": 4, \"value\": 4178}, \"4179\": {\"frequency\": 2, \"value\": 4179}, \"4180\": {\"frequency\": 2, \"value\": 4180}, \"4182\": {\"frequency\": 4, \"value\": 4182}, \"12375\": {\"frequency\": 2, \"value\": 12375}, \"4187\": {\"frequency\": 2, \"value\": 4187}, \"12381\": {\"frequency\": 2, \"value\": 12381}, \"4190\": {\"frequency\": 2, \"value\": 4190}, \"4200\": {\"frequency\": 49, \"value\": 4200}, \"4203\": {\"frequency\": 4, \"value\": 4203}, \"18450\": {\"frequency\": 2, \"value\": 18450}, \"4206\": {\"frequency\": 3, \"value\": 4206}, \"12688\": {\"frequency\": 2, \"value\": 12688}, \"3433\": {\"frequency\": 2, \"value\": 3433}, \"12408\": {\"frequency\": 3, \"value\": 12408}, \"159865\": {\"frequency\": 3, \"value\": 159865}, \"4218\": {\"frequency\": 3, \"value\": 4218}, \"4220\": {\"frequency\": 4, \"value\": 4220}, \"12415\": {\"frequency\": 2, \"value\": 12415}, \"4225\": {\"frequency\": 3, \"value\": 4225}, \"4226\": {\"frequency\": 2, \"value\": 4226}, \"4228\": {\"frequency\": 3, \"value\": 4228}, \"4234\": {\"frequency\": 2, \"value\": 4234}, \"12429\": {\"frequency\": 2, \"value\": 12429}, \"12430\": {\"frequency\": 2, \"value\": 12430}, \"7533\": {\"frequency\": 2, \"value\": 7533}, \"4240\": {\"frequency\": 13, \"value\": 4240}, \"77972\": {\"frequency\": 3, \"value\": 77972}, \"4250\": {\"frequency\": 7, \"value\": 4250}, \"12443\": {\"frequency\": 2, \"value\": 12443}, \"4252\": {\"frequency\": 2, \"value\": 4252}, \"37034\": {\"frequency\": 2, \"value\": 37034}, \"4268\": {\"frequency\": 5, \"value\": 4268}, \"4270\": {\"frequency\": 3, \"value\": 4270}, \"4271\": {\"frequency\": 2, \"value\": 4271}, \"13000\": {\"frequency\": 15, \"value\": 13000}, \"4275\": {\"frequency\": 4, \"value\": 4275}, \"4280\": {\"frequency\": 4, \"value\": 4280}, \"4284\": {\"frequency\": 5, \"value\": 4284}, \"4286\": {\"frequency\": 2, \"value\": 4286}, \"209088\": {\"frequency\": 2, \"value\": 209088}, \"4290\": {\"frequency\": 6, \"value\": 4290}, \"1234\": {\"frequency\": 2, \"value\": 1234}, \"4297\": {\"frequency\": 2, \"value\": 4297}, \"4300\": {\"frequency\": 8, \"value\": 4300}, \"4301\": {\"frequency\": 2, \"value\": 4301}, \"4305\": {\"frequency\": 2, \"value\": 4305}, \"4307\": {\"frequency\": 2, \"value\": 4307}, \"12500\": {\"frequency\": 22, \"value\": 12500}, \"4310\": {\"frequency\": 3, \"value\": 4310}, \"20700\": {\"frequency\": 3, \"value\": 20700}, \"10176\": {\"frequency\": 2, \"value\": 10176}, \"4320\": {\"frequency\": 11, \"value\": 4320}, \"4322\": {\"frequency\": 4, \"value\": 4322}, \"12519\": {\"frequency\": 2, \"value\": 12519}, \"12522\": {\"frequency\": 2, \"value\": 12522}, \"12523\": {\"frequency\": 2, \"value\": 12523}, \"4332\": {\"frequency\": 4, \"value\": 4332}, \"12527\": {\"frequency\": 2, \"value\": 12527}, \"12528\": {\"frequency\": 3, \"value\": 12528}, \"4337\": {\"frequency\": 3, \"value\": 4337}, \"45302\": {\"frequency\": 4, \"value\": 45302}, \"12540\": {\"frequency\": 3, \"value\": 12540}, \"4350\": {\"frequency\": 7, \"value\": 4350}, \"4356\": {\"frequency\": 2, \"value\": 4356}, \"4360\": {\"frequency\": 3, \"value\": 4360}, \"12558\": {\"frequency\": 3, \"value\": 12558}, \"4368\": {\"frequency\": 3, \"value\": 4368}, \"4370\": {\"frequency\": 2, \"value\": 4370}, \"12566\": {\"frequency\": 2, \"value\": 12566}, \"4375\": {\"frequency\": 2, \"value\": 4375}, \"18480\": {\"frequency\": 2, \"value\": 18480}, \"4399\": {\"frequency\": 3, \"value\": 4399}, \"4400\": {\"frequency\": 56, \"value\": 4400}, \"12600\": {\"frequency\": 8, \"value\": 12600}, \"4410\": {\"frequency\": 2, \"value\": 4410}, \"94525\": {\"frequency\": 4, \"value\": 94525}, \"4418\": {\"frequency\": 2, \"value\": 4418}, \"12616\": {\"frequency\": 2, \"value\": 12616}, \"4425\": {\"frequency\": 2, \"value\": 4425}, \"53578\": {\"frequency\": 5, \"value\": 53578}, \"4429\": {\"frequency\": 2, \"value\": 4429}, \"12626\": {\"frequency\": 2, \"value\": 12626}, \"4438\": {\"frequency\": 2, \"value\": 4438}, \"4440\": {\"frequency\": 8, \"value\": 4440}, \"4443\": {\"frequency\": 2, \"value\": 4443}, \"4445\": {\"frequency\": 2, \"value\": 4445}, \"4447\": {\"frequency\": 2, \"value\": 4447}, \"4450\": {\"frequency\": 2, \"value\": 4450}, \"4452\": {\"frequency\": 2, \"value\": 4452}, \"4455\": {\"frequency\": 2, \"value\": 4455}, \"4468\": {\"frequency\": 2, \"value\": 4468}, \"4473\": {\"frequency\": 4, \"value\": 4473}, \"4480\": {\"frequency\": 9, \"value\": 4480}, \"12675\": {\"frequency\": 2, \"value\": 12675}, \"4488\": {\"frequency\": 3, \"value\": 4488}, \"12682\": {\"frequency\": 2, \"value\": 12682}, \"20875\": {\"frequency\": 2, \"value\": 20875}, \"4495\": {\"frequency\": 4, \"value\": 4495}, \"4496\": {\"frequency\": 2, \"value\": 4496}, \"24700\": {\"frequency\": 2, \"value\": 24700}, \"12690\": {\"frequency\": 3, \"value\": 12690}, \"4499\": {\"frequency\": 4, \"value\": 4499}, \"4500\": {\"frequency\": 114, \"value\": 4500}, \"4501\": {\"frequency\": 2, \"value\": 4501}, \"4502\": {\"frequency\": 4, \"value\": 4502}, \"12696\": {\"frequency\": 2, \"value\": 12696}, \"4505\": {\"frequency\": 3, \"value\": 4505}, \"4510\": {\"frequency\": 2, \"value\": 4510}, \"4512\": {\"frequency\": 2, \"value\": 4512}, \"12705\": {\"frequency\": 2, \"value\": 12705}, \"4515\": {\"frequency\": 2, \"value\": 4515}, \"4520\": {\"frequency\": 3, \"value\": 4520}, \"12714\": {\"frequency\": 2, \"value\": 12714}, \"4524\": {\"frequency\": 4, \"value\": 4524}, \"4533\": {\"frequency\": 3, \"value\": 4533}, \"4534\": {\"frequency\": 6, \"value\": 4534}, \"4539\": {\"frequency\": 3, \"value\": 4539}, \"4541\": {\"frequency\": 2, \"value\": 4541}, \"4548\": {\"frequency\": 2, \"value\": 4548}, \"4549\": {\"frequency\": 2, \"value\": 4549}, \"4550\": {\"frequency\": 3, \"value\": 4550}, \"4551\": {\"frequency\": 2, \"value\": 4551}, \"4555\": {\"frequency\": 2, \"value\": 4555}, \"4557\": {\"frequency\": 2, \"value\": 4557}, \"12750\": {\"frequency\": 10, \"value\": 12750}, \"4560\": {\"frequency\": 15, \"value\": 4560}, \"12753\": {\"frequency\": 3, \"value\": 12753}, \"4564\": {\"frequency\": 2, \"value\": 4564}, \"2128\": {\"frequency\": 2, \"value\": 2128}, \"4244\": {\"frequency\": 3, \"value\": 4244}, \"111078\": {\"frequency\": 2, \"value\": 111078}, \"4584\": {\"frequency\": 2, \"value\": 4584}, \"4587\": {\"frequency\": 2, \"value\": 4587}, \"4590\": {\"frequency\": 17, \"value\": 4590}, \"4592\": {\"frequency\": 4, \"value\": 4592}, \"70131\": {\"frequency\": 2, \"value\": 70131}, \"4596\": {\"frequency\": 2, \"value\": 4596}, \"4862\": {\"frequency\": 3, \"value\": 4862}, \"4600\": {\"frequency\": 34, \"value\": 4600}, \"12793\": {\"frequency\": 3, \"value\": 12793}, \"4602\": {\"frequency\": 3, \"value\": 4602}, \"4606\": {\"frequency\": 2, \"value\": 4606}, \"21000\": {\"frequency\": 6, \"value\": 21000}, \"4620\": {\"frequency\": 2, \"value\": 4620}, \"4625\": {\"frequency\": 2, \"value\": 4625}, \"4627\": {\"frequency\": 2, \"value\": 4627}, \"12821\": {\"frequency\": 3, \"value\": 12821}, \"12825\": {\"frequency\": 5, \"value\": 12825}, \"4635\": {\"frequency\": 10, \"value\": 4635}, \"4637\": {\"frequency\": 2, \"value\": 4637}, \"4640\": {\"frequency\": 5, \"value\": 4640}, \"4648\": {\"frequency\": 2, \"value\": 4648}, \"4650\": {\"frequency\": 10, \"value\": 4650}, \"4652\": {\"frequency\": 2, \"value\": 4652}, \"21043\": {\"frequency\": 2, \"value\": 21043}, \"4667\": {\"frequency\": 4, \"value\": 4667}, \"4668\": {\"frequency\": 2, \"value\": 4668}, \"4670\": {\"frequency\": 2, \"value\": 4670}, \"12866\": {\"frequency\": 2, \"value\": 12866}, \"4675\": {\"frequency\": 4, \"value\": 4675}, \"78408\": {\"frequency\": 5, \"value\": 78408}, \"13068\": {\"frequency\": 7, \"value\": 13068}, \"4683\": {\"frequency\": 2, \"value\": 4683}, \"4690\": {\"frequency\": 2, \"value\": 4690}, \"4692\": {\"frequency\": 2, \"value\": 4692}, \"4694\": {\"frequency\": 3, \"value\": 4694}, \"4697\": {\"frequency\": 2, \"value\": 4697}, \"4698\": {\"frequency\": 3, \"value\": 4698}, \"4700\": {\"frequency\": 13, \"value\": 4700}, \"4704\": {\"frequency\": 2, \"value\": 4704}, \"12899\": {\"frequency\": 2, \"value\": 12899}, \"4708\": {\"frequency\": 2, \"value\": 4708}, \"1248\": {\"frequency\": 3, \"value\": 1248}, \"4720\": {\"frequency\": 6, \"value\": 4720}, \"209523\": {\"frequency\": 4, \"value\": 209523}, \"4725\": {\"frequency\": 10, \"value\": 4725}, \"4729\": {\"frequency\": 2, \"value\": 4729}, \"4730\": {\"frequency\": 3, \"value\": 4730}, \"4736\": {\"frequency\": 3, \"value\": 4736}, \"4740\": {\"frequency\": 2, \"value\": 4740}, \"4743\": {\"frequency\": 2, \"value\": 4743}, \"4745\": {\"frequency\": 2, \"value\": 4745}, \"4750\": {\"frequency\": 27, \"value\": 4750}, \"4751\": {\"frequency\": 3, \"value\": 4751}, \"4755\": {\"frequency\": 3, \"value\": 4755}, \"12950\": {\"frequency\": 2, \"value\": 12950}, \"4760\": {\"frequency\": 10, \"value\": 4760}, \"4770\": {\"frequency\": 4, \"value\": 4770}, \"4774\": {\"frequency\": 3, \"value\": 4774}, \"12968\": {\"frequency\": 2, \"value\": 12968}, \"4777\": {\"frequency\": 4, \"value\": 4777}, \"45738\": {\"frequency\": 10, \"value\": 45738}, \"4780\": {\"frequency\": 4, \"value\": 4780}, \"4781\": {\"frequency\": 2, \"value\": 4781}, \"4788\": {\"frequency\": 3, \"value\": 4788}, \"12987\": {\"frequency\": 3, \"value\": 12987}, \"4797\": {\"frequency\": 2, \"value\": 4797}, \"21183\": {\"frequency\": 2, \"value\": 21183}, \"4800\": {\"frequency\": 120, \"value\": 4800}, \"4802\": {\"frequency\": 2, \"value\": 4802}, \"4805\": {\"frequency\": 2, \"value\": 4805}, \"217800\": {\"frequency\": 15, \"value\": 217800}, \"13002\": {\"frequency\": 2, \"value\": 13002}, \"4815\": {\"frequency\": 5, \"value\": 4815}, \"205603\": {\"frequency\": 2, \"value\": 205603}, \"4828\": {\"frequency\": 2, \"value\": 4828}, \"4836\": {\"frequency\": 2, \"value\": 4836}, \"4838\": {\"frequency\": 6, \"value\": 4838}, \"7633\": {\"frequency\": 2, \"value\": 7633}, \"4840\": {\"frequency\": 10, \"value\": 4840}, \"13095\": {\"frequency\": 2, \"value\": 13095}, \"94960\": {\"frequency\": 2, \"value\": 94960}, \"4850\": {\"frequency\": 7, \"value\": 4850}, \"4859\": {\"frequency\": 2, \"value\": 4859}, \"4860\": {\"frequency\": 2, \"value\": 4860}, \"54014\": {\"frequency\": 5, \"value\": 54014}, \"4866\": {\"frequency\": 2, \"value\": 4866}, \"13059\": {\"frequency\": 2, \"value\": 13059}, \"4874\": {\"frequency\": 2, \"value\": 4874}, \"4875\": {\"frequency\": 10, \"value\": 4875}, \"4876\": {\"frequency\": 2, \"value\": 4876}, \"4880\": {\"frequency\": 5, \"value\": 4880}, \"4887\": {\"frequency\": 2, \"value\": 4887}, \"13085\": {\"frequency\": 2, \"value\": 13085}, \"4895\": {\"frequency\": 2, \"value\": 4895}, \"13104\": {\"frequency\": 2, \"value\": 13104}, \"4900\": {\"frequency\": 8, \"value\": 4900}, \"4903\": {\"frequency\": 2, \"value\": 4903}, \"4904\": {\"frequency\": 2, \"value\": 4904}, \"4905\": {\"frequency\": 3, \"value\": 4905}, \"185130\": {\"frequency\": 2, \"value\": 185130}, \"13100\": {\"frequency\": 5, \"value\": 13100}, \"4912\": {\"frequency\": 2, \"value\": 4912}, \"4913\": {\"frequency\": 2, \"value\": 4913}, \"21303\": {\"frequency\": 3, \"value\": 21303}, \"4920\": {\"frequency\": 12, \"value\": 4920}, \"4923\": {\"frequency\": 2, \"value\": 4923}, \"4924\": {\"frequency\": 3, \"value\": 4924}, \"4930\": {\"frequency\": 3, \"value\": 4930}, \"13125\": {\"frequency\": 3, \"value\": 13125}, \"13129\": {\"frequency\": 2, \"value\": 13129}, \"4944\": {\"frequency\": 3, \"value\": 4944}, \"4945\": {\"frequency\": 5, \"value\": 4945}, \"62290\": {\"frequency\": 3, \"value\": 62290}, \"4947\": {\"frequency\": 3, \"value\": 4947}, \"4948\": {\"frequency\": 2, \"value\": 4948}, \"4949\": {\"frequency\": 2, \"value\": 4949}, \"4950\": {\"frequency\": 15, \"value\": 4950}, \"4959\": {\"frequency\": 2, \"value\": 4959}, \"4960\": {\"frequency\": 8, \"value\": 4960}, \"4961\": {\"frequency\": 3, \"value\": 4961}, \"4964\": {\"frequency\": 2, \"value\": 4964}, \"4972\": {\"frequency\": 2, \"value\": 4972}, \"4975\": {\"frequency\": 2, \"value\": 4975}, \"13168\": {\"frequency\": 2, \"value\": 13168}, \"4978\": {\"frequency\": 3, \"value\": 4978}, \"4980\": {\"frequency\": 6, \"value\": 4980}, \"4984\": {\"frequency\": 2, \"value\": 4984}, \"4990\": {\"frequency\": 2, \"value\": 4990}, \"4992\": {\"frequency\": 2, \"value\": 4992}, \"4997\": {\"frequency\": 3, \"value\": 4997}, \"5000\": {\"frequency\": 358, \"value\": 5000}, \"5001\": {\"frequency\": 15, \"value\": 5001}, \"5002\": {\"frequency\": 6, \"value\": 5002}, \"5004\": {\"frequency\": 2, \"value\": 5004}, \"5005\": {\"frequency\": 3, \"value\": 5005}, \"5006\": {\"frequency\": 2, \"value\": 5006}, \"54160\": {\"frequency\": 2, \"value\": 54160}, \"5009\": {\"frequency\": 2, \"value\": 5009}, \"5010\": {\"frequency\": 2, \"value\": 5010}, \"5012\": {\"frequency\": 3, \"value\": 5012}, \"5013\": {\"frequency\": 3, \"value\": 5013}, \"5015\": {\"frequency\": 4, \"value\": 5015}, \"5025\": {\"frequency\": 5, \"value\": 5025}, \"5027\": {\"frequency\": 4, \"value\": 5027}, \"5029\": {\"frequency\": 4, \"value\": 5029}, \"5030\": {\"frequency\": 3, \"value\": 5030}, \"70567\": {\"frequency\": 3, \"value\": 70567}, \"37800\": {\"frequency\": 2, \"value\": 37800}, \"5034\": {\"frequency\": 2, \"value\": 5034}, \"5040\": {\"frequency\": 29, \"value\": 5040}, \"5043\": {\"frequency\": 5, \"value\": 5043}, \"5048\": {\"frequency\": 2, \"value\": 5048}, \"13241\": {\"frequency\": 2, \"value\": 13241}, \"5050\": {\"frequency\": 9, \"value\": 5050}, \"5054\": {\"frequency\": 3, \"value\": 5054}, \"174240\": {\"frequency\": 2, \"value\": 174240}, \"5060\": {\"frequency\": 9, \"value\": 5060}, \"5065\": {\"frequency\": 2, \"value\": 5065}, \"13260\": {\"frequency\": 4, \"value\": 13260}, \"5070\": {\"frequency\": 5, \"value\": 5070}, \"5071\": {\"frequency\": 3, \"value\": 5071}, \"5080\": {\"frequency\": 17, \"value\": 5080}, \"5088\": {\"frequency\": 2, \"value\": 5088}, \"5089\": {\"frequency\": 2, \"value\": 5089}, \"5090\": {\"frequency\": 2, \"value\": 5090}, \"108464\": {\"frequency\": 3, \"value\": 108464}, \"5096\": {\"frequency\": 3, \"value\": 5096}, \"5097\": {\"frequency\": 2, \"value\": 5097}, \"5100\": {\"frequency\": 78, \"value\": 5100}, \"5101\": {\"frequency\": 4, \"value\": 5101}, \"5102\": {\"frequency\": 5, \"value\": 5102}, \"13296\": {\"frequency\": 2, \"value\": 13296}, \"5105\": {\"frequency\": 3, \"value\": 5105}, \"5106\": {\"frequency\": 2, \"value\": 5106}, \"5107\": {\"frequency\": 2, \"value\": 5107}, \"13300\": {\"frequency\": 8, \"value\": 13300}, \"11774\": {\"frequency\": 2, \"value\": 11774}, \"5110\": {\"frequency\": 4, \"value\": 5110}, \"5111\": {\"frequency\": 5, \"value\": 5111}, \"5112\": {\"frequency\": 2, \"value\": 5112}, \"7808\": {\"frequency\": 2, \"value\": 7808}, \"5118\": {\"frequency\": 2, \"value\": 5118}, \"5120\": {\"frequency\": 27, \"value\": 5120}, \"5125\": {\"frequency\": 4, \"value\": 5125}, \"5128\": {\"frequency\": 2, \"value\": 5128}, \"5130\": {\"frequency\": 3, \"value\": 5130}, \"5131\": {\"frequency\": 2, \"value\": 5131}, \"5137\": {\"frequency\": 2, \"value\": 5137}, \"5140\": {\"frequency\": 2, \"value\": 5140}, \"5375\": {\"frequency\": 7, \"value\": 5375}, \"11780\": {\"frequency\": 3, \"value\": 11780}, \"5146\": {\"frequency\": 4, \"value\": 5146}, \"5150\": {\"frequency\": 18, \"value\": 5150}, \"13350\": {\"frequency\": 2, \"value\": 13350}, \"5160\": {\"frequency\": 9, \"value\": 5160}, \"5170\": {\"frequency\": 2, \"value\": 5170}, \"13367\": {\"frequency\": 2, \"value\": 13367}, \"13370\": {\"frequency\": 2, \"value\": 13370}, \"21344\": {\"frequency\": 2, \"value\": 21344}, \"5192\": {\"frequency\": 2, \"value\": 5192}, \"5195\": {\"frequency\": 2, \"value\": 5195}, \"5200\": {\"frequency\": 64, \"value\": 5200}, \"10424\": {\"frequency\": 2, \"value\": 10424}, \"5202\": {\"frequency\": 4, \"value\": 5202}, \"5203\": {\"frequency\": 2, \"value\": 5203}, \"5210\": {\"frequency\": 2, \"value\": 5210}, \"46173\": {\"frequency\": 6, \"value\": 46173}, \"21600\": {\"frequency\": 2, \"value\": 21600}, \"5217\": {\"frequency\": 3, \"value\": 5217}, \"5220\": {\"frequency\": 4, \"value\": 5220}, \"5222\": {\"frequency\": 2, \"value\": 5222}, \"5225\": {\"frequency\": 6, \"value\": 5225}, \"5236\": {\"frequency\": 3, \"value\": 5236}, \"13430\": {\"frequency\": 3, \"value\": 13430}, \"873\": {\"frequency\": 2, \"value\": 873}, \"5240\": {\"frequency\": 8, \"value\": 5240}, \"218235\": {\"frequency\": 2, \"value\": 218235}, \"5244\": {\"frequency\": 2, \"value\": 5244}, \"5250\": {\"frequency\": 32, \"value\": 5250}, \"13444\": {\"frequency\": 2, \"value\": 13444}, \"5257\": {\"frequency\": 3, \"value\": 5257}, \"13450\": {\"frequency\": 2, \"value\": 13450}, \"5260\": {\"frequency\": 4, \"value\": 5260}, \"5264\": {\"frequency\": 2, \"value\": 5264}, \"3608\": {\"frequency\": 3, \"value\": 3608}, \"5267\": {\"frequency\": 4, \"value\": 5267}, \"13468\": {\"frequency\": 2, \"value\": 13468}, \"5280\": {\"frequency\": 15, \"value\": 5280}, \"4976\": {\"frequency\": 2, \"value\": 4976}, \"13474\": {\"frequency\": 2, \"value\": 13474}, \"13475\": {\"frequency\": 2, \"value\": 13475}, \"95396\": {\"frequency\": 2, \"value\": 95396}, \"5289\": {\"frequency\": 2, \"value\": 5289}, \"54450\": {\"frequency\": 8, \"value\": 54450}, \"5300\": {\"frequency\": 11, \"value\": 5300}, \"5304\": {\"frequency\": 3, \"value\": 5304}, \"5306\": {\"frequency\": 2, \"value\": 5306}, \"13500\": {\"frequency\": 20, \"value\": 13500}, \"5310\": {\"frequency\": 3, \"value\": 5310}, \"13503\": {\"frequency\": 3, \"value\": 13503}, \"1268\": {\"frequency\": 2, \"value\": 1268}, \"1960\": {\"frequency\": 2, \"value\": 1960}, \"20001\": {\"frequency\": 2, \"value\": 20001}, \"13515\": {\"frequency\": 3, \"value\": 13515}, \"5333\": {\"frequency\": 2, \"value\": 5333}, \"13530\": {\"frequency\": 2, \"value\": 13530}, \"5340\": {\"frequency\": 3, \"value\": 5340}, \"5349\": {\"frequency\": 2, \"value\": 5349}, \"5350\": {\"frequency\": 10, \"value\": 5350}, \"5354\": {\"frequency\": 2, \"value\": 5354}, \"144619\": {\"frequency\": 2, \"value\": 144619}, \"13551\": {\"frequency\": 2, \"value\": 13551}, \"13554\": {\"frequency\": 2, \"value\": 13554}, \"103672\": {\"frequency\": 3, \"value\": 103672}, \"895\": {\"frequency\": 2, \"value\": 895}, \"18645\": {\"frequency\": 2, \"value\": 18645}, \"5376\": {\"frequency\": 3, \"value\": 5376}, \"5379\": {\"frequency\": 3, \"value\": 5379}, \"13572\": {\"frequency\": 2, \"value\": 13572}, \"62726\": {\"frequency\": 2, \"value\": 62726}, \"13579\": {\"frequency\": 3, \"value\": 13579}, \"5390\": {\"frequency\": 3, \"value\": 5390}, \"5393\": {\"frequency\": 3, \"value\": 5393}, \"5395\": {\"frequency\": 4, \"value\": 5395}, \"21780\": {\"frequency\": 9, \"value\": 21780}, \"21781\": {\"frequency\": 3, \"value\": 21781}, \"13590\": {\"frequency\": 2, \"value\": 13590}, \"5400\": {\"frequency\": 54, \"value\": 5400}, \"5401\": {\"frequency\": 3, \"value\": 5401}, \"5402\": {\"frequency\": 3, \"value\": 5402}, \"5405\": {\"frequency\": 2, \"value\": 5405}, \"5408\": {\"frequency\": 2, \"value\": 5408}, \"5412\": {\"frequency\": 2, \"value\": 5412}, \"5413\": {\"frequency\": 9, \"value\": 5413}, \"5414\": {\"frequency\": 2, \"value\": 5414}, \"5416\": {\"frequency\": 2, \"value\": 5416}, \"13609\": {\"frequency\": 2, \"value\": 13609}, \"5420\": {\"frequency\": 2, \"value\": 5420}, \"5421\": {\"frequency\": 2, \"value\": 5421}, \"5423\": {\"frequency\": 2, \"value\": 5423}, \"5428\": {\"frequency\": 2, \"value\": 5428}, \"5434\": {\"frequency\": 2, \"value\": 5434}, \"13630\": {\"frequency\": 2, \"value\": 13630}, \"5440\": {\"frequency\": 5, \"value\": 5440}, \"10464\": {\"frequency\": 3, \"value\": 10464}, \"5445\": {\"frequency\": 3, \"value\": 5445}, \"5450\": {\"frequency\": 5, \"value\": 5450}, \"5453\": {\"frequency\": 3, \"value\": 5453}, \"5455\": {\"frequency\": 2, \"value\": 5455}, \"60984\": {\"frequency\": 4, \"value\": 60984}, \"13650\": {\"frequency\": 2, \"value\": 13650}, \"5460\": {\"frequency\": 6, \"value\": 5460}, \"13457\": {\"frequency\": 2, \"value\": 13457}, \"5472\": {\"frequency\": 3, \"value\": 5472}, \"13200\": {\"frequency\": 5, \"value\": 13200}, \"5478\": {\"frequency\": 2, \"value\": 5478}, \"5488\": {\"frequency\": 3, \"value\": 5488}, \"5490\": {\"frequency\": 4, \"value\": 5490}, \"40510\": {\"frequency\": 2, \"value\": 40510}, \"21883\": {\"frequency\": 2, \"value\": 21883}, \"5500\": {\"frequency\": 73, \"value\": 5500}, \"5502\": {\"frequency\": 2, \"value\": 5502}, \"13695\": {\"frequency\": 2, \"value\": 13695}, \"13700\": {\"frequency\": 4, \"value\": 13700}, \"5510\": {\"frequency\": 4, \"value\": 5510}, \"5511\": {\"frequency\": 4, \"value\": 5511}, \"5512\": {\"frequency\": 3, \"value\": 5512}, \"5520\": {\"frequency\": 7, \"value\": 5520}, \"9112\": {\"frequency\": 6, \"value\": 9112}, \"5525\": {\"frequency\": 7, \"value\": 5525}, \"5527\": {\"frequency\": 3, \"value\": 5527}, \"5534\": {\"frequency\": 2, \"value\": 5534}, \"5539\": {\"frequency\": 4, \"value\": 5539}, \"5544\": {\"frequency\": 3, \"value\": 5544}, \"5546\": {\"frequency\": 3, \"value\": 5546}, \"79279\": {\"frequency\": 2, \"value\": 79279}, \"5555\": {\"frequency\": 2, \"value\": 5555}, \"13750\": {\"frequency\": 2, \"value\": 13750}, \"5559\": {\"frequency\": 3, \"value\": 5559}, \"5562\": {\"frequency\": 3, \"value\": 5562}, \"4004\": {\"frequency\": 2, \"value\": 4004}, \"5564\": {\"frequency\": 2, \"value\": 5564}, \"5568\": {\"frequency\": 2, \"value\": 5568}, \"5572\": {\"frequency\": 2, \"value\": 5572}, \"5580\": {\"frequency\": 4, \"value\": 5580}, \"13775\": {\"frequency\": 4, \"value\": 13775}, \"10488\": {\"frequency\": 3, \"value\": 10488}, \"5589\": {\"frequency\": 2, \"value\": 5589}, \"5595\": {\"frequency\": 2, \"value\": 5595}, \"5600\": {\"frequency\": 27, \"value\": 5600}, \"5602\": {\"frequency\": 2, \"value\": 5602}, \"9126\": {\"frequency\": 4, \"value\": 9126}, \"13800\": {\"frequency\": 2, \"value\": 13800}, \"2300\": {\"frequency\": 3, \"value\": 2300}, \"5612\": {\"frequency\": 6, \"value\": 5612}, \"5616\": {\"frequency\": 2, \"value\": 5616}, \"5618\": {\"frequency\": 2, \"value\": 5618}, \"13816\": {\"frequency\": 2, \"value\": 13816}, \"5625\": {\"frequency\": 4, \"value\": 5625}, \"5639\": {\"frequency\": 3, \"value\": 5639}, \"5643\": {\"frequency\": 2, \"value\": 5643}, \"5647\": {\"frequency\": 2, \"value\": 5647}, \"46609\": {\"frequency\": 7, \"value\": 46609}, \"5650\": {\"frequency\": 23, \"value\": 5650}, \"9134\": {\"frequency\": 2, \"value\": 9134}, \"5664\": {\"frequency\": 4, \"value\": 5664}, \"5665\": {\"frequency\": 3, \"value\": 5665}, \"965\": {\"frequency\": 2, \"value\": 965}, \"13860\": {\"frequency\": 3, \"value\": 13860}, \"5669\": {\"frequency\": 3, \"value\": 5669}, \"5670\": {\"frequency\": 5, \"value\": 5670}, \"5674\": {\"frequency\": 2, \"value\": 5674}, \"5680\": {\"frequency\": 5, \"value\": 5680}, \"5684\": {\"frequency\": 2, \"value\": 5684}, \"5688\": {\"frequency\": 2, \"value\": 5688}, \"5692\": {\"frequency\": 2, \"value\": 5692}, \"22081\": {\"frequency\": 2, \"value\": 22081}, \"5700\": {\"frequency\": 30, \"value\": 5700}, \"5701\": {\"frequency\": 6, \"value\": 5701}, \"5702\": {\"frequency\": 2, \"value\": 5702}, \"5703\": {\"frequency\": 2, \"value\": 5703}, \"5706\": {\"frequency\": 3, \"value\": 5706}, \"9143\": {\"frequency\": 2, \"value\": 9143}, \"13900\": {\"frequency\": 2, \"value\": 13900}, \"5710\": {\"frequency\": 2, \"value\": 5710}, \"7828\": {\"frequency\": 3, \"value\": 7828}, \"5715\": {\"frequency\": 3, \"value\": 5715}, \"22100\": {\"frequency\": 3, \"value\": 22100}, \"5720\": {\"frequency\": 9, \"value\": 5720}, \"5722\": {\"frequency\": 3, \"value\": 5722}, \"5724\": {\"frequency\": 2, \"value\": 5724}, \"5733\": {\"frequency\": 2, \"value\": 5733}, \"5735\": {\"frequency\": 2, \"value\": 5735}, \"5737\": {\"frequency\": 3, \"value\": 5737}, \"5742\": {\"frequency\": 2, \"value\": 5742}, \"13939\": {\"frequency\": 4, \"value\": 13939}, \"5750\": {\"frequency\": 61, \"value\": 5750}, \"5751\": {\"frequency\": 2, \"value\": 5751}, \"5753\": {\"frequency\": 3, \"value\": 5753}, \"5756\": {\"frequency\": 4, \"value\": 5756}, \"5757\": {\"frequency\": 3, \"value\": 5757}, \"5758\": {\"frequency\": 3, \"value\": 5758}, \"5759\": {\"frequency\": 2, \"value\": 5759}, \"5760\": {\"frequency\": 13, \"value\": 5760}, \"5764\": {\"frequency\": 2, \"value\": 5764}, \"5765\": {\"frequency\": 2, \"value\": 5765}, \"13959\": {\"frequency\": 2, \"value\": 13959}, \"5773\": {\"frequency\": 2, \"value\": 5773}, \"5775\": {\"frequency\": 2, \"value\": 5775}, \"13252\": {\"frequency\": 3, \"value\": 13252}, \"5790\": {\"frequency\": 2, \"value\": 5790}, \"9157\": {\"frequency\": 2, \"value\": 9157}, \"5795\": {\"frequency\": 2, \"value\": 5795}, \"5797\": {\"frequency\": 3, \"value\": 5797}, \"5799\": {\"frequency\": 2, \"value\": 5799}, \"5800\": {\"frequency\": 19, \"value\": 5800}, \"5802\": {\"frequency\": 2, \"value\": 5802}, \"5803\": {\"frequency\": 2, \"value\": 5803}, \"5805\": {\"frequency\": 3, \"value\": 5805}, \"14000\": {\"frequency\": 11, \"value\": 14000}, \"5809\": {\"frequency\": 2, \"value\": 5809}, \"5820\": {\"frequency\": 4, \"value\": 5820}, \"5821\": {\"frequency\": 2, \"value\": 5821}, \"5823\": {\"frequency\": 2, \"value\": 5823}, \"5824\": {\"frequency\": 3, \"value\": 5824}, \"5827\": {\"frequency\": 2, \"value\": 5827}, \"14021\": {\"frequency\": 2, \"value\": 14021}, \"5831\": {\"frequency\": 3, \"value\": 5831}, \"5835\": {\"frequency\": 2, \"value\": 5835}, \"5845\": {\"frequency\": 2, \"value\": 5845}, \"14040\": {\"frequency\": 4, \"value\": 14040}, \"5850\": {\"frequency\": 12, \"value\": 5850}, \"5854\": {\"frequency\": 2, \"value\": 5854}, \"5857\": {\"frequency\": 3, \"value\": 5857}, \"5858\": {\"frequency\": 2, \"value\": 5858}, \"5864\": {\"frequency\": 2, \"value\": 5864}, \"11900\": {\"frequency\": 13, \"value\": 11900}, \"5866\": {\"frequency\": 3, \"value\": 5866}, \"5868\": {\"frequency\": 3, \"value\": 5868}, \"5875\": {\"frequency\": 2, \"value\": 5875}, \"5876\": {\"frequency\": 2, \"value\": 5876}, \"14071\": {\"frequency\": 2, \"value\": 14071}, \"5880\": {\"frequency\": 9, \"value\": 5880}, \"5889\": {\"frequency\": 2, \"value\": 5889}, \"5899\": {\"frequency\": 3, \"value\": 5899}, \"5900\": {\"frequency\": 8, \"value\": 5900}, \"9471\": {\"frequency\": 2, \"value\": 9471}, \"14100\": {\"frequency\": 2, \"value\": 14100}, \"5909\": {\"frequency\": 3, \"value\": 5909}, \"5913\": {\"frequency\": 2, \"value\": 5913}, \"14110\": {\"frequency\": 2, \"value\": 14110}, \"5920\": {\"frequency\": 2, \"value\": 5920}, \"5922\": {\"frequency\": 3, \"value\": 5922}, \"15450\": {\"frequency\": 3, \"value\": 15450}, \"5929\": {\"frequency\": 4, \"value\": 5929}, \"5934\": {\"frequency\": 3, \"value\": 5934}, \"5936\": {\"frequency\": 2, \"value\": 5936}, \"5940\": {\"frequency\": 7, \"value\": 5940}, \"22326\": {\"frequency\": 2, \"value\": 22326}, \"2356\": {\"frequency\": 3, \"value\": 2356}, \"14138\": {\"frequency\": 2, \"value\": 14138}, \"5950\": {\"frequency\": 4, \"value\": 5950}, \"5954\": {\"frequency\": 3, \"value\": 5954}, \"14149\": {\"frequency\": 2, \"value\": 14149}, \"5960\": {\"frequency\": 3, \"value\": 5960}, \"5969\": {\"frequency\": 4, \"value\": 5969}, \"5973\": {\"frequency\": 2, \"value\": 5973}, \"5974\": {\"frequency\": 4, \"value\": 5974}, \"5978\": {\"frequency\": 4, \"value\": 5978}, \"5979\": {\"frequency\": 2, \"value\": 5979}, \"5980\": {\"frequency\": 3, \"value\": 5980}, \"5988\": {\"frequency\": 2, \"value\": 5988}, \"5992\": {\"frequency\": 3, \"value\": 5992}, \"5995\": {\"frequency\": 3, \"value\": 5995}, \"5999\": {\"frequency\": 3, \"value\": 5999}, \"6000\": {\"frequency\": 290, \"value\": 6000}, \"13288\": {\"frequency\": 2, \"value\": 13288}, \"6002\": {\"frequency\": 4, \"value\": 6002}, \"14196\": {\"frequency\": 2, \"value\": 14196}, \"14197\": {\"frequency\": 2, \"value\": 14197}, \"6009\": {\"frequency\": 2, \"value\": 6009}, \"6010\": {\"frequency\": 4, \"value\": 6010}, \"6014\": {\"frequency\": 3, \"value\": 6014}, \"6015\": {\"frequency\": 2, \"value\": 6015}, \"6017\": {\"frequency\": 3, \"value\": 6017}, \"6018\": {\"frequency\": 2, \"value\": 6018}, \"14212\": {\"frequency\": 2, \"value\": 14212}, \"6021\": {\"frequency\": 2, \"value\": 6021}, \"6023\": {\"frequency\": 2, \"value\": 6023}, \"13292\": {\"frequency\": 2, \"value\": 13292}, \"6030\": {\"frequency\": 4, \"value\": 6030}, \"6031\": {\"frequency\": 5, \"value\": 6031}, \"6032\": {\"frequency\": 2, \"value\": 6032}, \"6034\": {\"frequency\": 4, \"value\": 6034}, \"6037\": {\"frequency\": 4, \"value\": 6037}, \"52889\": {\"frequency\": 2, \"value\": 52889}, \"6041\": {\"frequency\": 2, \"value\": 6041}, \"6042\": {\"frequency\": 2, \"value\": 6042}, \"6045\": {\"frequency\": 2, \"value\": 6045}, \"11658\": {\"frequency\": 2, \"value\": 11658}, \"6049\": {\"frequency\": 2, \"value\": 6049}, \"6050\": {\"frequency\": 14, \"value\": 6050}, \"6052\": {\"frequency\": 2, \"value\": 6052}, \"14250\": {\"frequency\": 6, \"value\": 14250}, \"6060\": {\"frequency\": 6, \"value\": 6060}, \"87991\": {\"frequency\": 2, \"value\": 87991}, \"5108\": {\"frequency\": 2, \"value\": 5108}, \"6075\": {\"frequency\": 3, \"value\": 6075}, \"6082\": {\"frequency\": 2, \"value\": 6082}, \"6083\": {\"frequency\": 2, \"value\": 6083}, \"47044\": {\"frequency\": 8, \"value\": 47044}, \"6090\": {\"frequency\": 4, \"value\": 6090}, \"6092\": {\"frequency\": 3, \"value\": 6092}, \"6093\": {\"frequency\": 2, \"value\": 6093}, \"6095\": {\"frequency\": 3, \"value\": 6095}, \"6098\": {\"frequency\": 3, \"value\": 6098}, \"6099\": {\"frequency\": 5, \"value\": 6099}, \"6100\": {\"frequency\": 5, \"value\": 6100}, \"35150\": {\"frequency\": 2, \"value\": 35150}, \"6105\": {\"frequency\": 2, \"value\": 6105}, \"6110\": {\"frequency\": 4, \"value\": 6110}, \"219106\": {\"frequency\": 2, \"value\": 219106}, \"22500\": {\"frequency\": 2, \"value\": 22500}, \"6117\": {\"frequency\": 3, \"value\": 6117}, \"6120\": {\"frequency\": 39, \"value\": 6120}, \"6122\": {\"frequency\": 2, \"value\": 6122}, \"6124\": {\"frequency\": 2, \"value\": 6124}, \"6125\": {\"frequency\": 3, \"value\": 6125}, \"6127\": {\"frequency\": 2, \"value\": 6127}, \"6130\": {\"frequency\": 2, \"value\": 6130}, \"6132\": {\"frequency\": 3, \"value\": 6132}, \"6134\": {\"frequency\": 4, \"value\": 6134}, \"6137\": {\"frequency\": 3, \"value\": 6137}, \"6139\": {\"frequency\": 2, \"value\": 6139}, \"6141\": {\"frequency\": 2, \"value\": 6141}, \"6143\": {\"frequency\": 2, \"value\": 6143}, \"6145\": {\"frequency\": 3, \"value\": 6145}, \"6150\": {\"frequency\": 13, \"value\": 6150}, \"14350\": {\"frequency\": 2, \"value\": 14350}, \"6160\": {\"frequency\": 4, \"value\": 6160}, \"55321\": {\"frequency\": 3, \"value\": 55321}, \"6174\": {\"frequency\": 3, \"value\": 6174}, \"6175\": {\"frequency\": 4, \"value\": 6175}, \"6180\": {\"frequency\": 19, \"value\": 6180}, \"14374\": {\"frequency\": 2, \"value\": 14374}, \"6183\": {\"frequency\": 2, \"value\": 6183}, \"6186\": {\"frequency\": 2, \"value\": 6186}, \"6187\": {\"frequency\": 3, \"value\": 6187}, \"6194\": {\"frequency\": 2, \"value\": 6194}, \"6195\": {\"frequency\": 2, \"value\": 6195}, \"1033\": {\"frequency\": 2, \"value\": 1033}, \"6200\": {\"frequency\": 22, \"value\": 6200}, \"6202\": {\"frequency\": 3, \"value\": 6202}, \"1034\": {\"frequency\": 3, \"value\": 1034}, \"14400\": {\"frequency\": 11, \"value\": 14400}, \"6218\": {\"frequency\": 2, \"value\": 6218}, \"6222\": {\"frequency\": 3, \"value\": 6222}, \"6223\": {\"frequency\": 2, \"value\": 6223}, \"6224\": {\"frequency\": 3, \"value\": 6224}, \"6232\": {\"frequency\": 4, \"value\": 6232}, \"6236\": {\"frequency\": 2, \"value\": 6236}, \"6240\": {\"frequency\": 16, \"value\": 6240}, \"35124\": {\"frequency\": 2, \"value\": 35124}, \"6250\": {\"frequency\": 50, \"value\": 6250}, \"63597\": {\"frequency\": 2, \"value\": 63597}, \"6258\": {\"frequency\": 2, \"value\": 6258}, \"6260\": {\"frequency\": 3, \"value\": 6260}, \"6263\": {\"frequency\": 3, \"value\": 6263}, \"22651\": {\"frequency\": 2, \"value\": 22651}, \"6270\": {\"frequency\": 2, \"value\": 6270}, \"6272\": {\"frequency\": 2, \"value\": 6272}, \"6278\": {\"frequency\": 3, \"value\": 6278}, \"6280\": {\"frequency\": 2, \"value\": 6280}, \"6282\": {\"frequency\": 2, \"value\": 6282}, \"6288\": {\"frequency\": 2, \"value\": 6288}, \"6294\": {\"frequency\": 2, \"value\": 6294}, \"6295\": {\"frequency\": 2, \"value\": 6295}, \"6298\": {\"frequency\": 2, \"value\": 6298}, \"6300\": {\"frequency\": 32, \"value\": 6300}, \"6305\": {\"frequency\": 2, \"value\": 6305}, \"6315\": {\"frequency\": 5, \"value\": 6315}, \"6318\": {\"frequency\": 2, \"value\": 6318}, \"22703\": {\"frequency\": 2, \"value\": 22703}, \"6320\": {\"frequency\": 5, \"value\": 6320}, \"6322\": {\"frequency\": 2, \"value\": 6322}, \"6324\": {\"frequency\": 3, \"value\": 6324}, \"6325\": {\"frequency\": 3, \"value\": 6325}, \"6332\": {\"frequency\": 2, \"value\": 6332}, \"6334\": {\"frequency\": 2, \"value\": 6334}, \"6337\": {\"frequency\": 2, \"value\": 6337}, \"6345\": {\"frequency\": 3, \"value\": 6345}, \"9250\": {\"frequency\": 4, \"value\": 9250}, \"6350\": {\"frequency\": 17, \"value\": 6350}, \"6355\": {\"frequency\": 2, \"value\": 6355}, \"6360\": {\"frequency\": 20, \"value\": 6360}, \"6366\": {\"frequency\": 2, \"value\": 6366}, \"6369\": {\"frequency\": 2, \"value\": 6369}, \"6370\": {\"frequency\": 2, \"value\": 6370}, \"6371\": {\"frequency\": 4, \"value\": 6371}, \"14565\": {\"frequency\": 2, \"value\": 14565}, \"6375\": {\"frequency\": 7, \"value\": 6375}, \"6380\": {\"frequency\": 31, \"value\": 6380}, \"6383\": {\"frequency\": 2, \"value\": 6383}, \"6384\": {\"frequency\": 2, \"value\": 6384}, \"6386\": {\"frequency\": 2, \"value\": 6386}, \"6389\": {\"frequency\": 2, \"value\": 6389}, \"6390\": {\"frequency\": 2, \"value\": 6390}, \"6394\": {\"frequency\": 2, \"value\": 6394}, \"10623\": {\"frequency\": 2, \"value\": 10623}, \"6396\": {\"frequency\": 3, \"value\": 6396}, \"6398\": {\"frequency\": 2, \"value\": 6398}, \"6400\": {\"frequency\": 23, \"value\": 6400}, \"6405\": {\"frequency\": 4, \"value\": 6405}, \"14600\": {\"frequency\": 3, \"value\": 14600}, \"6413\": {\"frequency\": 4, \"value\": 6413}, \"6417\": {\"frequency\": 2, \"value\": 6417}, \"6420\": {\"frequency\": 7, \"value\": 6420}, \"6426\": {\"frequency\": 3, \"value\": 6426}, \"6435\": {\"frequency\": 3, \"value\": 6435}, \"14630\": {\"frequency\": 2, \"value\": 14630}, \"6439\": {\"frequency\": 2, \"value\": 6439}, \"6440\": {\"frequency\": 5, \"value\": 6440}, \"14633\": {\"frequency\": 2, \"value\": 14633}, \"13362\": {\"frequency\": 2, \"value\": 13362}, \"6448\": {\"frequency\": 2, \"value\": 6448}, \"6450\": {\"frequency\": 10, \"value\": 6450}, \"6452\": {\"frequency\": 2, \"value\": 6452}, \"8008\": {\"frequency\": 2, \"value\": 8008}, \"6460\": {\"frequency\": 4, \"value\": 6460}, \"10308\": {\"frequency\": 2, \"value\": 10308}, \"77536\": {\"frequency\": 2, \"value\": 77536}, \"6474\": {\"frequency\": 3, \"value\": 6474}, \"5175\": {\"frequency\": 8, \"value\": 5175}, \"6479\": {\"frequency\": 2, \"value\": 6479}, \"6480\": {\"frequency\": 15, \"value\": 6480}, \"6481\": {\"frequency\": 2, \"value\": 6481}, \"6490\": {\"frequency\": 2, \"value\": 6490}, \"21562\": {\"frequency\": 2, \"value\": 21562}, \"6495\": {\"frequency\": 2, \"value\": 6495}, \"6497\": {\"frequency\": 2, \"value\": 6497}, \"6500\": {\"frequency\": 40, \"value\": 6500}, \"6504\": {\"frequency\": 3, \"value\": 6504}, \"88426\": {\"frequency\": 3, \"value\": 88426}, \"6507\": {\"frequency\": 2, \"value\": 6507}, \"6508\": {\"frequency\": 2, \"value\": 6508}, \"6509\": {\"frequency\": 2, \"value\": 6509}, \"6510\": {\"frequency\": 2, \"value\": 6510}, \"6515\": {\"frequency\": 2, \"value\": 6515}, \"6516\": {\"frequency\": 3, \"value\": 6516}, \"47480\": {\"frequency\": 9, \"value\": 47480}, \"6527\": {\"frequency\": 3, \"value\": 6527}, \"6530\": {\"frequency\": 3, \"value\": 6530}, \"6533\": {\"frequency\": 2, \"value\": 6533}, \"6534\": {\"frequency\": 3, \"value\": 6534}, \"5185\": {\"frequency\": 4, \"value\": 5185}, \"6536\": {\"frequency\": 3, \"value\": 6536}, \"6537\": {\"frequency\": 2, \"value\": 6537}, \"6540\": {\"frequency\": 4, \"value\": 6540}, \"6549\": {\"frequency\": 2, \"value\": 6549}, \"6550\": {\"frequency\": 9, \"value\": 6550}, \"6552\": {\"frequency\": 5, \"value\": 6552}, \"6553\": {\"frequency\": 2, \"value\": 6553}, \"6554\": {\"frequency\": 3, \"value\": 6554}, \"6556\": {\"frequency\": 2, \"value\": 6556}, \"4408\": {\"frequency\": 4, \"value\": 4408}, \"6561\": {\"frequency\": 2, \"value\": 6561}, \"6566\": {\"frequency\": 2, \"value\": 6566}, \"6567\": {\"frequency\": 2, \"value\": 6567}, \"6572\": {\"frequency\": 2, \"value\": 6572}, \"6583\": {\"frequency\": 2, \"value\": 6583}, \"6587\": {\"frequency\": 2, \"value\": 6587}, \"6590\": {\"frequency\": 2, \"value\": 6590}, \"6600\": {\"frequency\": 52, \"value\": 6600}, \"1100\": {\"frequency\": 2, \"value\": 1100}, \"6603\": {\"frequency\": 2, \"value\": 6603}, \"6604\": {\"frequency\": 4, \"value\": 6604}, \"6605\": {\"frequency\": 2, \"value\": 6605}, \"6607\": {\"frequency\": 2, \"value\": 6607}, \"14800\": {\"frequency\": 3, \"value\": 14800}, \"6615\": {\"frequency\": 2, \"value\": 6615}, \"23000\": {\"frequency\": 2, \"value\": 23000}, \"14810\": {\"frequency\": 5, \"value\": 14810}, \"6620\": {\"frequency\": 3, \"value\": 6620}, \"6621\": {\"frequency\": 2, \"value\": 6621}, \"13392\": {\"frequency\": 2, \"value\": 13392}, \"6630\": {\"frequency\": 3, \"value\": 6630}, \"6634\": {\"frequency\": 4, \"value\": 6634}, \"6635\": {\"frequency\": 2, \"value\": 6635}, \"6642\": {\"frequency\": 2, \"value\": 6642}, \"6650\": {\"frequency\": 10, \"value\": 6650}, \"6651\": {\"frequency\": 2, \"value\": 6651}, \"6653\": {\"frequency\": 3, \"value\": 6653}, \"6654\": {\"frequency\": 4, \"value\": 6654}, \"6655\": {\"frequency\": 3, \"value\": 6655}, \"12032\": {\"frequency\": 2, \"value\": 12032}, \"14850\": {\"frequency\": 5, \"value\": 14850}, \"6660\": {\"frequency\": 5, \"value\": 6660}, \"6663\": {\"frequency\": 2, \"value\": 6663}, \"6666\": {\"frequency\": 3, \"value\": 6666}, \"6667\": {\"frequency\": 2, \"value\": 6667}, \"6675\": {\"frequency\": 4, \"value\": 6675}, \"6677\": {\"frequency\": 2, \"value\": 6677}, \"6678\": {\"frequency\": 3, \"value\": 6678}, \"13402\": {\"frequency\": 2, \"value\": 13402}, \"6687\": {\"frequency\": 3, \"value\": 6687}, \"6688\": {\"frequency\": 2, \"value\": 6688}, \"6695\": {\"frequency\": 3, \"value\": 6695}, \"6698\": {\"frequency\": 2, \"value\": 6698}, \"6699\": {\"frequency\": 2, \"value\": 6699}, \"6700\": {\"frequency\": 8, \"value\": 6700}, \"1587\": {\"frequency\": 3, \"value\": 1587}, \"1118\": {\"frequency\": 2, \"value\": 1118}, \"6710\": {\"frequency\": 6, \"value\": 6710}, \"23100\": {\"frequency\": 2, \"value\": 23100}, \"12042\": {\"frequency\": 3, \"value\": 12042}, \"6720\": {\"frequency\": 16, \"value\": 6720}, \"1120\": {\"frequency\": 3, \"value\": 1120}, \"7316\": {\"frequency\": 3, \"value\": 7316}, \"6725\": {\"frequency\": 2, \"value\": 6725}, \"6731\": {\"frequency\": 6, \"value\": 6731}, \"6732\": {\"frequency\": 2, \"value\": 6732}, \"6733\": {\"frequency\": 2, \"value\": 6733}, \"6743\": {\"frequency\": 2, \"value\": 6743}, \"12047\": {\"frequency\": 2, \"value\": 12047}, \"6750\": {\"frequency\": 26, \"value\": 6750}, \"6752\": {\"frequency\": 3, \"value\": 6752}, \"6755\": {\"frequency\": 3, \"value\": 6755}, \"6760\": {\"frequency\": 4, \"value\": 6760}, \"6765\": {\"frequency\": 4, \"value\": 6765}, \"6766\": {\"frequency\": 3, \"value\": 6766}, \"6768\": {\"frequency\": 2, \"value\": 6768}, \"6770\": {\"frequency\": 3, \"value\": 6770}, \"6771\": {\"frequency\": 5, \"value\": 6771}, \"6773\": {\"frequency\": 3, \"value\": 6773}, \"6774\": {\"frequency\": 2, \"value\": 6774}, \"6775\": {\"frequency\": 5, \"value\": 6775}, \"6776\": {\"frequency\": 3, \"value\": 6776}, \"6780\": {\"frequency\": 3, \"value\": 6780}, \"6783\": {\"frequency\": 3, \"value\": 6783}, \"1131\": {\"frequency\": 4, \"value\": 1131}, \"6788\": {\"frequency\": 3, \"value\": 6788}, \"11410\": {\"frequency\": 2, \"value\": 11410}, \"14985\": {\"frequency\": 2, \"value\": 14985}, \"14986\": {\"frequency\": 2, \"value\": 14986}, \"6800\": {\"frequency\": 16, \"value\": 6800}, \"6804\": {\"frequency\": 2, \"value\": 6804}, \"6807\": {\"frequency\": 3, \"value\": 6807}, \"15000\": {\"frequency\": 28, \"value\": 15000}, \"15002\": {\"frequency\": 2, \"value\": 15002}, \"15003\": {\"frequency\": 2, \"value\": 15003}, \"203425\": {\"frequency\": 2, \"value\": 203425}, \"6818\": {\"frequency\": 2, \"value\": 6818}, \"20251\": {\"frequency\": 2, \"value\": 20251}, \"6820\": {\"frequency\": 6, \"value\": 6820}, \"2502\": {\"frequency\": 2, \"value\": 2502}, \"6825\": {\"frequency\": 7, \"value\": 6825}, \"6826\": {\"frequency\": 2, \"value\": 6826}, \"6828\": {\"frequency\": 2, \"value\": 6828}, \"15022\": {\"frequency\": 4, \"value\": 15022}, \"6833\": {\"frequency\": 2, \"value\": 6833}, \"15029\": {\"frequency\": 2, \"value\": 15029}, \"6838\": {\"frequency\": 2, \"value\": 6838}, \"6840\": {\"frequency\": 11, \"value\": 6840}, \"6847\": {\"frequency\": 2, \"value\": 6847}, \"6850\": {\"frequency\": 2, \"value\": 6850}, \"5238\": {\"frequency\": 3, \"value\": 5238}, \"6856\": {\"frequency\": 2, \"value\": 6856}, \"55756\": {\"frequency\": 2, \"value\": 55756}, \"15050\": {\"frequency\": 2, \"value\": 15050}, \"6862\": {\"frequency\": 2, \"value\": 6862}, \"6865\": {\"frequency\": 2, \"value\": 6865}, \"6867\": {\"frequency\": 3, \"value\": 6867}, \"6871\": {\"frequency\": 2, \"value\": 6871}, \"6872\": {\"frequency\": 2, \"value\": 6872}, \"6874\": {\"frequency\": 4, \"value\": 6874}, \"6875\": {\"frequency\": 6, \"value\": 6875}, \"5283\": {\"frequency\": 2, \"value\": 5283}, \"6887\": {\"frequency\": 2, \"value\": 6887}, \"6890\": {\"frequency\": 2, \"value\": 6890}, \"15084\": {\"frequency\": 2, \"value\": 15084}, \"6893\": {\"frequency\": 2, \"value\": 6893}, \"6900\": {\"frequency\": 18, \"value\": 6900}, \"6903\": {\"frequency\": 2, \"value\": 6903}, \"6906\": {\"frequency\": 4, \"value\": 6906}, \"6908\": {\"frequency\": 3, \"value\": 6908}, \"6909\": {\"frequency\": 2, \"value\": 6909}, \"6911\": {\"frequency\": 2, \"value\": 6911}, \"6923\": {\"frequency\": 2, \"value\": 6923}, \"6924\": {\"frequency\": 2, \"value\": 6924}, \"15120\": {\"frequency\": 4, \"value\": 15120}, \"6930\": {\"frequency\": 9, \"value\": 6930}, \"5252\": {\"frequency\": 1, \"value\": 5252}, \"6947\": {\"frequency\": 4, \"value\": 6947}, \"15143\": {\"frequency\": 2, \"value\": 15143}, \"47916\": {\"frequency\": 4, \"value\": 47916}, \"15151\": {\"frequency\": 2, \"value\": 15151}, \"6960\": {\"frequency\": 5, \"value\": 6960}, \"6967\": {\"frequency\": 3, \"value\": 6967}, \"6969\": {\"frequency\": 5, \"value\": 6969}, \"6970\": {\"frequency\": 2, \"value\": 6970}, \"5258\": {\"frequency\": 2, \"value\": 5258}, \"6975\": {\"frequency\": 4, \"value\": 6975}, \"6980\": {\"frequency\": 2, \"value\": 6980}, \"6625\": {\"frequency\": 6, \"value\": 6625}, \"6984\": {\"frequency\": 2, \"value\": 6984}, \"6985\": {\"frequency\": 3, \"value\": 6985}, \"219978\": {\"frequency\": 4, \"value\": 219978}, \"6988\": {\"frequency\": 3, \"value\": 6988}, \"6994\": {\"frequency\": 2, \"value\": 6994}, \"15188\": {\"frequency\": 2, \"value\": 15188}, \"7000\": {\"frequency\": 76, \"value\": 7000}, \"7004\": {\"frequency\": 3, \"value\": 7004}, \"7007\": {\"frequency\": 3, \"value\": 7007}, \"15200\": {\"frequency\": 3, \"value\": 15200}, \"13054\": {\"frequency\": 2, \"value\": 13054}, \"12091\": {\"frequency\": 2, \"value\": 12091}, \"7014\": {\"frequency\": 3, \"value\": 7014}, \"7015\": {\"frequency\": 4, \"value\": 7015}, \"23400\": {\"frequency\": 3, \"value\": 23400}, \"12092\": {\"frequency\": 4, \"value\": 12092}, \"15210\": {\"frequency\": 3, \"value\": 15210}, \"7020\": {\"frequency\": 12, \"value\": 7020}, \"13600\": {\"frequency\": 3, \"value\": 13600}, \"97138\": {\"frequency\": 2, \"value\": 97138}, \"7029\": {\"frequency\": 2, \"value\": 7029}, \"7030\": {\"frequency\": 5, \"value\": 7030}, \"7034\": {\"frequency\": 2, \"value\": 7034}, \"7040\": {\"frequency\": 4, \"value\": 7040}, \"7047\": {\"frequency\": 2, \"value\": 7047}, \"7048\": {\"frequency\": 2, \"value\": 7048}, \"7050\": {\"frequency\": 3, \"value\": 7050}, \"7054\": {\"frequency\": 2, \"value\": 7054}, \"7056\": {\"frequency\": 4, \"value\": 7056}, \"15250\": {\"frequency\": 2, \"value\": 15250}, \"7062\": {\"frequency\": 3, \"value\": 7062}, \"7064\": {\"frequency\": 2, \"value\": 7064}, \"15258\": {\"frequency\": 2, \"value\": 15258}, \"7068\": {\"frequency\": 2, \"value\": 7068}, \"7069\": {\"frequency\": 2, \"value\": 7069}, \"7070\": {\"frequency\": 2, \"value\": 7070}, \"7071\": {\"frequency\": 2, \"value\": 7071}, \"15264\": {\"frequency\": 2, \"value\": 15264}, \"7076\": {\"frequency\": 3, \"value\": 7076}, \"7080\": {\"frequency\": 7, \"value\": 7080}, \"7081\": {\"frequency\": 4, \"value\": 7081}, \"7084\": {\"frequency\": 2, \"value\": 7084}, \"7085\": {\"frequency\": 3, \"value\": 7085}, \"7089\": {\"frequency\": 2, \"value\": 7089}, \"7091\": {\"frequency\": 2, \"value\": 7091}, \"9374\": {\"frequency\": 4, \"value\": 9374}, \"7095\": {\"frequency\": 3, \"value\": 7095}, \"7098\": {\"frequency\": 2, \"value\": 7098}, \"7100\": {\"frequency\": 6, \"value\": 7100}, \"7102\": {\"frequency\": 6, \"value\": 7102}, \"7104\": {\"frequency\": 3, \"value\": 7104}, \"7107\": {\"frequency\": 2, \"value\": 7107}, \"7108\": {\"frequency\": 2, \"value\": 7108}, \"7110\": {\"frequency\": 7, \"value\": 7110}, \"7111\": {\"frequency\": 3, \"value\": 7111}, \"7112\": {\"frequency\": 3, \"value\": 7112}, \"7119\": {\"frequency\": 2, \"value\": 7119}, \"7120\": {\"frequency\": 5, \"value\": 7120}, \"7123\": {\"frequency\": 2, \"value\": 7123}, \"7125\": {\"frequency\": 9, \"value\": 7125}, \"7128\": {\"frequency\": 6, \"value\": 7128}, \"7129\": {\"frequency\": 2, \"value\": 7129}, \"7134\": {\"frequency\": 3, \"value\": 7134}, \"7136\": {\"frequency\": 2, \"value\": 7136}, \"7137\": {\"frequency\": 2, \"value\": 7137}, \"23522\": {\"frequency\": 4, \"value\": 23522}, \"7140\": {\"frequency\": 19, \"value\": 7140}, \"10866\": {\"frequency\": 2, \"value\": 10866}, \"213008\": {\"frequency\": 6, \"value\": 213008}, \"7145\": {\"frequency\": 2, \"value\": 7145}, \"7149\": {\"frequency\": 2, \"value\": 7149}, \"7150\": {\"frequency\": 9, \"value\": 7150}, \"7153\": {\"frequency\": 3, \"value\": 7153}, \"7155\": {\"frequency\": 3, \"value\": 7155}, \"7156\": {\"frequency\": 2, \"value\": 7156}, \"7157\": {\"frequency\": 2, \"value\": 7157}, \"7161\": {\"frequency\": 2, \"value\": 7161}, \"7163\": {\"frequency\": 3, \"value\": 7163}, \"15360\": {\"frequency\": 2, \"value\": 15360}, \"10752\": {\"frequency\": 2, \"value\": 10752}, \"7171\": {\"frequency\": 3, \"value\": 7171}, \"7172\": {\"frequency\": 2, \"value\": 7172}, \"7173\": {\"frequency\": 3, \"value\": 7173}, \"7175\": {\"frequency\": 2, \"value\": 7175}, \"7178\": {\"frequency\": 2, \"value\": 7178}, \"32700\": {\"frequency\": 3, \"value\": 32700}, \"6658\": {\"frequency\": 2, \"value\": 6658}, \"15375\": {\"frequency\": 4, \"value\": 15375}, \"7184\": {\"frequency\": 4, \"value\": 7184}, \"435600\": {\"frequency\": 6, \"value\": 435600}, \"7187\": {\"frequency\": 7, \"value\": 7187}, \"7191\": {\"frequency\": 3, \"value\": 7191}, \"7194\": {\"frequency\": 7, \"value\": 7194}, \"7198\": {\"frequency\": 4, \"value\": 7198}, \"7199\": {\"frequency\": 7, \"value\": 7199}, \"7200\": {\"frequency\": 220, \"value\": 7200}, \"7201\": {\"frequency\": 8, \"value\": 7201}, \"7202\": {\"frequency\": 6, \"value\": 7202}, \"7203\": {\"frequency\": 7, \"value\": 7203}, \"7204\": {\"frequency\": 4, \"value\": 7204}, \"7205\": {\"frequency\": 6, \"value\": 7205}, \"7207\": {\"frequency\": 5, \"value\": 7207}, \"7208\": {\"frequency\": 8, \"value\": 7208}, \"7209\": {\"frequency\": 4, \"value\": 7209}, \"7210\": {\"frequency\": 38, \"value\": 7210}, \"7213\": {\"frequency\": 2, \"value\": 7213}, \"7214\": {\"frequency\": 3, \"value\": 7214}, \"7215\": {\"frequency\": 5, \"value\": 7215}, \"7216\": {\"frequency\": 5, \"value\": 7216}, \"15411\": {\"frequency\": 2, \"value\": 15411}, \"7220\": {\"frequency\": 5, \"value\": 7220}, \"7221\": {\"frequency\": 4, \"value\": 7221}, \"7222\": {\"frequency\": 2, \"value\": 7222}, \"7223\": {\"frequency\": 2, \"value\": 7223}, \"7224\": {\"frequency\": 2, \"value\": 7224}, \"7225\": {\"frequency\": 7, \"value\": 7225}, \"7226\": {\"frequency\": 3, \"value\": 7226}, \"7228\": {\"frequency\": 2, \"value\": 7228}, \"7229\": {\"frequency\": 3, \"value\": 7229}, \"7230\": {\"frequency\": 5, \"value\": 7230}, \"7231\": {\"frequency\": 3, \"value\": 7231}, \"7232\": {\"frequency\": 7, \"value\": 7232}, \"7236\": {\"frequency\": 5, \"value\": 7236}, \"7238\": {\"frequency\": 2, \"value\": 7238}, \"7242\": {\"frequency\": 7, \"value\": 7242}, \"7245\": {\"frequency\": 17, \"value\": 7245}, \"7246\": {\"frequency\": 2, \"value\": 7246}, \"7247\": {\"frequency\": 2, \"value\": 7247}, \"7250\": {\"frequency\": 14, \"value\": 7250}, \"7251\": {\"frequency\": 4, \"value\": 7251}, \"7252\": {\"frequency\": 3, \"value\": 7252}, \"7254\": {\"frequency\": 3, \"value\": 7254}, \"7258\": {\"frequency\": 3, \"value\": 7258}, \"7260\": {\"frequency\": 17, \"value\": 7260}, \"7261\": {\"frequency\": 2, \"value\": 7261}, \"7264\": {\"frequency\": 4, \"value\": 7264}, \"7265\": {\"frequency\": 2, \"value\": 7265}, \"7266\": {\"frequency\": 3, \"value\": 7266}, \"7267\": {\"frequency\": 2, \"value\": 7267}, \"7268\": {\"frequency\": 3, \"value\": 7268}, \"7270\": {\"frequency\": 2, \"value\": 7270}, \"7272\": {\"frequency\": 2, \"value\": 7272}, \"7275\": {\"frequency\": 6, \"value\": 7275}, \"7276\": {\"frequency\": 5, \"value\": 7276}, \"7277\": {\"frequency\": 3, \"value\": 7277}, \"7280\": {\"frequency\": 17, \"value\": 7280}, \"7282\": {\"frequency\": 3, \"value\": 7282}, \"7287\": {\"frequency\": 2, \"value\": 7287}, \"15480\": {\"frequency\": 2, \"value\": 15480}, \"7290\": {\"frequency\": 5, \"value\": 7290}, \"7291\": {\"frequency\": 2, \"value\": 7291}, \"81021\": {\"frequency\": 4, \"value\": 81021}, \"87120\": {\"frequency\": 3, \"value\": 87120}, \"7296\": {\"frequency\": 2, \"value\": 7296}, \"7297\": {\"frequency\": 2, \"value\": 7297}, \"7300\": {\"frequency\": 17, \"value\": 7300}, \"7303\": {\"frequency\": 3, \"value\": 7303}, \"7304\": {\"frequency\": 2, \"value\": 7304}, \"7306\": {\"frequency\": 2, \"value\": 7306}, \"7307\": {\"frequency\": 2, \"value\": 7307}, \"7308\": {\"frequency\": 2, \"value\": 7308}, \"7311\": {\"frequency\": 2, \"value\": 7311}, \"7312\": {\"frequency\": 4, \"value\": 7312}, \"7313\": {\"frequency\": 5, \"value\": 7313}, \"7314\": {\"frequency\": 9, \"value\": 7314}, \"7315\": {\"frequency\": 2, \"value\": 7315}, \"15508\": {\"frequency\": 2, \"value\": 15508}, \"7320\": {\"frequency\": 11, \"value\": 7320}, \"7324\": {\"frequency\": 3, \"value\": 7324}, \"7326\": {\"frequency\": 2, \"value\": 7326}, \"7330\": {\"frequency\": 2, \"value\": 7330}, \"1222\": {\"frequency\": 3, \"value\": 1222}, \"7334\": {\"frequency\": 4, \"value\": 7334}, \"8049\": {\"frequency\": 4, \"value\": 8049}, \"7336\": {\"frequency\": 3, \"value\": 7336}, \"212137\": {\"frequency\": 3, \"value\": 212137}, \"7338\": {\"frequency\": 2, \"value\": 7338}, \"7341\": {\"frequency\": 2, \"value\": 7341}, \"6685\": {\"frequency\": 6, \"value\": 6685}, \"7344\": {\"frequency\": 7, \"value\": 7344}, \"7345\": {\"frequency\": 5, \"value\": 7345}, \"15540\": {\"frequency\": 3, \"value\": 15540}, \"7350\": {\"frequency\": 64, \"value\": 7350}, \"7352\": {\"frequency\": 2, \"value\": 7352}, \"7355\": {\"frequency\": 2, \"value\": 7355}, \"7360\": {\"frequency\": 2, \"value\": 7360}, \"7361\": {\"frequency\": 2, \"value\": 7361}, \"7364\": {\"frequency\": 2, \"value\": 7364}, \"7370\": {\"frequency\": 5, \"value\": 7370}, \"7372\": {\"frequency\": 3, \"value\": 7372}, \"7373\": {\"frequency\": 2, \"value\": 7373}, \"89298\": {\"frequency\": 4, \"value\": 89298}, \"7380\": {\"frequency\": 5, \"value\": 7380}, \"7384\": {\"frequency\": 5, \"value\": 7384}, \"7386\": {\"frequency\": 2, \"value\": 7386}, \"7388\": {\"frequency\": 2, \"value\": 7388}, \"7389\": {\"frequency\": 3, \"value\": 7389}, \"48351\": {\"frequency\": 5, \"value\": 48351}, \"7392\": {\"frequency\": 4, \"value\": 7392}, \"7399\": {\"frequency\": 3, \"value\": 7399}, \"7400\": {\"frequency\": 16, \"value\": 7400}, \"15593\": {\"frequency\": 2, \"value\": 15593}, \"7403\": {\"frequency\": 3, \"value\": 7403}, \"7405\": {\"frequency\": 3, \"value\": 7405}, \"7066\": {\"frequency\": 3, \"value\": 7066}, \"15600\": {\"frequency\": 10, \"value\": 15600}, \"43560\": {\"frequency\": 21, \"value\": 43560}, \"7410\": {\"frequency\": 8, \"value\": 7410}, \"7412\": {\"frequency\": 6, \"value\": 7412}, \"7414\": {\"frequency\": 3, \"value\": 7414}, \"7415\": {\"frequency\": 4, \"value\": 7415}, \"7416\": {\"frequency\": 7, \"value\": 7416}, \"7417\": {\"frequency\": 4, \"value\": 7417}, \"7419\": {\"frequency\": 4, \"value\": 7419}, \"7420\": {\"frequency\": 9, \"value\": 7420}, \"7423\": {\"frequency\": 2, \"value\": 7423}, \"7425\": {\"frequency\": 3, \"value\": 7425}, \"1238\": {\"frequency\": 2, \"value\": 1238}, \"7434\": {\"frequency\": 5, \"value\": 7434}, \"7435\": {\"frequency\": 2, \"value\": 7435}, \"7439\": {\"frequency\": 4, \"value\": 7439}, \"7440\": {\"frequency\": 14, \"value\": 7440}, \"7447\": {\"frequency\": 3, \"value\": 7447}, \"15641\": {\"frequency\": 2, \"value\": 15641}, \"7450\": {\"frequency\": 3, \"value\": 7450}, \"7452\": {\"frequency\": 2, \"value\": 7452}, \"5338\": {\"frequency\": 3, \"value\": 5338}, \"7455\": {\"frequency\": 5, \"value\": 7455}, \"15653\": {\"frequency\": 2, \"value\": 15653}, \"7465\": {\"frequency\": 3, \"value\": 7465}, \"7467\": {\"frequency\": 3, \"value\": 7467}, \"7470\": {\"frequency\": 3, \"value\": 7470}, \"7473\": {\"frequency\": 3, \"value\": 7473}, \"7475\": {\"frequency\": 10, \"value\": 7475}, \"7476\": {\"frequency\": 2, \"value\": 7476}, \"7480\": {\"frequency\": 11, \"value\": 7480}, \"7482\": {\"frequency\": 5, \"value\": 7482}, \"7484\": {\"frequency\": 2, \"value\": 7484}, \"7488\": {\"frequency\": 4, \"value\": 7488}, \"15681\": {\"frequency\": 2, \"value\": 15681}, \"7490\": {\"frequency\": 7, \"value\": 7490}, \"7491\": {\"frequency\": 3, \"value\": 7491}, \"7494\": {\"frequency\": 2, \"value\": 7494}, \"7500\": {\"frequency\": 119, \"value\": 7500}, \"7503\": {\"frequency\": 2, \"value\": 7503}, \"7505\": {\"frequency\": 2, \"value\": 7505}, \"7506\": {\"frequency\": 2, \"value\": 7506}, \"7508\": {\"frequency\": 4, \"value\": 7508}, \"7510\": {\"frequency\": 3, \"value\": 7510}, \"7517\": {\"frequency\": 2, \"value\": 7517}, \"7519\": {\"frequency\": 3, \"value\": 7519}, \"7520\": {\"frequency\": 5, \"value\": 7520}, \"7524\": {\"frequency\": 2, \"value\": 7524}, \"7526\": {\"frequency\": 4, \"value\": 7526}, \"32109\": {\"frequency\": 2, \"value\": 32109}, \"7535\": {\"frequency\": 2, \"value\": 7535}, \"1256\": {\"frequency\": 3, \"value\": 1256}, \"7538\": {\"frequency\": 3, \"value\": 7538}, \"7540\": {\"frequency\": 6, \"value\": 7540}, \"105850\": {\"frequency\": 2, \"value\": 105850}, \"7549\": {\"frequency\": 2, \"value\": 7549}, \"7550\": {\"frequency\": 2, \"value\": 7550}, \"7552\": {\"frequency\": 5, \"value\": 7552}, \"7553\": {\"frequency\": 2, \"value\": 7553}, \"7555\": {\"frequency\": 3, \"value\": 7555}, \"15750\": {\"frequency\": 2, \"value\": 15750}, \"7560\": {\"frequency\": 48, \"value\": 7560}, \"7561\": {\"frequency\": 2, \"value\": 7561}, \"7565\": {\"frequency\": 2, \"value\": 7565}, \"7566\": {\"frequency\": 4, \"value\": 7566}, \"7567\": {\"frequency\": 2, \"value\": 7567}, \"7569\": {\"frequency\": 2, \"value\": 7569}, \"7570\": {\"frequency\": 2, \"value\": 7570}, \"7575\": {\"frequency\": 9, \"value\": 7575}, \"7582\": {\"frequency\": 2, \"value\": 7582}, \"7584\": {\"frequency\": 2, \"value\": 7584}, \"7585\": {\"frequency\": 2, \"value\": 7585}, \"7587\": {\"frequency\": 2, \"value\": 7587}, \"7589\": {\"frequency\": 3, \"value\": 7589}, \"7590\": {\"frequency\": 8, \"value\": 7590}, \"15783\": {\"frequency\": 2, \"value\": 15783}, \"15788\": {\"frequency\": 2, \"value\": 15788}, \"7598\": {\"frequency\": 3, \"value\": 7598}, \"7599\": {\"frequency\": 4, \"value\": 7599}, \"7600\": {\"frequency\": 12, \"value\": 7600}, \"7601\": {\"frequency\": 3, \"value\": 7601}, \"7605\": {\"frequency\": 3, \"value\": 7605}, \"7606\": {\"frequency\": 2, \"value\": 7606}, \"7607\": {\"frequency\": 2, \"value\": 7607}, \"7609\": {\"frequency\": 3, \"value\": 7609}, \"7610\": {\"frequency\": 2, \"value\": 7610}, \"8164\": {\"frequency\": 4, \"value\": 8164}, \"7615\": {\"frequency\": 4, \"value\": 7615}, \"7616\": {\"frequency\": 2, \"value\": 7616}, \"7617\": {\"frequency\": 3, \"value\": 7617}, \"7620\": {\"frequency\": 30, \"value\": 7620}, \"7623\": {\"frequency\": 2, \"value\": 7623}, \"7625\": {\"frequency\": 3, \"value\": 7625}, \"7630\": {\"frequency\": 4, \"value\": 7630}, \"14925\": {\"frequency\": 2, \"value\": 14925}, \"7632\": {\"frequency\": 5, \"value\": 7632}, \"5368\": {\"frequency\": 2, \"value\": 5368}, \"7634\": {\"frequency\": 3, \"value\": 7634}, \"7636\": {\"frequency\": 3, \"value\": 7636}, \"7639\": {\"frequency\": 2, \"value\": 7639}, \"7641\": {\"frequency\": 3, \"value\": 7641}, \"7642\": {\"frequency\": 4, \"value\": 7642}, \"7644\": {\"frequency\": 3, \"value\": 7644}, \"7645\": {\"frequency\": 2, \"value\": 7645}, \"4005\": {\"frequency\": 3, \"value\": 4005}, \"7649\": {\"frequency\": 2, \"value\": 7649}, \"7650\": {\"frequency\": 23, \"value\": 7650}, \"7651\": {\"frequency\": 2, \"value\": 7651}, \"7658\": {\"frequency\": 2, \"value\": 7658}, \"7660\": {\"frequency\": 3, \"value\": 7660}, \"7665\": {\"frequency\": 6, \"value\": 7665}, \"7667\": {\"frequency\": 4, \"value\": 7667}, \"7668\": {\"frequency\": 2, \"value\": 7668}, \"7670\": {\"frequency\": 3, \"value\": 7670}, \"7673\": {\"frequency\": 2, \"value\": 7673}, \"1279\": {\"frequency\": 4, \"value\": 1279}, \"7680\": {\"frequency\": 27, \"value\": 7680}, \"9472\": {\"frequency\": 2, \"value\": 9472}, \"7683\": {\"frequency\": 3, \"value\": 7683}, \"7684\": {\"frequency\": 2, \"value\": 7684}, \"7686\": {\"frequency\": 5, \"value\": 7686}, \"1281\": {\"frequency\": 4, \"value\": 1281}, \"8108\": {\"frequency\": 2, \"value\": 8108}, \"7690\": {\"frequency\": 3, \"value\": 7690}, \"7693\": {\"frequency\": 3, \"value\": 7693}, \"7694\": {\"frequency\": 4, \"value\": 7694}, \"7697\": {\"frequency\": 4, \"value\": 7697}, \"7698\": {\"frequency\": 2, \"value\": 7698}, \"7700\": {\"frequency\": 66, \"value\": 7700}, \"7701\": {\"frequency\": 3, \"value\": 7701}, \"7702\": {\"frequency\": 2, \"value\": 7702}, \"7708\": {\"frequency\": 3, \"value\": 7708}, \"7710\": {\"frequency\": 3, \"value\": 7710}, \"169448\": {\"frequency\": 2, \"value\": 169448}, \"7712\": {\"frequency\": 2, \"value\": 7712}, \"7713\": {\"frequency\": 2, \"value\": 7713}, \"7716\": {\"frequency\": 2, \"value\": 7716}, \"7719\": {\"frequency\": 2, \"value\": 7719}, \"7720\": {\"frequency\": 2, \"value\": 7720}, \"7722\": {\"frequency\": 2, \"value\": 7722}, \"7724\": {\"frequency\": 2, \"value\": 7724}, \"7725\": {\"frequency\": 9, \"value\": 7725}, \"7727\": {\"frequency\": 2, \"value\": 7727}, \"7728\": {\"frequency\": 2, \"value\": 7728}, \"7730\": {\"frequency\": 3, \"value\": 7730}, \"7733\": {\"frequency\": 3, \"value\": 7733}, \"7735\": {\"frequency\": 6, \"value\": 7735}, \"7737\": {\"frequency\": 2, \"value\": 7737}, \"7738\": {\"frequency\": 3, \"value\": 7738}, \"7739\": {\"frequency\": 2, \"value\": 7739}, \"7740\": {\"frequency\": 16, \"value\": 7740}, \"7741\": {\"frequency\": 2, \"value\": 7741}, \"7742\": {\"frequency\": 5, \"value\": 7742}, \"7746\": {\"frequency\": 2, \"value\": 7746}, \"7749\": {\"frequency\": 3, \"value\": 7749}, \"7750\": {\"frequency\": 5, \"value\": 7750}, \"7752\": {\"frequency\": 2, \"value\": 7752}, \"7753\": {\"frequency\": 2, \"value\": 7753}, \"7754\": {\"frequency\": 3, \"value\": 7754}, \"7757\": {\"frequency\": 4, \"value\": 7757}, \"7759\": {\"frequency\": 2, \"value\": 7759}, \"7770\": {\"frequency\": 9, \"value\": 7770}, \"7772\": {\"frequency\": 2, \"value\": 7772}, \"7775\": {\"frequency\": 3, \"value\": 7775}, \"1296\": {\"frequency\": 3, \"value\": 1296}, \"7778\": {\"frequency\": 3, \"value\": 7778}, \"7781\": {\"frequency\": 2, \"value\": 7781}, \"12220\": {\"frequency\": 3, \"value\": 12220}, \"7790\": {\"frequency\": 2, \"value\": 7790}, \"7797\": {\"frequency\": 2, \"value\": 7797}, \"7800\": {\"frequency\": 69, \"value\": 7800}, \"7806\": {\"frequency\": 2, \"value\": 7806}, \"7807\": {\"frequency\": 5, \"value\": 7807}, \"16000\": {\"frequency\": 14, \"value\": 16000}, \"7809\": {\"frequency\": 2, \"value\": 7809}, \"7810\": {\"frequency\": 5, \"value\": 7810}, \"7811\": {\"frequency\": 2, \"value\": 7811}, \"7821\": {\"frequency\": 3, \"value\": 7821}, \"16015\": {\"frequency\": 3, \"value\": 16015}, \"7826\": {\"frequency\": 3, \"value\": 7826}, \"48787\": {\"frequency\": 5, \"value\": 48787}, \"16020\": {\"frequency\": 2, \"value\": 16020}, \"7830\": {\"frequency\": 5, \"value\": 7830}, \"7832\": {\"frequency\": 2, \"value\": 7832}, \"7838\": {\"frequency\": 4, \"value\": 7838}, \"7840\": {\"frequency\": 7, \"value\": 7840}, \"7845\": {\"frequency\": 2, \"value\": 7845}, \"7848\": {\"frequency\": 2, \"value\": 7848}, \"7850\": {\"frequency\": 5, \"value\": 7850}, \"7853\": {\"frequency\": 2, \"value\": 7853}, \"7854\": {\"frequency\": 5, \"value\": 7854}, \"7857\": {\"frequency\": 4, \"value\": 7857}, \"16050\": {\"frequency\": 3, \"value\": 16050}, \"7859\": {\"frequency\": 2, \"value\": 7859}, \"7860\": {\"frequency\": 3, \"value\": 7860}, \"7861\": {\"frequency\": 3, \"value\": 7861}, \"7862\": {\"frequency\": 2, \"value\": 7862}, \"7863\": {\"frequency\": 2, \"value\": 7863}, \"7865\": {\"frequency\": 2, \"value\": 7865}, \"7866\": {\"frequency\": 2, \"value\": 7866}, \"72309\": {\"frequency\": 3, \"value\": 72309}, \"16065\": {\"frequency\": 2, \"value\": 16065}, \"7875\": {\"frequency\": 19, \"value\": 7875}, \"7876\": {\"frequency\": 2, \"value\": 7876}, \"7877\": {\"frequency\": 3, \"value\": 7877}, \"7881\": {\"frequency\": 2, \"value\": 7881}, \"7884\": {\"frequency\": 3, \"value\": 7884}, \"7885\": {\"frequency\": 2, \"value\": 7885}, \"7896\": {\"frequency\": 2, \"value\": 7896}, \"7897\": {\"frequency\": 3, \"value\": 7897}, \"7900\": {\"frequency\": 8, \"value\": 7900}, \"7902\": {\"frequency\": 3, \"value\": 7902}, \"7903\": {\"frequency\": 2, \"value\": 7903}, \"7904\": {\"frequency\": 7, \"value\": 7904}, \"7906\": {\"frequency\": 2, \"value\": 7906}, \"7910\": {\"frequency\": 6, \"value\": 7910}, \"57063\": {\"frequency\": 6, \"value\": 57063}, \"7912\": {\"frequency\": 4, \"value\": 7912}, \"7916\": {\"frequency\": 3, \"value\": 7916}, \"7920\": {\"frequency\": 25, \"value\": 7920}, \"9512\": {\"frequency\": 2, \"value\": 9512}, \"7923\": {\"frequency\": 2, \"value\": 7923}, \"7924\": {\"frequency\": 2, \"value\": 7924}, \"16117\": {\"frequency\": 4, \"value\": 16117}, \"7928\": {\"frequency\": 2, \"value\": 7928}, \"7930\": {\"frequency\": 9, \"value\": 7930}, \"7931\": {\"frequency\": 2, \"value\": 7931}, \"7936\": {\"frequency\": 6, \"value\": 7936}, \"17707\": {\"frequency\": 2, \"value\": 17707}, \"7941\": {\"frequency\": 2, \"value\": 7941}, \"7942\": {\"frequency\": 2, \"value\": 7942}, \"7945\": {\"frequency\": 3, \"value\": 7945}, \"7947\": {\"frequency\": 3, \"value\": 7947}, \"7950\": {\"frequency\": 8, \"value\": 7950}, \"9517\": {\"frequency\": 2, \"value\": 9517}, \"7952\": {\"frequency\": 2, \"value\": 7952}, \"7953\": {\"frequency\": 3, \"value\": 7953}, \"7955\": {\"frequency\": 2, \"value\": 7955}, \"7956\": {\"frequency\": 2, \"value\": 7956}, \"7957\": {\"frequency\": 4, \"value\": 7957}, \"7958\": {\"frequency\": 3, \"value\": 7958}, \"39000\": {\"frequency\": 2, \"value\": 39000}, \"7961\": {\"frequency\": 2, \"value\": 7961}, \"7964\": {\"frequency\": 2, \"value\": 7964}, \"7965\": {\"frequency\": 4, \"value\": 7965}, \"7969\": {\"frequency\": 3, \"value\": 7969}, \"7972\": {\"frequency\": 2, \"value\": 7972}, \"7973\": {\"frequency\": 2, \"value\": 7973}, \"4060\": {\"frequency\": 4, \"value\": 4060}, \"7980\": {\"frequency\": 18, \"value\": 7980}, \"7984\": {\"frequency\": 2, \"value\": 7984}, \"7989\": {\"frequency\": 2, \"value\": 7989}, \"7991\": {\"frequency\": 2, \"value\": 7991}, \"7992\": {\"frequency\": 5, \"value\": 7992}, \"7995\": {\"frequency\": 3, \"value\": 7995}, \"65340\": {\"frequency\": 6, \"value\": 65340}, \"8000\": {\"frequency\": 76, \"value\": 8000}, \"8001\": {\"frequency\": 3, \"value\": 8001}, \"8004\": {\"frequency\": 3, \"value\": 8004}, \"8005\": {\"frequency\": 3, \"value\": 8005}, \"16200\": {\"frequency\": 17, \"value\": 16200}, \"8009\": {\"frequency\": 2, \"value\": 8009}, \"8162\": {\"frequency\": 3, \"value\": 8162}, \"8015\": {\"frequency\": 2, \"value\": 8015}, \"1178\": {\"frequency\": 2, \"value\": 1178}, \"8018\": {\"frequency\": 2, \"value\": 8018}, \"8022\": {\"frequency\": 3, \"value\": 8022}, \"8025\": {\"frequency\": 3, \"value\": 8025}, \"237402\": {\"frequency\": 2, \"value\": 237402}, \"8028\": {\"frequency\": 2, \"value\": 8028}, \"8029\": {\"frequency\": 2, \"value\": 8029}, \"8030\": {\"frequency\": 5, \"value\": 8030}, \"81893\": {\"frequency\": 2, \"value\": 81893}, \"8034\": {\"frequency\": 3, \"value\": 8034}, \"8036\": {\"frequency\": 4, \"value\": 8036}, \"8040\": {\"frequency\": 15, \"value\": 8040}, \"8043\": {\"frequency\": 2, \"value\": 8043}, \"8048\": {\"frequency\": 2, \"value\": 8048}, \"39639\": {\"frequency\": 3, \"value\": 39639}, \"8050\": {\"frequency\": 16, \"value\": 8050}, \"8055\": {\"frequency\": 2, \"value\": 8055}, \"8056\": {\"frequency\": 3, \"value\": 8056}, \"8057\": {\"frequency\": 2, \"value\": 8057}, \"8058\": {\"frequency\": 4, \"value\": 8058}, \"8060\": {\"frequency\": 4, \"value\": 8060}, \"8170\": {\"frequency\": 3, \"value\": 8170}, \"8062\": {\"frequency\": 2, \"value\": 8062}, \"8063\": {\"frequency\": 3, \"value\": 8063}, \"8064\": {\"frequency\": 5, \"value\": 8064}, \"8065\": {\"frequency\": 4, \"value\": 8065}, \"16258\": {\"frequency\": 2, \"value\": 16258}, \"8067\": {\"frequency\": 2, \"value\": 8067}, \"8072\": {\"frequency\": 2, \"value\": 8072}, \"8073\": {\"frequency\": 3, \"value\": 8073}, \"8075\": {\"frequency\": 6, \"value\": 8075}, \"8076\": {\"frequency\": 4, \"value\": 8076}, \"8078\": {\"frequency\": 2, \"value\": 8078}, \"73616\": {\"frequency\": 2, \"value\": 73616}, \"8085\": {\"frequency\": 3, \"value\": 8085}, \"8086\": {\"frequency\": 4, \"value\": 8086}, \"8088\": {\"frequency\": 2, \"value\": 8088}, \"1348\": {\"frequency\": 3, \"value\": 1348}, \"8092\": {\"frequency\": 2, \"value\": 8092}, \"8093\": {\"frequency\": 3, \"value\": 8093}, \"32670\": {\"frequency\": 2, \"value\": 32670}, \"8095\": {\"frequency\": 3, \"value\": 8095}, \"8097\": {\"frequency\": 2, \"value\": 8097}, \"8098\": {\"frequency\": 2, \"value\": 8098}, \"6811\": {\"frequency\": 2, \"value\": 6811}, \"8100\": {\"frequency\": 72, \"value\": 8100}, \"1350\": {\"frequency\": 6, \"value\": 1350}, \"8102\": {\"frequency\": 5, \"value\": 8102}, \"8107\": {\"frequency\": 2, \"value\": 8107}, \"16300\": {\"frequency\": 3, \"value\": 16300}, \"8112\": {\"frequency\": 2, \"value\": 8112}, \"8113\": {\"frequency\": 3, \"value\": 8113}, \"8114\": {\"frequency\": 5, \"value\": 8114}, \"8116\": {\"frequency\": 4, \"value\": 8116}, \"8117\": {\"frequency\": 2, \"value\": 8117}, \"8118\": {\"frequency\": 3, \"value\": 8118}, \"8119\": {\"frequency\": 4, \"value\": 8119}, \"8120\": {\"frequency\": 6, \"value\": 8120}, \"8122\": {\"frequency\": 2, \"value\": 8122}, \"8124\": {\"frequency\": 2, \"value\": 8124}, \"8125\": {\"frequency\": 9, \"value\": 8125}, \"8126\": {\"frequency\": 3, \"value\": 8126}, \"8127\": {\"frequency\": 2, \"value\": 8127}, \"8130\": {\"frequency\": 3, \"value\": 8130}, \"8131\": {\"frequency\": 2, \"value\": 8131}, \"8134\": {\"frequency\": 2, \"value\": 8134}, \"8136\": {\"frequency\": 4, \"value\": 8136}, \"8137\": {\"frequency\": 2, \"value\": 8137}, \"8138\": {\"frequency\": 2, \"value\": 8138}, \"8140\": {\"frequency\": 6, \"value\": 8140}, \"8142\": {\"frequency\": 3, \"value\": 8142}, \"1357\": {\"frequency\": 2, \"value\": 1357}, \"8144\": {\"frequency\": 2, \"value\": 8144}, \"8145\": {\"frequency\": 3, \"value\": 8145}, \"8147\": {\"frequency\": 4, \"value\": 8147}, \"8148\": {\"frequency\": 3, \"value\": 8148}, \"8149\": {\"frequency\": 6, \"value\": 8149}, \"8150\": {\"frequency\": 2, \"value\": 8150}, \"8151\": {\"frequency\": 2, \"value\": 8151}, \"8153\": {\"frequency\": 2, \"value\": 8153}, \"8154\": {\"frequency\": 2, \"value\": 8154}, \"8158\": {\"frequency\": 3, \"value\": 8158}, \"8159\": {\"frequency\": 2, \"value\": 8159}, \"8160\": {\"frequency\": 19, \"value\": 8160}, \"56192\": {\"frequency\": 4, \"value\": 56192}, \"8163\": {\"frequency\": 4, \"value\": 8163}, \"81892\": {\"frequency\": 4, \"value\": 81892}, \"8165\": {\"frequency\": 5, \"value\": 8165}, \"8167\": {\"frequency\": 2, \"value\": 8167}, \"1080\": {\"frequency\": 3, \"value\": 1080}, \"8171\": {\"frequency\": 2, \"value\": 8171}, \"8173\": {\"frequency\": 3, \"value\": 8173}, \"8174\": {\"frequency\": 3, \"value\": 8174}, \"8175\": {\"frequency\": 4, \"value\": 8175}, \"40946\": {\"frequency\": 4, \"value\": 40946}, \"8179\": {\"frequency\": 2, \"value\": 8179}, \"8182\": {\"frequency\": 3, \"value\": 8182}, \"8184\": {\"frequency\": 7, \"value\": 8184}, \"17652\": {\"frequency\": 2, \"value\": 17652}, \"8187\": {\"frequency\": 3, \"value\": 8187}, \"8188\": {\"frequency\": 2, \"value\": 8188}, \"8190\": {\"frequency\": 9, \"value\": 8190}}, \"mean\": 15106.967565816873}}, \"selected_variable\": {\"name\": [\"<temporary SFrame>\"], \"descriptives\": {\"rows\": 21613, \"columns\": 6}, \"view_component\": \"Summary\", \"view_file\": \"sframe\", \"view_params\": {\"y\": null, \"x\": null, \"columns\": [\"bedrooms\", \"bathrooms\", \"sqft_living\", \"sqft_lot\", \"floors\", \"zipcode\"], \"view\": null}, \"view_components\": [\"Summary\", \"Table\", \"Bar Chart\", \"BoxWhisker Plot\", \"Line Chart\", \"Scatter Plot\", \"Heat Map\", \"Plots\"], \"type\": \"SFrame\", \"columns\": [{\"dtype\": \"str\", \"name\": \"bedrooms\"}, {\"dtype\": \"str\", \"name\": \"bathrooms\"}, {\"dtype\": \"int\", \"name\": \"sqft_living\"}, {\"dtype\": \"int\", \"name\": \"sqft_lot\"}, {\"dtype\": \"str\", \"name\": \"floors\"}, {\"dtype\": \"str\", \"name\": \"zipcode\"}], \"column_identifiers\": [\"bathrooms\", \"bedrooms\", \"zipcode\", \"sqft_living\", \"floors\", \"sqft_lot\"]}, \"columns\": [{\"dtype\": \"str\", \"name\": \"bedrooms\"}, {\"dtype\": \"str\", \"name\": \"bathrooms\"}, {\"dtype\": \"int\", \"name\": \"sqft_living\"}, {\"dtype\": \"int\", \"name\": \"sqft_lot\"}, {\"dtype\": \"str\", \"name\": \"floors\"}, {\"dtype\": \"str\", \"name\": \"zipcode\"}]}, e);\n",
       "                });\n",
       "            })();\n",
       "        "
      ]
     },
     "metadata": {},
     "output_type": "display_data"
    }
   ],
   "source": [
    "sales[my_features].show()"
   ]
  },
  {
   "cell_type": "code",
   "execution_count": 17,
   "metadata": {
    "collapsed": false
   },
   "outputs": [
    {
     "data": {
      "application/javascript": [
       "$(\"head\").append($(\"<link/>\").attr({\n",
       "  rel:  \"stylesheet\",\n",
       "  type: \"text/css\",\n",
       "  href: \"//cdnjs.cloudflare.com/ajax/libs/font-awesome/4.1.0/css/font-awesome.min.css\"\n",
       "}));\n",
       "$(\"head\").append($(\"<link/>\").attr({\n",
       "  rel:  \"stylesheet\",\n",
       "  type: \"text/css\",\n",
       "  href: \"//dato.com/files/canvas/1.5.2/css/canvas.css\"\n",
       "}));\n",
       "\n",
       "            (function(){\n",
       "\n",
       "                var e = null;\n",
       "                if (typeof element == 'undefined') {\n",
       "                    var scripts = document.getElementsByTagName('script');\n",
       "                    var thisScriptTag = scripts[scripts.length-1];\n",
       "                    var parentDiv = thisScriptTag.parentNode;\n",
       "                    e = document.createElement('div');\n",
       "                    parentDiv.appendChild(e);\n",
       "                } else {\n",
       "                    e = element[0];\n",
       "                }\n",
       "\n",
       "                require(['//dato.com/files/canvas/1.5.2/js/ipython_app.js'], function(IPythonApp){\n",
       "                    var app = new IPythonApp();\n",
       "                    app.attachView('sframe','Plots', {\"selected_variable\": {\"name\": [\"sales\"], \"descriptives\": {\"rows\": 21613, \"columns\": 21}, \"view_component\": \"Plots\", \"view_file\": \"sframe\", \"view_params\": {\"y\": \"price\", \"x\": \"zipcode\", \"columns\": [\"id\", \"date\", \"price\", \"bedrooms\", \"bathrooms\", \"sqft_living\", \"sqft_lot\", \"floors\", \"waterfront\", \"view\", \"condition\", \"grade\", \"sqft_above\", \"sqft_basement\", \"yr_built\", \"yr_renovated\", \"zipcode\", \"lat\", \"long\", \"sqft_living15\", \"sqft_lot15\"], \"view\": \"BoxWhisker Plot\"}, \"view_components\": [\"Summary\", \"Table\", \"Bar Chart\", \"BoxWhisker Plot\", \"Line Chart\", \"Scatter Plot\", \"Heat Map\", \"Plots\"], \"type\": \"SFrame\", \"columns\": [{\"dtype\": \"str\", \"name\": \"id\"}, {\"dtype\": \"datetime\", \"name\": \"date\"}, {\"dtype\": \"int\", \"name\": \"price\"}, {\"dtype\": \"str\", \"name\": \"bedrooms\"}, {\"dtype\": \"str\", \"name\": \"bathrooms\"}, {\"dtype\": \"int\", \"name\": \"sqft_living\"}, {\"dtype\": \"int\", \"name\": \"sqft_lot\"}, {\"dtype\": \"str\", \"name\": \"floors\"}, {\"dtype\": \"int\", \"name\": \"waterfront\"}, {\"dtype\": \"int\", \"name\": \"view\"}, {\"dtype\": \"int\", \"name\": \"condition\"}, {\"dtype\": \"int\", \"name\": \"grade\"}, {\"dtype\": \"int\", \"name\": \"sqft_above\"}, {\"dtype\": \"int\", \"name\": \"sqft_basement\"}, {\"dtype\": \"int\", \"name\": \"yr_built\"}, {\"dtype\": \"int\", \"name\": \"yr_renovated\"}, {\"dtype\": \"str\", \"name\": \"zipcode\"}, {\"dtype\": \"float\", \"name\": \"lat\"}, {\"dtype\": \"float\", \"name\": \"long\"}, {\"dtype\": \"float\", \"name\": \"sqft_living15\"}, {\"dtype\": \"float\", \"name\": \"sqft_lot15\"}], \"column_identifiers\": [\"bathrooms\", \"sqft_living15\", \"sqft_above\", \"grade\", \"yr_built\", \"price\", \"bedrooms\", \"zipcode\", \"long\", \"id\", \"sqft_lot15\", \"sqft_living\", \"floors\", \"sqft_lot\", \"date\", \"waterfront\", \"sqft_basement\", \"yr_renovated\", \"lat\", \"condition\", \"view\"]}, \"complete\": 1, \"ipython\": true, \"progress\": 1.0, \"data\": {\"grouped\": {\"98146\": [82000.0, 104950.0, 158800.0, 175000.0, 229500.0, 307000.0, 409000.0, 605000.0, 665900.0, 1250000.0, 1410000.0], \"98019\": [119500.0, 170000.0, 289275.0, 299950.0, 330000.0, 402500.0, 500000.0, 570000.0, 570000.0, 979500.0, 1015000.0], \"98039\": [787500.0, 787500.0, 940000.0, 1000000.0, 1398000.0, 1905000.0, 2575000.0, 3640900.0, 3640900.0, 6885000.0, 6885000.0], \"98038\": [110000.0, 176000.0, 240000.0, 245000.0, 285000.0, 342000.0, 410000.0, 533000.0, 540000.0, 849000.0, 1350000.0], \"98118\": [109000.0, 155000.0, 221000.0, 226000.0, 289000.0, 367500.0, 476500.0, 665000.0, 680000.0, 1309500.0, 2903000.0], \"98119\": [300523.0, 365000.0, 485000.0, 490000.0, 600000.0, 749950.0, 940000.0, 1320000.0, 1330000.0, 2630000.0, 3065000.0], \"98116\": [130000.0, 252000.0, 386950.0, 390000.0, 460000.0, 565500.0, 703000.0, 930000.0, 950000.0, 1598888.0, 2050000.0], \"98117\": [125000.0, 280000.0, 375000.0, 390000.0, 450000.0, 544000.0, 657500.0, 825000.0, 850000.0, 1275000.0, 1370000.0], \"98011\": [245500.0, 260000.0, 347000.0, 361000.0, 411800.0, 470000.0, 550000.0, 632000.0, 650000.0, 870000.0, 1075000.0], \"98115\": [200000.0, 289500.0, 395000.0, 399000.0, 455000.0, 567000.0, 719000.0, 897000.0, 925000.0, 1500000.0, 2300000.0], \"98112\": [169317.0, 350000.0, 515000.0, 524000.0, 680000.0, 915000.0, 1328000.0, 1975000.0, 2048000.0, 3000000.0, 3400000.0], \"98030\": [120000.0, 140000.0, 213400.0, 220000.0, 249950.0, 282510.0, 339950.0, 380000.0, 386000.0, 491000.0, 565000.0], \"98033\": [130000.0, 305000.0, 425000.0, 437500.0, 535000.0, 678700.0, 902000.0, 1339000.0, 1378000.0, 2650000.0, 5110800.0], \"98032\": [85000.0, 85000.0, 165000.0, 169000.0, 221700.0, 249000.0, 285000.0, 321000.0, 324900.0, 400000.0, 545000.0], \"98092\": [90000.0, 148226.0, 210000.0, 216000.0, 263950.0, 309780.0, 379500.0, 471275.0, 480000.0, 835000.0, 930000.0], \"98058\": [95000.0, 144000.0, 225000.0, 230000.0, 285000.0, 335000.0, 392000.0, 475000.0, 485000.0, 790000.0, 1500000.0], \"98198\": [95000.0, 120000.0, 174500.0, 175000.0, 216500.0, 265000.0, 340000.0, 455000.0, 475000.0, 950000.0, 1350000.0], \"98199\": [323000.0, 334000.0, 419000.0, 425000.0, 535000.0, 689800.0, 950000.0, 1289000.0, 1300000.0, 2160000.0, 3200000.0], \"98122\": [202000.0, 260000.0, 375000.0, 385000.0, 450000.0, 574000.0, 720000.0, 920000.0, 925000.0, 1850000.0, 2050000.0], \"98004\": [425000.0, 595000.0, 695000.0, 720000.0, 845000.0, 1150000.0, 1691000.0, 2150000.0, 2200000.0, 3800000.0, 7062500.0], \"98005\": [400000.0, 411100.0, 542500.0, 549000.0, 638700.0, 768500.0, 915000.0, 1110000.0, 1125000.0, 1900000.0, 1960000.0], \"98006\": [247500.0, 295000.0, 450000.0, 455000.0, 575000.0, 760369.0, 978000.0, 1380000.0, 1400000.0, 2525000.0, 4208000.0], \"98007\": [295000.0, 330000.0, 415500.0, 419000.0, 465000.0, 555000.0, 730000.0, 900000.0, 907500.0, 1229000.0, 1315000.0], \"98144\": [181000.0, 230000.0, 325000.0, 327000.0, 374950.0, 450000.0, 666000.0, 970000.0, 1039000.0, 2450000.0, 3600000.0], \"98002\": [95000.0, 111300.0, 160000.0, 163500.0, 199950.0, 235000.0, 269000.0, 298900.0, 300000.0, 370000.0, 389000.0], \"98065\": [170000.0, 208000.0, 323000.0, 335000.0, 424950.0, 500000.0, 619000.0, 710000.0, 723000.0, 1145000.0, 1998000.0], \"98040\": [500000.0, 550000.0, 685000.0, 698000.0, 821000.0, 994000.0, 1387000.0, 1815000.0, 1900000.0, 3850000.0, 5300000.0], \"98148\": [105500.0, 105500.0, 193000.0, 193000.0, 240000.0, 278000.0, 319990.0, 375000.0, 375000.0, 600600.0, 600600.0], \"98042\": [105000.0, 132825.0, 200000.0, 204000.0, 240000.0, 292500.0, 359950.0, 444900.0, 450000.0, 734000.0, 859000.0], \"98008\": [250000.0, 277700.0, 405000.0, 415000.0, 465000.0, 545000.0, 660000.0, 850000.0, 899000.0, 3300000.0, 3567000.0], \"98045\": [175000.0, 189000.0, 259000.0, 271000.0, 305000.0, 399500.0, 495000.0, 665000.0, 688000.0, 1075000.0, 1950000.0], \"98001\": [100000.0, 115000.0, 180000.0, 184000.0, 215000.0, 260000.0, 320000.0, 420000.0, 427000.0, 625000.0, 850000.0], \"98010\": [135000.0, 162000.0, 208500.0, 212644.0, 257000.0, 360000.0, 600000.0, 712000.0, 720000.0, 935000.0, 935000.0], \"98109\": [216650.0, 216650.0, 478000.0, 479000.0, 620000.0, 736000.0, 1000000.0, 1450000.0, 1450000.0, 2900000.0, 3200000.0], \"98059\": [172500.0, 217000.0, 291375.0, 294500.0, 340000.0, 435000.0, 552500.0, 751000.0, 785000.0, 1300000.0, 1780000.0], \"98028\": [160000.0, 196000.0, 300000.0, 310000.0, 379950.0, 445000.0, 526750.0, 610000.0, 619990.0, 1120000.0, 1600000.0], \"98029\": [285000.0, 310000.0, 413565.0, 420000.0, 485000.0, 575000.0, 690000.0, 795000.0, 812000.0, 1450000.0, 2200000.0], \"98105\": [380000.0, 395000.0, 483000.0, 485000.0, 550000.0, 675000.0, 1005000.0, 1415000.0, 1482500.0, 2555000.0, 3650000.0], \"98027\": [130000.0, 240000.0, 352499.0, 361000.0, 450000.0, 571000.0, 716500.0, 865000.0, 890000.0, 1800000.0, 2700000.0], \"98024\": [142000.0, 142000.0, 258000.0, 260000.0, 340000.0, 460000.0, 700000.0, 997950.0, 1065000.0, 1862000.0, 1862000.0], \"98003\": [128000.0, 152500.0, 199000.0, 200000.0, 229000.0, 267950.0, 333000.0, 420000.0, 429900.0, 740000.0, 950000.0], \"98022\": [75000.0, 152900.0, 199990.0, 200000.0, 235000.0, 280000.0, 350000.0, 475000.0, 487000.0, 750000.0, 858000.0], \"98126\": [110000.0, 183000.0, 250000.0, 255000.0, 320000.0, 396500.0, 485000.0, 643500.0, 661000.0, 901000.0, 1085000.0], \"98103\": [238000.0, 259250.0, 352950.0, 355000.0, 432000.0, 550000.0, 695000.0, 830000.0, 850000.0, 1350000.0, 1695000.0], \"98023\": [86500.0, 115000.0, 188000.0, 193000.0, 224097.0, 268450.0, 316500.0, 402500.0, 415000.0, 629000.0, 1275000.0], \"98125\": [175000.0, 228000.0, 303697.0, 310000.0, 357250.0, 425000.0, 518000.0, 675000.0, 689000.0, 1335000.0, 2050000.0], \"98166\": [100000.0, 129888.0, 220000.0, 229000.0, 292000.0, 390000.0, 540500.0, 755000.0, 770000.0, 1899000.0, 2510000.0], \"98031\": [147500.0, 152000.0, 223000.0, 230000.0, 252000.0, 288400.0, 327500.0, 377000.0, 382500.0, 680000.0, 800000.0], \"98014\": [80000.0, 134000.0, 167000.0, 180000.0, 309000.0, 415000.0, 539000.0, 739000.0, 755000.0, 1610000.0, 1680000.0], \"98188\": [110000.0, 110700.0, 179000.0, 179950.0, 230000.0, 265000.0, 335000.0, 400200.0, 408000.0, 706000.0, 707000.0], \"98102\": [330000.0, 350000.0, 440000.0, 475000.0, 575000.0, 720000.0, 979700.0, 1440000.0, 1443917.0, 2479000.0, 7700000.0], \"98034\": [90000.0, 257000.0, 330000.0, 335000.0, 387000.0, 445950.0, 525000.0, 749950.0, 799950.0, 2125000.0, 3120000.0], \"98106\": [90000.0, 107000.0, 208400.0, 210000.0, 260000.0, 315000.0, 366000.0, 426000.0, 435000.0, 625000.0, 795000.0], \"98107\": [290000.0, 356000.0, 425000.0, 430000.0, 470000.0, 529950.0, 630000.0, 752500.0, 769950.0, 1205000.0, 2945000.0], \"98155\": [153000.0, 195000.0, 267800.0, 270000.0, 315000.0, 375000.0, 460000.0, 590000.0, 600000.0, 1680000.0, 4500000.0], \"98052\": [225000.0, 315000.0, 425000.0, 432100.0, 509250.0, 615000.0, 751000.0, 852500.0, 872750.0, 1299888.0, 2200000.0], \"98178\": [90000.0, 119900.0, 180000.0, 188000.0, 223000.0, 279000.0, 350000.0, 450000.0, 460000.0, 869000.0, 1700000.0], \"98070\": [160000.0, 181000.0, 280000.0, 285000.0, 340000.0, 465000.0, 575000.0, 729000.0, 730000.0, 1350000.0, 1379900.0], \"98136\": [200000.0, 229050.0, 340000.0, 345000.0, 398000.0, 489950.0, 660000.0, 838000.0, 850000.0, 1662000.0, 2230000.0], \"98072\": [200000.0, 275000.0, 357823.0, 365000.0, 422800.0, 515000.0, 642860.0, 879000.0, 905000.0, 1350000.0, 1565000.0], \"98075\": [406430.0, 432000.0, 545000.0, 550000.0, 641000.0, 739999.0, 870000.0, 1060000.0, 1062500.0, 2000000.0, 3200000.0], \"98074\": [280000.0, 325000.0, 420000.0, 434900.0, 532000.0, 642000.0, 798000.0, 922755.0, 929000.0, 1675000.0, 3075000.0], \"98077\": [250000.0, 274975.0, 335000.0, 353000.0, 510000.0, 654950.0, 835000.0, 950000.0, 985000.0, 1820000.0, 1920000.0], \"98133\": [130000.0, 210000.0, 275000.0, 277500.0, 318000.0, 375000.0, 435000.0, 507000.0, 518000.0, 729953.0, 808100.0], \"98056\": [139000.0, 155000.0, 230000.0, 231500.0, 289000.0, 380000.0, 510000.0, 635000.0, 640000.0, 980000.0, 3000000.0], \"98055\": [100000.0, 126000.0, 192000.0, 197500.0, 240000.0, 295000.0, 350000.0, 430000.0, 440000.0, 580000.0, 631000.0], \"98108\": [90000.0, 130000.0, 230000.0, 230000.0, 284000.0, 345000.0, 425000.0, 491000.0, 500000.0, 635000.0, 640000.0], \"98053\": [170000.0, 300000.0, 400000.0, 405000.0, 485000.0, 635000.0, 790500.0, 955990.0, 975000.0, 1769000.0, 2280000.0], \"98168\": [78000.0, 82500.0, 150550.0, 158000.0, 199950.0, 235000.0, 285000.0, 325000.0, 327200.0, 424305.0, 600000.0], \"98177\": [245560.0, 276000.0, 355950.0, 367500.0, 427000.0, 554000.0, 749950.0, 1075000.0, 1200000.0, 2880500.0, 3800000.0]}, \"omitted\": 0}, \"columns\": [{\"dtype\": \"str\", \"name\": \"id\"}, {\"dtype\": \"datetime\", \"name\": \"date\"}, {\"dtype\": \"int\", \"name\": \"price\"}, {\"dtype\": \"str\", \"name\": \"bedrooms\"}, {\"dtype\": \"str\", \"name\": \"bathrooms\"}, {\"dtype\": \"int\", \"name\": \"sqft_living\"}, {\"dtype\": \"int\", \"name\": \"sqft_lot\"}, {\"dtype\": \"str\", \"name\": \"floors\"}, {\"dtype\": \"int\", \"name\": \"waterfront\"}, {\"dtype\": \"int\", \"name\": \"view\"}, {\"dtype\": \"int\", \"name\": \"condition\"}, {\"dtype\": \"int\", \"name\": \"grade\"}, {\"dtype\": \"int\", \"name\": \"sqft_above\"}, {\"dtype\": \"int\", \"name\": \"sqft_basement\"}, {\"dtype\": \"int\", \"name\": \"yr_built\"}, {\"dtype\": \"int\", \"name\": \"yr_renovated\"}, {\"dtype\": \"str\", \"name\": \"zipcode\"}, {\"dtype\": \"float\", \"name\": \"lat\"}, {\"dtype\": \"float\", \"name\": \"long\"}, {\"dtype\": \"float\", \"name\": \"sqft_living15\"}, {\"dtype\": \"float\", \"name\": \"sqft_lot15\"}]}, e);\n",
       "                });\n",
       "            })();\n",
       "        "
      ]
     },
     "metadata": {},
     "output_type": "display_data"
    }
   ],
   "source": [
    "sales.show(view='BoxWhisker Plot', x='zipcode', y='price')"
   ]
  },
  {
   "cell_type": "markdown",
   "metadata": {},
   "source": [
    "Pull the bar at the bottom to view more of the data.  \n",
    "\n",
    "98039 is the most expensive zip code."
   ]
  },
  {
   "cell_type": "markdown",
   "metadata": {},
   "source": [
    "#Build a regression model with more features"
   ]
  },
  {
   "cell_type": "code",
   "execution_count": 18,
   "metadata": {
    "collapsed": false
   },
   "outputs": [
    {
     "name": "stdout",
     "output_type": "stream",
     "text": [
      "PROGRESS: Creating a validation set from 5 percent of training data. This may take a while.\n",
      "          You can set ``validation_set=None`` to disable validation tracking.\n",
      "\n",
      "PROGRESS: Linear regression:\n",
      "PROGRESS: --------------------------------------------------------\n",
      "PROGRESS: Number of examples          : 16506\n",
      "PROGRESS: Number of features          : 6\n",
      "PROGRESS: Number of unpacked features : 6\n",
      "PROGRESS: Number of coefficients    : 115\n",
      "PROGRESS: Starting Newton Method\n",
      "PROGRESS: --------------------------------------------------------\n",
      "PROGRESS: +-----------+----------+--------------+--------------------+----------------------+---------------+-----------------+\n",
      "PROGRESS: | Iteration | Passes   | Elapsed Time | Training-max_error | Validation-max_error | Training-rmse | Validation-rmse |\n",
      "PROGRESS: +-----------+----------+--------------+--------------------+----------------------+---------------+-----------------+\n",
      "PROGRESS: | 1         | 2        | 0.127308     | 3733129.546042     | 2091811.126848       | 180943.990410 | 201085.285099   |\n",
      "PROGRESS: +-----------+----------+--------------+--------------------+----------------------+---------------+-----------------+\n"
     ]
    }
   ],
   "source": [
    "my_features_model = graphlab.linear_regression.create(train_data,target='price',features=my_features)"
   ]
  },
  {
   "cell_type": "code",
   "execution_count": 19,
   "metadata": {
    "collapsed": false
   },
   "outputs": [
    {
     "name": "stdout",
     "output_type": "stream",
     "text": [
      "['bedrooms', 'bathrooms', 'sqft_living', 'sqft_lot', 'floors', 'zipcode']\n"
     ]
    }
   ],
   "source": [
    "print my_features"
   ]
  },
  {
   "cell_type": "markdown",
   "metadata": {},
   "source": [
    "##Comparing the results of the simple model with adding more features"
   ]
  },
  {
   "cell_type": "code",
   "execution_count": 20,
   "metadata": {
    "collapsed": false
   },
   "outputs": [
    {
     "name": "stdout",
     "output_type": "stream",
     "text": [
      "{'max_error': 4153115.4452328016, 'rmse': 255169.84496896976}\n",
      "{'max_error': 3491283.748780556, 'rmse': 179507.57212792453}\n"
     ]
    }
   ],
   "source": [
    "print sqft_model.evaluate(test_data)\n",
    "print my_features_model.evaluate(test_data)"
   ]
  },
  {
   "cell_type": "markdown",
   "metadata": {},
   "source": [
    "The RMSE goes down from \\$255,170 to \\$179,508 with more features."
   ]
  },
  {
   "cell_type": "markdown",
   "metadata": {},
   "source": [
    "#Apply learned models to predict prices of 3 houses"
   ]
  },
  {
   "cell_type": "markdown",
   "metadata": {},
   "source": [
    "The first house we will use is considered an \"average\" house in Seattle. "
   ]
  },
  {
   "cell_type": "code",
   "execution_count": 27,
   "metadata": {
    "collapsed": true
   },
   "outputs": [],
   "source": [
    "house1 = sales[sales['id']=='5309101200']"
   ]
  },
  {
   "cell_type": "code",
   "execution_count": 28,
   "metadata": {
    "collapsed": false
   },
   "outputs": [
    {
     "data": {
      "text/html": [
       "<div style=\"max-height:1000px;max-width:1500px;overflow:auto;\"><table frame=\"box\" rules=\"cols\">\n",
       "    <tr>\n",
       "        <th style=\"padding-left: 1em; padding-right: 1em; text-align: center\">id</th>\n",
       "        <th style=\"padding-left: 1em; padding-right: 1em; text-align: center\">date</th>\n",
       "        <th style=\"padding-left: 1em; padding-right: 1em; text-align: center\">price</th>\n",
       "        <th style=\"padding-left: 1em; padding-right: 1em; text-align: center\">bedrooms</th>\n",
       "        <th style=\"padding-left: 1em; padding-right: 1em; text-align: center\">bathrooms</th>\n",
       "        <th style=\"padding-left: 1em; padding-right: 1em; text-align: center\">sqft_living</th>\n",
       "        <th style=\"padding-left: 1em; padding-right: 1em; text-align: center\">sqft_lot</th>\n",
       "        <th style=\"padding-left: 1em; padding-right: 1em; text-align: center\">floors</th>\n",
       "        <th style=\"padding-left: 1em; padding-right: 1em; text-align: center\">waterfront</th>\n",
       "    </tr>\n",
       "    <tr>\n",
       "        <td style=\"padding-left: 1em; padding-right: 1em; text-align: center; vertical-align: top\">5309101200</td>\n",
       "        <td style=\"padding-left: 1em; padding-right: 1em; text-align: center; vertical-align: top\">2014-06-05 00:00:00+00:00</td>\n",
       "        <td style=\"padding-left: 1em; padding-right: 1em; text-align: center; vertical-align: top\">620000</td>\n",
       "        <td style=\"padding-left: 1em; padding-right: 1em; text-align: center; vertical-align: top\">4</td>\n",
       "        <td style=\"padding-left: 1em; padding-right: 1em; text-align: center; vertical-align: top\">2.25</td>\n",
       "        <td style=\"padding-left: 1em; padding-right: 1em; text-align: center; vertical-align: top\">2400</td>\n",
       "        <td style=\"padding-left: 1em; padding-right: 1em; text-align: center; vertical-align: top\">5350</td>\n",
       "        <td style=\"padding-left: 1em; padding-right: 1em; text-align: center; vertical-align: top\">1.5</td>\n",
       "        <td style=\"padding-left: 1em; padding-right: 1em; text-align: center; vertical-align: top\">0</td>\n",
       "    </tr>\n",
       "</table>\n",
       "<table frame=\"box\" rules=\"cols\">\n",
       "    <tr>\n",
       "        <th style=\"padding-left: 1em; padding-right: 1em; text-align: center\">view</th>\n",
       "        <th style=\"padding-left: 1em; padding-right: 1em; text-align: center\">condition</th>\n",
       "        <th style=\"padding-left: 1em; padding-right: 1em; text-align: center\">grade</th>\n",
       "        <th style=\"padding-left: 1em; padding-right: 1em; text-align: center\">sqft_above</th>\n",
       "        <th style=\"padding-left: 1em; padding-right: 1em; text-align: center\">sqft_basement</th>\n",
       "        <th style=\"padding-left: 1em; padding-right: 1em; text-align: center\">yr_built</th>\n",
       "        <th style=\"padding-left: 1em; padding-right: 1em; text-align: center\">yr_renovated</th>\n",
       "        <th style=\"padding-left: 1em; padding-right: 1em; text-align: center\">zipcode</th>\n",
       "        <th style=\"padding-left: 1em; padding-right: 1em; text-align: center\">lat</th>\n",
       "    </tr>\n",
       "    <tr>\n",
       "        <td style=\"padding-left: 1em; padding-right: 1em; text-align: center; vertical-align: top\">0</td>\n",
       "        <td style=\"padding-left: 1em; padding-right: 1em; text-align: center; vertical-align: top\">4</td>\n",
       "        <td style=\"padding-left: 1em; padding-right: 1em; text-align: center; vertical-align: top\">7</td>\n",
       "        <td style=\"padding-left: 1em; padding-right: 1em; text-align: center; vertical-align: top\">1460</td>\n",
       "        <td style=\"padding-left: 1em; padding-right: 1em; text-align: center; vertical-align: top\">940</td>\n",
       "        <td style=\"padding-left: 1em; padding-right: 1em; text-align: center; vertical-align: top\">1929</td>\n",
       "        <td style=\"padding-left: 1em; padding-right: 1em; text-align: center; vertical-align: top\">0</td>\n",
       "        <td style=\"padding-left: 1em; padding-right: 1em; text-align: center; vertical-align: top\">98117</td>\n",
       "        <td style=\"padding-left: 1em; padding-right: 1em; text-align: center; vertical-align: top\">47.67632376</td>\n",
       "    </tr>\n",
       "</table>\n",
       "<table frame=\"box\" rules=\"cols\">\n",
       "    <tr>\n",
       "        <th style=\"padding-left: 1em; padding-right: 1em; text-align: center\">long</th>\n",
       "        <th style=\"padding-left: 1em; padding-right: 1em; text-align: center\">sqft_living15</th>\n",
       "        <th style=\"padding-left: 1em; padding-right: 1em; text-align: center\">sqft_lot15</th>\n",
       "    </tr>\n",
       "    <tr>\n",
       "        <td style=\"padding-left: 1em; padding-right: 1em; text-align: center; vertical-align: top\">-122.37010126</td>\n",
       "        <td style=\"padding-left: 1em; padding-right: 1em; text-align: center; vertical-align: top\">1250.0</td>\n",
       "        <td style=\"padding-left: 1em; padding-right: 1em; text-align: center; vertical-align: top\">4880.0</td>\n",
       "    </tr>\n",
       "</table>\n",
       "[? rows x 21 columns]<br/>Note: Only the head of the SFrame is printed. This SFrame is lazily evaluated.<br/>You can use len(sf) to force materialization.\n",
       "</div>"
      ],
      "text/plain": [
       "Columns:\n",
       "\tid\tstr\n",
       "\tdate\tdatetime\n",
       "\tprice\tint\n",
       "\tbedrooms\tstr\n",
       "\tbathrooms\tstr\n",
       "\tsqft_living\tint\n",
       "\tsqft_lot\tint\n",
       "\tfloors\tstr\n",
       "\twaterfront\tint\n",
       "\tview\tint\n",
       "\tcondition\tint\n",
       "\tgrade\tint\n",
       "\tsqft_above\tint\n",
       "\tsqft_basement\tint\n",
       "\tyr_built\tint\n",
       "\tyr_renovated\tint\n",
       "\tzipcode\tstr\n",
       "\tlat\tfloat\n",
       "\tlong\tfloat\n",
       "\tsqft_living15\tfloat\n",
       "\tsqft_lot15\tfloat\n",
       "\n",
       "Rows: Unknown\n",
       "\n",
       "Data:\n",
       "+------------+---------------------------+--------+----------+-----------+-------------+\n",
       "|     id     |            date           | price  | bedrooms | bathrooms | sqft_living |\n",
       "+------------+---------------------------+--------+----------+-----------+-------------+\n",
       "| 5309101200 | 2014-06-05 00:00:00+00:00 | 620000 |    4     |    2.25   |     2400    |\n",
       "+------------+---------------------------+--------+----------+-----------+-------------+\n",
       "+----------+--------+------------+------+-----------+-------+------------+---------------+\n",
       "| sqft_lot | floors | waterfront | view | condition | grade | sqft_above | sqft_basement |\n",
       "+----------+--------+------------+------+-----------+-------+------------+---------------+\n",
       "|   5350   |  1.5   |     0      |  0   |     4     |   7   |    1460    |      940      |\n",
       "+----------+--------+------------+------+-----------+-------+------------+---------------+\n",
       "+----------+--------------+---------+-------------+---------------+---------------+-----+\n",
       "| yr_built | yr_renovated | zipcode |     lat     |      long     | sqft_living15 | ... |\n",
       "+----------+--------------+---------+-------------+---------------+---------------+-----+\n",
       "|   1929   |      0       |  98117  | 47.67632376 | -122.37010126 |     1250.0    | ... |\n",
       "+----------+--------------+---------+-------------+---------------+---------------+-----+\n",
       "[? rows x 21 columns]\n",
       "Note: Only the head of the SFrame is printed. This SFrame is lazily evaluated.\n",
       "You can use len(sf) to force materialization."
      ]
     },
     "execution_count": 28,
     "metadata": {},
     "output_type": "execute_result"
    }
   ],
   "source": [
    "house1"
   ]
  },
  {
   "cell_type": "markdown",
   "metadata": {},
   "source": [
    "<img src=\"house-5309101200.jpg\">"
   ]
  },
  {
   "cell_type": "code",
   "execution_count": 30,
   "metadata": {
    "collapsed": false
   },
   "outputs": [
    {
     "name": "stdout",
     "output_type": "stream",
     "text": [
      "[620000, ... ]\n"
     ]
    }
   ],
   "source": [
    "print house1['price']"
   ]
  },
  {
   "cell_type": "code",
   "execution_count": 31,
   "metadata": {
    "collapsed": false
   },
   "outputs": [
    {
     "name": "stdout",
     "output_type": "stream",
     "text": [
      "[628978.2748992002]\n"
     ]
    }
   ],
   "source": [
    "print sqft_model.predict(house1)"
   ]
  },
  {
   "cell_type": "code",
   "execution_count": 32,
   "metadata": {
    "collapsed": false
   },
   "outputs": [
    {
     "name": "stdout",
     "output_type": "stream",
     "text": [
      "[720841.373674419]\n"
     ]
    }
   ],
   "source": [
    "print my_features_model.predict(house1)"
   ]
  },
  {
   "cell_type": "markdown",
   "metadata": {},
   "source": [
    "In this case, the model with more features provides a worse prediction than the simpler model with only 1 feature.  However, on average, the model with more features is better."
   ]
  },
  {
   "cell_type": "markdown",
   "metadata": {},
   "source": [
    "##Prediction for a second, fancier house\n",
    "\n",
    "We will now examine the predictions for a fancier house."
   ]
  },
  {
   "cell_type": "code",
   "execution_count": 33,
   "metadata": {
    "collapsed": true
   },
   "outputs": [],
   "source": [
    "house2 = sales[sales['id']=='1925069082']"
   ]
  },
  {
   "cell_type": "code",
   "execution_count": 34,
   "metadata": {
    "collapsed": false
   },
   "outputs": [
    {
     "data": {
      "text/html": [
       "<div style=\"max-height:1000px;max-width:1500px;overflow:auto;\"><table frame=\"box\" rules=\"cols\">\n",
       "    <tr>\n",
       "        <th style=\"padding-left: 1em; padding-right: 1em; text-align: center\">id</th>\n",
       "        <th style=\"padding-left: 1em; padding-right: 1em; text-align: center\">date</th>\n",
       "        <th style=\"padding-left: 1em; padding-right: 1em; text-align: center\">price</th>\n",
       "        <th style=\"padding-left: 1em; padding-right: 1em; text-align: center\">bedrooms</th>\n",
       "        <th style=\"padding-left: 1em; padding-right: 1em; text-align: center\">bathrooms</th>\n",
       "        <th style=\"padding-left: 1em; padding-right: 1em; text-align: center\">sqft_living</th>\n",
       "        <th style=\"padding-left: 1em; padding-right: 1em; text-align: center\">sqft_lot</th>\n",
       "        <th style=\"padding-left: 1em; padding-right: 1em; text-align: center\">floors</th>\n",
       "        <th style=\"padding-left: 1em; padding-right: 1em; text-align: center\">waterfront</th>\n",
       "    </tr>\n",
       "    <tr>\n",
       "        <td style=\"padding-left: 1em; padding-right: 1em; text-align: center; vertical-align: top\">1925069082</td>\n",
       "        <td style=\"padding-left: 1em; padding-right: 1em; text-align: center; vertical-align: top\">2015-05-11 00:00:00+00:00</td>\n",
       "        <td style=\"padding-left: 1em; padding-right: 1em; text-align: center; vertical-align: top\">2200000</td>\n",
       "        <td style=\"padding-left: 1em; padding-right: 1em; text-align: center; vertical-align: top\">5</td>\n",
       "        <td style=\"padding-left: 1em; padding-right: 1em; text-align: center; vertical-align: top\">4.25</td>\n",
       "        <td style=\"padding-left: 1em; padding-right: 1em; text-align: center; vertical-align: top\">4640</td>\n",
       "        <td style=\"padding-left: 1em; padding-right: 1em; text-align: center; vertical-align: top\">22703</td>\n",
       "        <td style=\"padding-left: 1em; padding-right: 1em; text-align: center; vertical-align: top\">2</td>\n",
       "        <td style=\"padding-left: 1em; padding-right: 1em; text-align: center; vertical-align: top\">1</td>\n",
       "    </tr>\n",
       "</table>\n",
       "<table frame=\"box\" rules=\"cols\">\n",
       "    <tr>\n",
       "        <th style=\"padding-left: 1em; padding-right: 1em; text-align: center\">view</th>\n",
       "        <th style=\"padding-left: 1em; padding-right: 1em; text-align: center\">condition</th>\n",
       "        <th style=\"padding-left: 1em; padding-right: 1em; text-align: center\">grade</th>\n",
       "        <th style=\"padding-left: 1em; padding-right: 1em; text-align: center\">sqft_above</th>\n",
       "        <th style=\"padding-left: 1em; padding-right: 1em; text-align: center\">sqft_basement</th>\n",
       "        <th style=\"padding-left: 1em; padding-right: 1em; text-align: center\">yr_built</th>\n",
       "        <th style=\"padding-left: 1em; padding-right: 1em; text-align: center\">yr_renovated</th>\n",
       "        <th style=\"padding-left: 1em; padding-right: 1em; text-align: center\">zipcode</th>\n",
       "        <th style=\"padding-left: 1em; padding-right: 1em; text-align: center\">lat</th>\n",
       "    </tr>\n",
       "    <tr>\n",
       "        <td style=\"padding-left: 1em; padding-right: 1em; text-align: center; vertical-align: top\">4</td>\n",
       "        <td style=\"padding-left: 1em; padding-right: 1em; text-align: center; vertical-align: top\">5</td>\n",
       "        <td style=\"padding-left: 1em; padding-right: 1em; text-align: center; vertical-align: top\">8</td>\n",
       "        <td style=\"padding-left: 1em; padding-right: 1em; text-align: center; vertical-align: top\">2860</td>\n",
       "        <td style=\"padding-left: 1em; padding-right: 1em; text-align: center; vertical-align: top\">1780</td>\n",
       "        <td style=\"padding-left: 1em; padding-right: 1em; text-align: center; vertical-align: top\">1952</td>\n",
       "        <td style=\"padding-left: 1em; padding-right: 1em; text-align: center; vertical-align: top\">0</td>\n",
       "        <td style=\"padding-left: 1em; padding-right: 1em; text-align: center; vertical-align: top\">98052</td>\n",
       "        <td style=\"padding-left: 1em; padding-right: 1em; text-align: center; vertical-align: top\">47.63925783</td>\n",
       "    </tr>\n",
       "</table>\n",
       "<table frame=\"box\" rules=\"cols\">\n",
       "    <tr>\n",
       "        <th style=\"padding-left: 1em; padding-right: 1em; text-align: center\">long</th>\n",
       "        <th style=\"padding-left: 1em; padding-right: 1em; text-align: center\">sqft_living15</th>\n",
       "        <th style=\"padding-left: 1em; padding-right: 1em; text-align: center\">sqft_lot15</th>\n",
       "    </tr>\n",
       "    <tr>\n",
       "        <td style=\"padding-left: 1em; padding-right: 1em; text-align: center; vertical-align: top\">-122.09722322</td>\n",
       "        <td style=\"padding-left: 1em; padding-right: 1em; text-align: center; vertical-align: top\">3140.0</td>\n",
       "        <td style=\"padding-left: 1em; padding-right: 1em; text-align: center; vertical-align: top\">14200.0</td>\n",
       "    </tr>\n",
       "</table>\n",
       "[? rows x 21 columns]<br/>Note: Only the head of the SFrame is printed. This SFrame is lazily evaluated.<br/>You can use len(sf) to force materialization.\n",
       "</div>"
      ],
      "text/plain": [
       "Columns:\n",
       "\tid\tstr\n",
       "\tdate\tdatetime\n",
       "\tprice\tint\n",
       "\tbedrooms\tstr\n",
       "\tbathrooms\tstr\n",
       "\tsqft_living\tint\n",
       "\tsqft_lot\tint\n",
       "\tfloors\tstr\n",
       "\twaterfront\tint\n",
       "\tview\tint\n",
       "\tcondition\tint\n",
       "\tgrade\tint\n",
       "\tsqft_above\tint\n",
       "\tsqft_basement\tint\n",
       "\tyr_built\tint\n",
       "\tyr_renovated\tint\n",
       "\tzipcode\tstr\n",
       "\tlat\tfloat\n",
       "\tlong\tfloat\n",
       "\tsqft_living15\tfloat\n",
       "\tsqft_lot15\tfloat\n",
       "\n",
       "Rows: Unknown\n",
       "\n",
       "Data:\n",
       "+------------+---------------------------+---------+----------+-----------+-------------+\n",
       "|     id     |            date           |  price  | bedrooms | bathrooms | sqft_living |\n",
       "+------------+---------------------------+---------+----------+-----------+-------------+\n",
       "| 1925069082 | 2015-05-11 00:00:00+00:00 | 2200000 |    5     |    4.25   |     4640    |\n",
       "+------------+---------------------------+---------+----------+-----------+-------------+\n",
       "+----------+--------+------------+------+-----------+-------+------------+---------------+\n",
       "| sqft_lot | floors | waterfront | view | condition | grade | sqft_above | sqft_basement |\n",
       "+----------+--------+------------+------+-----------+-------+------------+---------------+\n",
       "|  22703   |   2    |     1      |  4   |     5     |   8   |    2860    |      1780     |\n",
       "+----------+--------+------------+------+-----------+-------+------------+---------------+\n",
       "+----------+--------------+---------+-------------+---------------+---------------+-----+\n",
       "| yr_built | yr_renovated | zipcode |     lat     |      long     | sqft_living15 | ... |\n",
       "+----------+--------------+---------+-------------+---------------+---------------+-----+\n",
       "|   1952   |      0       |  98052  | 47.63925783 | -122.09722322 |     3140.0    | ... |\n",
       "+----------+--------------+---------+-------------+---------------+---------------+-----+\n",
       "[? rows x 21 columns]\n",
       "Note: Only the head of the SFrame is printed. This SFrame is lazily evaluated.\n",
       "You can use len(sf) to force materialization."
      ]
     },
     "execution_count": 34,
     "metadata": {},
     "output_type": "execute_result"
    }
   ],
   "source": [
    "house2"
   ]
  },
  {
   "cell_type": "markdown",
   "metadata": {},
   "source": [
    "<img src=\"house-1925069082.jpg\">"
   ]
  },
  {
   "cell_type": "code",
   "execution_count": 35,
   "metadata": {
    "collapsed": false
   },
   "outputs": [
    {
     "name": "stdout",
     "output_type": "stream",
     "text": [
      "[1257884.8258877606]\n"
     ]
    }
   ],
   "source": [
    "print sqft_model.predict(house2)"
   ]
  },
  {
   "cell_type": "code",
   "execution_count": 37,
   "metadata": {
    "collapsed": false
   },
   "outputs": [
    {
     "name": "stdout",
     "output_type": "stream",
     "text": [
      "[1388494.333914893]\n"
     ]
    }
   ],
   "source": [
    "print my_features_model.predict(house2)"
   ]
  },
  {
   "cell_type": "markdown",
   "metadata": {},
   "source": [
    "In this case, the model with more features provides a better prediction.  This behavior is expected here, because this house is more differentiated by features that go beyond its square feet of living space, especially the fact that it's a waterfront house. "
   ]
  },
  {
   "cell_type": "markdown",
   "metadata": {},
   "source": [
    "##Last house, super fancy\n",
    "\n",
    "Our last house is a very large one owned by a famous Seattleite."
   ]
  },
  {
   "cell_type": "code",
   "execution_count": 38,
   "metadata": {
    "collapsed": true
   },
   "outputs": [],
   "source": [
    "bill_gates = {'bedrooms':[8], \n",
    "              'bathrooms':[25], \n",
    "              'sqft_living':[50000], \n",
    "              'sqft_lot':[225000],\n",
    "              'floors':[4], \n",
    "              'zipcode':['98039'], \n",
    "              'condition':[10], \n",
    "              'grade':[10],\n",
    "              'waterfront':[1],\n",
    "              'view':[4],\n",
    "              'sqft_above':[37500],\n",
    "              'sqft_basement':[12500],\n",
    "              'yr_built':[1994],\n",
    "              'yr_renovated':[2010],\n",
    "              'lat':[47.627606],\n",
    "              'long':[-122.242054],\n",
    "              'sqft_living15':[5000],\n",
    "              'sqft_lot15':[40000]}"
   ]
  },
  {
   "cell_type": "markdown",
   "metadata": {},
   "source": [
    "<img src=\"house-bill-gates.jpg\">"
   ]
  },
  {
   "cell_type": "code",
   "execution_count": 41,
   "metadata": {
    "collapsed": false
   },
   "outputs": [
    {
     "name": "stdout",
     "output_type": "stream",
     "text": [
      "[13757651.678298399]\n"
     ]
    }
   ],
   "source": [
    "print my_features_model.predict(graphlab.SFrame(bill_gates))"
   ]
  },
  {
   "cell_type": "markdown",
   "metadata": {
    "collapsed": true
   },
   "source": [
    "The model predicts a price of over $13M for this house! But we expect the house to cost much more.  (There are very few samples in the dataset of houses that are this fancy, so we don't expect the model to capture a perfect prediction here.)"
   ]
  },
  {
   "cell_type": "code",
   "execution_count": null,
   "metadata": {
    "collapsed": true
   },
   "outputs": [],
   "source": []
  }
 ],
 "metadata": {
  "kernelspec": {
   "display_name": "Python 2",
   "language": "python",
   "name": "python2"
  },
  "language_info": {
   "codemirror_mode": {
    "name": "ipython",
    "version": 2
   },
   "file_extension": ".py",
   "mimetype": "text/x-python",
   "name": "python",
   "nbconvert_exporter": "python",
   "pygments_lexer": "ipython2",
   "version": "2.7.6"
  }
 },
 "nbformat": 4,
 "nbformat_minor": 0
}
