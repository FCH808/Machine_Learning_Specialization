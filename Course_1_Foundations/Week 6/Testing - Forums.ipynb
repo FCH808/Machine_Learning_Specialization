{
 "cells": [
  {
   "cell_type": "code",
   "execution_count": 1,
   "metadata": {
    "collapsed": true
   },
   "outputs": [],
   "source": [
    "import numpy as np"
   ]
  },
  {
   "cell_type": "code",
   "execution_count": 442,
   "metadata": {
    "collapsed": false
   },
   "outputs": [],
   "source": [
    "def layer(weights, boolean_values):\n",
    "    ''' Returns 0 or 1 (whether the neuron gets activated or not) depending on \n",
    "          whether the dot product of the weights and boolean_values provided\n",
    "          are negative or positive.\n",
    "    \n",
    "    Args:\n",
    "        weights - list of weights for the neuron in the layer\n",
    "        values  - list of values for the neuron in the layer\n",
    "    \n",
    "    Returns:\n",
    "        float -  1.0 if value of sum of weights times boolean activations is > 0\n",
    "              -  0.0 if value of sum of weights times boolean activations is <= 0\n",
    "    '''\n",
    "        \n",
    "    weights = np.array(weights)\n",
    "    boolean_values = np.array(boolean_values)\n",
    "    \n",
    "    # If there is only a scalar left in the np array, we can grab it with .item()\n",
    "    # Here: indexing into the array would also work. \n",
    "    #       i.e. weights.dot(values.T)[0]\n",
    "    out_value = weights.dot(boolean_values.T).item()\n",
    "    \n",
    "    # From lecture slide:\n",
    "    #      Thresholded to 0 or 1\n",
    "    if out_value <= 0.0:\n",
    "        out_value = 0.0\n",
    "    else:\n",
    "        out_value = 1.0\n",
    "    return out_value # Return just the sign of the resulting value"
   ]
  },
  {
   "cell_type": "code",
   "execution_count": 443,
   "metadata": {
    "collapsed": false
   },
   "outputs": [],
   "source": [
    "bias = -0.5\n",
    "bias_always_on = 1.0\n",
    "\n",
    "x1 = 1\n",
    "NOTx1 = 0\n",
    "\n",
    "x2 = 1\n",
    "NOTx2 = 0"
   ]
  },
  {
   "cell_type": "code",
   "execution_count": 444,
   "metadata": {
    "collapsed": false
   },
   "outputs": [
    {
     "data": {
      "text/plain": [
       "1.0"
      ]
     },
     "execution_count": 444,
     "metadata": {},
     "output_type": "execute_result"
    }
   ],
   "source": [
    "# x1 AND NOT x2\n",
    "\n",
    "z1 = layer(weights=[bias, 1, -1], \n",
    "           boolean_values=[bias_always_on, x1, NOTx2])\n",
    "# Equivalent to:\n",
    "z1 = layer(weights=[-0.5, 1, -1],\n",
    "           boolean_values=[1, 1, 0])\n",
    "z1"
   ]
  },
  {
   "cell_type": "code",
   "execution_count": 445,
   "metadata": {
    "collapsed": false
   },
   "outputs": [
    {
     "data": {
      "text/plain": [
       "1.0"
      ]
     },
     "execution_count": 445,
     "metadata": {},
     "output_type": "execute_result"
    }
   ],
   "source": [
    "# NOT x1 AND x2\n",
    "\n",
    "z2 = layer(weights=[bias, -1, 1],\n",
    "           boolean_values=[bias_always_on, NOTx1, x2])\n",
    "# Equivalent to:\n",
    "# z2 = layer(weights=[-0.5, -1, 1], boolean_values=[1, 0, 1])\n",
    "z2"
   ]
  },
  {
   "cell_type": "code",
   "execution_count": 448,
   "metadata": {
    "collapsed": false
   },
   "outputs": [],
   "source": [
    "# From lecture:\n",
    "#    \"In the last step, if z1 and z2 exist, all we have to do is 'OR' them\"\n",
    "y = layer(weights=[bias, z1, z2], \n",
    "          boolean_values=[bias_always_on, 1, 0])"
   ]
  },
  {
   "cell_type": "code",
   "execution_count": 449,
   "metadata": {
    "collapsed": false
   },
   "outputs": [
    {
     "data": {
      "text/plain": [
       "1.0"
      ]
     },
     "execution_count": 449,
     "metadata": {},
     "output_type": "execute_result"
    }
   ],
   "source": [
    "y"
   ]
  },
  {
   "cell_type": "code",
   "execution_count": 298,
   "metadata": {
    "collapsed": false
   },
   "outputs": [
    {
     "data": {
      "text/plain": [
       "[1, 1, 0]"
      ]
     },
     "execution_count": 298,
     "metadata": {},
     "output_type": "execute_result"
    }
   ],
   "source": [
    "[1, 1, 0]"
   ]
  },
  {
   "cell_type": "code",
   "execution_count": 482,
   "metadata": {
    "collapsed": false
   },
   "outputs": [],
   "source": [
    "class Layer(object):\n",
    "    'Neuron'\n",
    "    def __init__(self, weights, boolean_values):\n",
    "        self.weights = np.array(weights)\n",
    "        self.boolean_values = np.array(boolean_values)\n",
    "        \n",
    "        out_value = self.weights.dot(self.boolean_values.T).item()\n",
    "        \n",
    "        if out_value <= 0.0:\n",
    "            out_value = 0.0\n",
    "        else:\n",
    "            out_value = 1.0\n",
    "        \n",
    "        self.out_value = out_value\n",
    "        \n",
    "    def get_out_value(self):\n",
    "        return self.out_value\n",
    "    \n",
    "    def get_weights(self):\n",
    "        return self.weights\n",
    "    \n",
    "    def get_boolean_values(self):\n",
    "        return self.boolean_values\n",
    "    \n",
    "    def __str__(self):\n",
    "        return 'Activation: {}'.format(self.out_value)\n",
    "    \n",
    "    __repr__ = __str__"
   ]
  },
  {
   "cell_type": "code",
   "execution_count": 483,
   "metadata": {
    "collapsed": false
   },
   "outputs": [],
   "source": [
    "z1 = Layer([-0.5, 1, -1], [1, 1, 0])"
   ]
  },
  {
   "cell_type": "code",
   "execution_count": 484,
   "metadata": {
    "collapsed": false
   },
   "outputs": [
    {
     "data": {
      "text/plain": [
       "1.0"
      ]
     },
     "execution_count": 484,
     "metadata": {},
     "output_type": "execute_result"
    }
   ],
   "source": [
    "z1.get_out_value()"
   ]
  },
  {
   "cell_type": "code",
   "execution_count": 485,
   "metadata": {
    "collapsed": false
   },
   "outputs": [
    {
     "data": {
      "text/plain": [
       "array([1, 1, 0])"
      ]
     },
     "execution_count": 485,
     "metadata": {},
     "output_type": "execute_result"
    }
   ],
   "source": [
    "z1.get_boolean_values()"
   ]
  },
  {
   "cell_type": "code",
   "execution_count": 486,
   "metadata": {
    "collapsed": false
   },
   "outputs": [
    {
     "data": {
      "text/plain": [
       "array([-0.5,  1. , -1. ])"
      ]
     },
     "execution_count": 486,
     "metadata": {},
     "output_type": "execute_result"
    }
   ],
   "source": [
    "z1.get_weights()"
   ]
  },
  {
   "cell_type": "code",
   "execution_count": 487,
   "metadata": {
    "collapsed": false
   },
   "outputs": [
    {
     "data": {
      "text/plain": [
       "__main__.Layer"
      ]
     },
     "execution_count": 487,
     "metadata": {},
     "output_type": "execute_result"
    }
   ],
   "source": [
    "type(z1)"
   ]
  },
  {
   "cell_type": "code",
   "execution_count": 488,
   "metadata": {
    "collapsed": false
   },
   "outputs": [
    {
     "data": {
      "text/plain": [
       "Activation: 1.0"
      ]
     },
     "execution_count": 488,
     "metadata": {},
     "output_type": "execute_result"
    }
   ],
   "source": [
    "z1"
   ]
  },
  {
   "cell_type": "code",
   "execution_count": 489,
   "metadata": {
    "collapsed": false
   },
   "outputs": [
    {
     "name": "stdout",
     "output_type": "stream",
     "text": [
      "Activation: 1.0\n"
     ]
    }
   ],
   "source": [
    "print z1"
   ]
  },
  {
   "cell_type": "code",
   "execution_count": null,
   "metadata": {
    "collapsed": true
   },
   "outputs": [],
   "source": []
  }
 ],
 "metadata": {
  "kernelspec": {
   "display_name": "Python 2",
   "language": "python",
   "name": "python2"
  },
  "language_info": {
   "codemirror_mode": {
    "name": "ipython",
    "version": 2
   },
   "file_extension": ".py",
   "mimetype": "text/x-python",
   "name": "python",
   "nbconvert_exporter": "python",
   "pygments_lexer": "ipython2",
   "version": "2.7.10"
  }
 },
 "nbformat": 4,
 "nbformat_minor": 0
}
