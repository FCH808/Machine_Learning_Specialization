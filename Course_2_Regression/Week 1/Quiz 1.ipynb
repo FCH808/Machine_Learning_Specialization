{
 "cells": [
  {
   "cell_type": "code",
   "execution_count": 8,
   "metadata": {},
   "outputs": [
    {
     "name": "stdout",
     "output_type": "stream",
     "text": [
      "House value at month 10: 5999\n",
      "House price exceeds 11998.0 at month 52.1 with a price of 12005.0\n"
     ]
    }
   ],
   "source": [
    "def pred_house(months):\n",
    "    return 4569 + 143*months\n",
    "\n",
    "print 'House value at month 10: {0}'.format(pred_house(10))\n",
    "\n",
    "pred_month = 10.\n",
    "predicted_price = pred_house(pred_month)\n",
    "pred_at_10 = pred_house(10.)\n",
    "\n",
    "while predicted_price <= pred_at_10 * 2.:\n",
    "    predicted_price = pred_house(pred_month)\n",
    "    pred_month += .1\n",
    "print 'House price exceeds {double} at month {month} with a price of {est_price}'.format(double=pred_at_10*2.,\n",
    "                                                                                         month=pred_month,\n",
    "                                                                                         est_price=predicted_price)"
   ]
  },
  {
   "cell_type": "code",
   "execution_count": null,
   "metadata": {},
   "outputs": [],
   "source": [
    ""
   ]
  },
  {
   "cell_type": "code",
   "execution_count": 23,
   "metadata": {},
   "outputs": [],
   "source": [
    "def predict_house_sqft(x):\n",
    "    return -44850 + 280.76*x"
   ]
  },
  {
   "cell_type": "code",
   "execution_count": 24,
   "metadata": {},
   "outputs": [],
   "source": [
    "def convert_ft_to_m(ft):\n",
    "    return ft*0.092903"
   ]
  },
  {
   "cell_type": "code",
   "execution_count": 26,
   "metadata": {},
   "outputs": [
    {
     "data": {
      "text/plain": [
       "235910.0"
      ]
     },
     "execution_count": 26,
     "output_type": "execute_result",
     "metadata": {}
    }
   ],
   "source": [
    "predict_house_sqft(1000)"
   ]
  },
  {
   "cell_type": "code",
   "execution_count": 27,
   "metadata": {},
   "outputs": [
    {
     "data": {
      "text/plain": [
       "92.903"
      ]
     },
     "execution_count": 27,
     "output_type": "execute_result",
     "metadata": {}
    }
   ],
   "source": [
    "convert_ft_to_m(1000)"
   ]
  },
  {
   "cell_type": "code",
   "execution_count": 70,
   "metadata": {},
   "outputs": [],
   "source": [
    "def predict_house_meters(x):\n",
    "    return (-44850) + (280.76/(0.092903)) * x"
   ]
  },
  {
   "cell_type": "code",
   "execution_count": 71,
   "metadata": {},
   "outputs": [
    {
     "data": {
      "text/plain": [
       "235910.0"
      ]
     },
     "execution_count": 71,
     "output_type": "execute_result",
     "metadata": {}
    }
   ],
   "source": [
    "predict_house_meters(92.903)"
   ]
  },
  {
   "cell_type": "code",
   "execution_count": 73,
   "metadata": {},
   "outputs": [
    {
     "data": {
      "text/plain": [
       "3022.076789769975"
      ]
     },
     "execution_count": 73,
     "output_type": "execute_result",
     "metadata": {}
    }
   ],
   "source": [
    "280.76/(0.092903)"
   ]
  }
 ],
 "metadata": {
  "kernelspec": {
   "display_name": "Python 2",
   "language": "python",
   "name": "python2"
  },
  "language_info": {
   "codemirror_mode": {
    "name": "ipython",
    "version": 2.0
   },
   "file_extension": ".py",
   "mimetype": "text/x-python",
   "name": "python",
   "nbconvert_exporter": "python",
   "pygments_lexer": "ipython2",
   "version": "2.7.6"
  }
 },
 "nbformat": 4,
 "nbformat_minor": 0
}